{
 "cells": [
  {
   "cell_type": "code",
   "execution_count": 1,
   "metadata": {},
   "outputs": [],
   "source": [
    "# %matplotlib inline\n",
    "import matplotlib.pyplot as plt\n",
    "import numpy as np\n",
    "import pandas as pd\n",
    "import datetime\n",
    "from sklearn.datasets import make_regression\n",
    "from pandas.plotting import autocorrelation_plot\n",
    "from statsmodels.tsa.arima_model import ARIMA\n",
    "from sklearn.model_selection import train_test_split\n",
    "from sklearn.metrics import mean_squared_error\n",
    "from sklearn.metrics import r2_score\n",
    "import math"
   ]
  },
  {
   "cell_type": "markdown",
   "metadata": {},
   "source": [
    "# 1. Data Cleaning"
   ]
  },
  {
   "cell_type": "code",
   "execution_count": 2,
   "metadata": {},
   "outputs": [],
   "source": [
    "import matplotlib.pyplot as plt\n",
    "import pandas as pd\n",
    "import numpy as np"
   ]
  },
  {
   "cell_type": "code",
   "execution_count": 3,
   "metadata": {},
   "outputs": [],
   "source": [
    "weather_data = pd.read_csv('NYC_2000s.csv')"
   ]
  },
  {
   "cell_type": "code",
   "execution_count": 4,
   "metadata": {},
   "outputs": [
    {
     "data": {
      "text/plain": [
       "Index(['STATION', 'NAME', 'LATITUDE', 'LONGITUDE', 'ELEVATION', 'DATE', 'DAPR',\n",
       "       'MDPR', 'PRCP', 'SNOW', 'SNWD', 'TAVG', 'TMAX', 'TMIN', 'WT01', 'WT02',\n",
       "       'WT03', 'WT04', 'WT05', 'WT06', 'WT07', 'WT08', 'WT09', 'WT11', 'WT13',\n",
       "       'WT14', 'WT15', 'WT16', 'WT17', 'WT18', 'WT19', 'WT22'],\n",
       "      dtype='object')"
      ]
     },
     "execution_count": 4,
     "metadata": {},
     "output_type": "execute_result"
    }
   ],
   "source": [
    "weather_data.columns"
   ]
  },
  {
   "cell_type": "code",
   "execution_count": 5,
   "metadata": {},
   "outputs": [],
   "source": [
    "weather_df=weather_data.drop(['TAVG','SNWD','STATION', 'NAME', 'LATITUDE', 'LONGITUDE', 'ELEVATION','DAPR','MDPR','WT01', 'WT02','WT03', 'WT04', 'WT05', 'WT06', 'WT07', 'WT08', 'WT09', 'WT11', 'WT13','WT14', 'WT15', 'WT16', 'WT17', 'WT18', 'WT19', 'WT22'], axis=1)"
   ]
  },
  {
   "cell_type": "code",
   "execution_count": 6,
   "metadata": {},
   "outputs": [
    {
     "name": "stdout",
     "output_type": "stream",
     "text": [
      "<class 'pandas.core.frame.DataFrame'>\n",
      "RangeIndex: 7881 entries, 0 to 7880\n",
      "Data columns (total 5 columns):\n",
      " #   Column  Non-Null Count  Dtype  \n",
      "---  ------  --------------  -----  \n",
      " 0   DATE    7881 non-null   object \n",
      " 1   PRCP    7842 non-null   float64\n",
      " 2   SNOW    7504 non-null   float64\n",
      " 3   TMAX    7498 non-null   float64\n",
      " 4   TMIN    7498 non-null   float64\n",
      "dtypes: float64(4), object(1)\n",
      "memory usage: 308.0+ KB\n"
     ]
    }
   ],
   "source": [
    "weather_df.info()"
   ]
  },
  {
   "cell_type": "code",
   "execution_count": 7,
   "metadata": {},
   "outputs": [],
   "source": [
    "nyc=weather_df.dropna()"
   ]
  },
  {
   "cell_type": "code",
   "execution_count": 8,
   "metadata": {},
   "outputs": [
    {
     "data": {
      "text/html": [
       "<div>\n",
       "<style scoped>\n",
       "    .dataframe tbody tr th:only-of-type {\n",
       "        vertical-align: middle;\n",
       "    }\n",
       "\n",
       "    .dataframe tbody tr th {\n",
       "        vertical-align: top;\n",
       "    }\n",
       "\n",
       "    .dataframe thead th {\n",
       "        text-align: right;\n",
       "    }\n",
       "</style>\n",
       "<table border=\"1\" class=\"dataframe\">\n",
       "  <thead>\n",
       "    <tr style=\"text-align: right;\">\n",
       "      <th></th>\n",
       "      <th>DATE</th>\n",
       "      <th>PRCP</th>\n",
       "      <th>SNOW</th>\n",
       "      <th>TMAX</th>\n",
       "      <th>TMIN</th>\n",
       "    </tr>\n",
       "  </thead>\n",
       "  <tbody>\n",
       "    <tr>\n",
       "      <th>0</th>\n",
       "      <td>2000-01-01</td>\n",
       "      <td>0.0</td>\n",
       "      <td>0.0</td>\n",
       "      <td>10.0</td>\n",
       "      <td>1.1</td>\n",
       "    </tr>\n",
       "    <tr>\n",
       "      <th>1</th>\n",
       "      <td>2000-01-02</td>\n",
       "      <td>0.0</td>\n",
       "      <td>0.0</td>\n",
       "      <td>15.6</td>\n",
       "      <td>6.1</td>\n",
       "    </tr>\n",
       "    <tr>\n",
       "      <th>2</th>\n",
       "      <td>2000-01-03</td>\n",
       "      <td>0.0</td>\n",
       "      <td>0.0</td>\n",
       "      <td>17.8</td>\n",
       "      <td>10.6</td>\n",
       "    </tr>\n",
       "    <tr>\n",
       "      <th>3</th>\n",
       "      <td>2000-01-04</td>\n",
       "      <td>17.8</td>\n",
       "      <td>0.0</td>\n",
       "      <td>15.6</td>\n",
       "      <td>7.8</td>\n",
       "    </tr>\n",
       "    <tr>\n",
       "      <th>4</th>\n",
       "      <td>2000-01-05</td>\n",
       "      <td>0.0</td>\n",
       "      <td>0.0</td>\n",
       "      <td>8.3</td>\n",
       "      <td>-1.7</td>\n",
       "    </tr>\n",
       "    <tr>\n",
       "      <th>...</th>\n",
       "      <td>...</td>\n",
       "      <td>...</td>\n",
       "      <td>...</td>\n",
       "      <td>...</td>\n",
       "      <td>...</td>\n",
       "    </tr>\n",
       "    <tr>\n",
       "      <th>7493</th>\n",
       "      <td>2020-07-07</td>\n",
       "      <td>0.0</td>\n",
       "      <td>0.0</td>\n",
       "      <td>27.8</td>\n",
       "      <td>22.2</td>\n",
       "    </tr>\n",
       "    <tr>\n",
       "      <th>7494</th>\n",
       "      <td>2020-07-08</td>\n",
       "      <td>0.5</td>\n",
       "      <td>0.0</td>\n",
       "      <td>28.3</td>\n",
       "      <td>23.9</td>\n",
       "    </tr>\n",
       "    <tr>\n",
       "      <th>7495</th>\n",
       "      <td>2020-07-09</td>\n",
       "      <td>0.0</td>\n",
       "      <td>0.0</td>\n",
       "      <td>31.7</td>\n",
       "      <td>23.9</td>\n",
       "    </tr>\n",
       "    <tr>\n",
       "      <th>7496</th>\n",
       "      <td>2020-07-10</td>\n",
       "      <td>64.5</td>\n",
       "      <td>0.0</td>\n",
       "      <td>25.0</td>\n",
       "      <td>22.8</td>\n",
       "    </tr>\n",
       "    <tr>\n",
       "      <th>7497</th>\n",
       "      <td>2020-07-11</td>\n",
       "      <td>19.3</td>\n",
       "      <td>0.0</td>\n",
       "      <td>28.3</td>\n",
       "      <td>22.2</td>\n",
       "    </tr>\n",
       "  </tbody>\n",
       "</table>\n",
       "<p>7497 rows × 5 columns</p>\n",
       "</div>"
      ],
      "text/plain": [
       "            DATE  PRCP  SNOW  TMAX  TMIN\n",
       "0     2000-01-01   0.0   0.0  10.0   1.1\n",
       "1     2000-01-02   0.0   0.0  15.6   6.1\n",
       "2     2000-01-03   0.0   0.0  17.8  10.6\n",
       "3     2000-01-04  17.8   0.0  15.6   7.8\n",
       "4     2000-01-05   0.0   0.0   8.3  -1.7\n",
       "...          ...   ...   ...   ...   ...\n",
       "7493  2020-07-07   0.0   0.0  27.8  22.2\n",
       "7494  2020-07-08   0.5   0.0  28.3  23.9\n",
       "7495  2020-07-09   0.0   0.0  31.7  23.9\n",
       "7496  2020-07-10  64.5   0.0  25.0  22.8\n",
       "7497  2020-07-11  19.3   0.0  28.3  22.2\n",
       "\n",
       "[7497 rows x 5 columns]"
      ]
     },
     "execution_count": 8,
     "metadata": {},
     "output_type": "execute_result"
    }
   ],
   "source": [
    "nyc"
   ]
  },
  {
   "cell_type": "code",
   "execution_count": 9,
   "metadata": {},
   "outputs": [
    {
     "name": "stderr",
     "output_type": "stream",
     "text": [
      "C:\\Users\\LKNT\\anaconda3\\envs\\PythonAvd\\lib\\site-packages\\ipykernel_launcher.py:1: SettingWithCopyWarning: \n",
      "A value is trying to be set on a copy of a slice from a DataFrame.\n",
      "Try using .loc[row_indexer,col_indexer] = value instead\n",
      "\n",
      "See the caveats in the documentation: https://pandas.pydata.org/pandas-docs/stable/user_guide/indexing.html#returning-a-view-versus-a-copy\n",
      "  \"\"\"Entry point for launching an IPython kernel.\n"
     ]
    }
   ],
   "source": [
    "nyc['AVG_Temp']=(nyc['TMAX']+nyc['TMIN'])/2"
   ]
  },
  {
   "cell_type": "code",
   "execution_count": 10,
   "metadata": {},
   "outputs": [
    {
     "data": {
      "text/html": [
       "<div>\n",
       "<style scoped>\n",
       "    .dataframe tbody tr th:only-of-type {\n",
       "        vertical-align: middle;\n",
       "    }\n",
       "\n",
       "    .dataframe tbody tr th {\n",
       "        vertical-align: top;\n",
       "    }\n",
       "\n",
       "    .dataframe thead th {\n",
       "        text-align: right;\n",
       "    }\n",
       "</style>\n",
       "<table border=\"1\" class=\"dataframe\">\n",
       "  <thead>\n",
       "    <tr style=\"text-align: right;\">\n",
       "      <th></th>\n",
       "      <th>DATE</th>\n",
       "      <th>PRCP</th>\n",
       "      <th>SNOW</th>\n",
       "      <th>TMAX</th>\n",
       "      <th>TMIN</th>\n",
       "      <th>AVG_Temp</th>\n",
       "    </tr>\n",
       "  </thead>\n",
       "  <tbody>\n",
       "    <tr>\n",
       "      <th>0</th>\n",
       "      <td>2000-01-01</td>\n",
       "      <td>0.0</td>\n",
       "      <td>0.0</td>\n",
       "      <td>10.0</td>\n",
       "      <td>1.1</td>\n",
       "      <td>5.55</td>\n",
       "    </tr>\n",
       "    <tr>\n",
       "      <th>1</th>\n",
       "      <td>2000-01-02</td>\n",
       "      <td>0.0</td>\n",
       "      <td>0.0</td>\n",
       "      <td>15.6</td>\n",
       "      <td>6.1</td>\n",
       "      <td>10.85</td>\n",
       "    </tr>\n",
       "    <tr>\n",
       "      <th>2</th>\n",
       "      <td>2000-01-03</td>\n",
       "      <td>0.0</td>\n",
       "      <td>0.0</td>\n",
       "      <td>17.8</td>\n",
       "      <td>10.6</td>\n",
       "      <td>14.20</td>\n",
       "    </tr>\n",
       "    <tr>\n",
       "      <th>3</th>\n",
       "      <td>2000-01-04</td>\n",
       "      <td>17.8</td>\n",
       "      <td>0.0</td>\n",
       "      <td>15.6</td>\n",
       "      <td>7.8</td>\n",
       "      <td>11.70</td>\n",
       "    </tr>\n",
       "    <tr>\n",
       "      <th>4</th>\n",
       "      <td>2000-01-05</td>\n",
       "      <td>0.0</td>\n",
       "      <td>0.0</td>\n",
       "      <td>8.3</td>\n",
       "      <td>-1.7</td>\n",
       "      <td>3.30</td>\n",
       "    </tr>\n",
       "    <tr>\n",
       "      <th>...</th>\n",
       "      <td>...</td>\n",
       "      <td>...</td>\n",
       "      <td>...</td>\n",
       "      <td>...</td>\n",
       "      <td>...</td>\n",
       "      <td>...</td>\n",
       "    </tr>\n",
       "    <tr>\n",
       "      <th>7493</th>\n",
       "      <td>2020-07-07</td>\n",
       "      <td>0.0</td>\n",
       "      <td>0.0</td>\n",
       "      <td>27.8</td>\n",
       "      <td>22.2</td>\n",
       "      <td>25.00</td>\n",
       "    </tr>\n",
       "    <tr>\n",
       "      <th>7494</th>\n",
       "      <td>2020-07-08</td>\n",
       "      <td>0.5</td>\n",
       "      <td>0.0</td>\n",
       "      <td>28.3</td>\n",
       "      <td>23.9</td>\n",
       "      <td>26.10</td>\n",
       "    </tr>\n",
       "    <tr>\n",
       "      <th>7495</th>\n",
       "      <td>2020-07-09</td>\n",
       "      <td>0.0</td>\n",
       "      <td>0.0</td>\n",
       "      <td>31.7</td>\n",
       "      <td>23.9</td>\n",
       "      <td>27.80</td>\n",
       "    </tr>\n",
       "    <tr>\n",
       "      <th>7496</th>\n",
       "      <td>2020-07-10</td>\n",
       "      <td>64.5</td>\n",
       "      <td>0.0</td>\n",
       "      <td>25.0</td>\n",
       "      <td>22.8</td>\n",
       "      <td>23.90</td>\n",
       "    </tr>\n",
       "    <tr>\n",
       "      <th>7497</th>\n",
       "      <td>2020-07-11</td>\n",
       "      <td>19.3</td>\n",
       "      <td>0.0</td>\n",
       "      <td>28.3</td>\n",
       "      <td>22.2</td>\n",
       "      <td>25.25</td>\n",
       "    </tr>\n",
       "  </tbody>\n",
       "</table>\n",
       "<p>7497 rows × 6 columns</p>\n",
       "</div>"
      ],
      "text/plain": [
       "            DATE  PRCP  SNOW  TMAX  TMIN  AVG_Temp\n",
       "0     2000-01-01   0.0   0.0  10.0   1.1      5.55\n",
       "1     2000-01-02   0.0   0.0  15.6   6.1     10.85\n",
       "2     2000-01-03   0.0   0.0  17.8  10.6     14.20\n",
       "3     2000-01-04  17.8   0.0  15.6   7.8     11.70\n",
       "4     2000-01-05   0.0   0.0   8.3  -1.7      3.30\n",
       "...          ...   ...   ...   ...   ...       ...\n",
       "7493  2020-07-07   0.0   0.0  27.8  22.2     25.00\n",
       "7494  2020-07-08   0.5   0.0  28.3  23.9     26.10\n",
       "7495  2020-07-09   0.0   0.0  31.7  23.9     27.80\n",
       "7496  2020-07-10  64.5   0.0  25.0  22.8     23.90\n",
       "7497  2020-07-11  19.3   0.0  28.3  22.2     25.25\n",
       "\n",
       "[7497 rows x 6 columns]"
      ]
     },
     "execution_count": 10,
     "metadata": {},
     "output_type": "execute_result"
    }
   ],
   "source": [
    "nyc"
   ]
  },
  {
   "cell_type": "code",
   "execution_count": 11,
   "metadata": {},
   "outputs": [],
   "source": [
    "nyc.to_csv('nyc_data.csv', index=False)"
   ]
  },
  {
   "cell_type": "code",
   "execution_count": null,
   "metadata": {},
   "outputs": [],
   "source": []
  },
  {
   "cell_type": "code",
   "execution_count": null,
   "metadata": {},
   "outputs": [],
   "source": []
  },
  {
   "cell_type": "markdown",
   "metadata": {},
   "source": [
    "# 2. Analysis"
   ]
  },
  {
   "cell_type": "code",
   "execution_count": 12,
   "metadata": {},
   "outputs": [
    {
     "data": {
      "text/html": [
       "<div>\n",
       "<style scoped>\n",
       "    .dataframe tbody tr th:only-of-type {\n",
       "        vertical-align: middle;\n",
       "    }\n",
       "\n",
       "    .dataframe tbody tr th {\n",
       "        vertical-align: top;\n",
       "    }\n",
       "\n",
       "    .dataframe thead th {\n",
       "        text-align: right;\n",
       "    }\n",
       "</style>\n",
       "<table border=\"1\" class=\"dataframe\">\n",
       "  <thead>\n",
       "    <tr style=\"text-align: right;\">\n",
       "      <th></th>\n",
       "      <th>DATE</th>\n",
       "      <th>PRCP</th>\n",
       "      <th>SNOW</th>\n",
       "      <th>TMAX</th>\n",
       "      <th>TMIN</th>\n",
       "      <th>AVG_Temp</th>\n",
       "    </tr>\n",
       "  </thead>\n",
       "  <tbody>\n",
       "    <tr>\n",
       "      <th>0</th>\n",
       "      <td>2000-01-01</td>\n",
       "      <td>0.0</td>\n",
       "      <td>0.0</td>\n",
       "      <td>10.0</td>\n",
       "      <td>1.1</td>\n",
       "      <td>5.55</td>\n",
       "    </tr>\n",
       "    <tr>\n",
       "      <th>1</th>\n",
       "      <td>2000-01-02</td>\n",
       "      <td>0.0</td>\n",
       "      <td>0.0</td>\n",
       "      <td>15.6</td>\n",
       "      <td>6.1</td>\n",
       "      <td>10.85</td>\n",
       "    </tr>\n",
       "    <tr>\n",
       "      <th>2</th>\n",
       "      <td>2000-01-03</td>\n",
       "      <td>0.0</td>\n",
       "      <td>0.0</td>\n",
       "      <td>17.8</td>\n",
       "      <td>10.6</td>\n",
       "      <td>14.20</td>\n",
       "    </tr>\n",
       "    <tr>\n",
       "      <th>3</th>\n",
       "      <td>2000-01-04</td>\n",
       "      <td>17.8</td>\n",
       "      <td>0.0</td>\n",
       "      <td>15.6</td>\n",
       "      <td>7.8</td>\n",
       "      <td>11.70</td>\n",
       "    </tr>\n",
       "    <tr>\n",
       "      <th>4</th>\n",
       "      <td>2000-01-05</td>\n",
       "      <td>0.0</td>\n",
       "      <td>0.0</td>\n",
       "      <td>8.3</td>\n",
       "      <td>-1.7</td>\n",
       "      <td>3.30</td>\n",
       "    </tr>\n",
       "  </tbody>\n",
       "</table>\n",
       "</div>"
      ],
      "text/plain": [
       "         DATE  PRCP  SNOW  TMAX  TMIN  AVG_Temp\n",
       "0  2000-01-01   0.0   0.0  10.0   1.1      5.55\n",
       "1  2000-01-02   0.0   0.0  15.6   6.1     10.85\n",
       "2  2000-01-03   0.0   0.0  17.8  10.6     14.20\n",
       "3  2000-01-04  17.8   0.0  15.6   7.8     11.70\n",
       "4  2000-01-05   0.0   0.0   8.3  -1.7      3.30"
      ]
     },
     "execution_count": 12,
     "metadata": {},
     "output_type": "execute_result"
    }
   ],
   "source": [
    "# Read the csv file into a pandas DataFrame\n",
    "\n",
    "data = pd.read_csv('./nyc_data.csv')\n",
    "data.head()"
   ]
  },
  {
   "cell_type": "code",
   "execution_count": 13,
   "metadata": {},
   "outputs": [
    {
     "data": {
      "text/plain": [
       "7497"
      ]
     },
     "execution_count": 13,
     "metadata": {},
     "output_type": "execute_result"
    }
   ],
   "source": [
    "len(data)"
   ]
  },
  {
   "cell_type": "code",
   "execution_count": 14,
   "metadata": {},
   "outputs": [
    {
     "data": {
      "text/plain": [
       "DATE         object\n",
       "PRCP        float64\n",
       "SNOW        float64\n",
       "TMAX        float64\n",
       "TMIN        float64\n",
       "AVG_Temp    float64\n",
       "dtype: object"
      ]
     },
     "execution_count": 14,
     "metadata": {},
     "output_type": "execute_result"
    }
   ],
   "source": [
    "data.dtypes"
   ]
  },
  {
   "cell_type": "code",
   "execution_count": 15,
   "metadata": {},
   "outputs": [
    {
     "data": {
      "text/plain": [
       "'2020-07-11'"
      ]
     },
     "execution_count": 15,
     "metadata": {},
     "output_type": "execute_result"
    }
   ],
   "source": [
    "max(data.DATE)"
   ]
  },
  {
   "cell_type": "code",
   "execution_count": 16,
   "metadata": {},
   "outputs": [
    {
     "data": {
      "text/plain": [
       "'2000-01-01'"
      ]
     },
     "execution_count": 16,
     "metadata": {},
     "output_type": "execute_result"
    }
   ],
   "source": [
    "min(data.DATE)"
   ]
  },
  {
   "cell_type": "code",
   "execution_count": 17,
   "metadata": {},
   "outputs": [],
   "source": [
    "data['year'] = pd.DatetimeIndex(data[\"DATE\"]).year\n",
    "data['month'] = pd.DatetimeIndex(data[\"DATE\"]).month\n",
    "data['week'] = pd.DatetimeIndex(data[\"DATE\"]).week\n",
    "data['day'] = pd.DatetimeIndex(data[\"DATE\"]).day\n",
    "\n",
    "data['day'] = pd.DatetimeIndex(data[\"DATE\"]).day"
   ]
  },
  {
   "cell_type": "code",
   "execution_count": 18,
   "metadata": {},
   "outputs": [],
   "source": [
    "#print(datetime.now().strftime('%Y/W%V'))\n",
    "data['Year-Week'] = pd.DatetimeIndex(data[\"DATE\"]).strftime('%Y-%W')\n",
    "data['Year-Month'] = pd.DatetimeIndex(data[\"DATE\"]).strftime('%Y-%m')"
   ]
  },
  {
   "cell_type": "code",
   "execution_count": 19,
   "metadata": {},
   "outputs": [
    {
     "data": {
      "text/html": [
       "<div>\n",
       "<style scoped>\n",
       "    .dataframe tbody tr th:only-of-type {\n",
       "        vertical-align: middle;\n",
       "    }\n",
       "\n",
       "    .dataframe tbody tr th {\n",
       "        vertical-align: top;\n",
       "    }\n",
       "\n",
       "    .dataframe thead th {\n",
       "        text-align: right;\n",
       "    }\n",
       "</style>\n",
       "<table border=\"1\" class=\"dataframe\">\n",
       "  <thead>\n",
       "    <tr style=\"text-align: right;\">\n",
       "      <th></th>\n",
       "      <th>DATE</th>\n",
       "      <th>PRCP</th>\n",
       "      <th>SNOW</th>\n",
       "      <th>TMAX</th>\n",
       "      <th>TMIN</th>\n",
       "      <th>AVG_Temp</th>\n",
       "      <th>year</th>\n",
       "      <th>month</th>\n",
       "      <th>week</th>\n",
       "      <th>day</th>\n",
       "      <th>Year-Week</th>\n",
       "      <th>Year-Month</th>\n",
       "    </tr>\n",
       "  </thead>\n",
       "  <tbody>\n",
       "    <tr>\n",
       "      <th>0</th>\n",
       "      <td>2000-01-01</td>\n",
       "      <td>0.0</td>\n",
       "      <td>0.0</td>\n",
       "      <td>10.0</td>\n",
       "      <td>1.1</td>\n",
       "      <td>5.55</td>\n",
       "      <td>2000</td>\n",
       "      <td>1</td>\n",
       "      <td>52</td>\n",
       "      <td>1</td>\n",
       "      <td>2000-00</td>\n",
       "      <td>2000-01</td>\n",
       "    </tr>\n",
       "    <tr>\n",
       "      <th>1</th>\n",
       "      <td>2000-01-02</td>\n",
       "      <td>0.0</td>\n",
       "      <td>0.0</td>\n",
       "      <td>15.6</td>\n",
       "      <td>6.1</td>\n",
       "      <td>10.85</td>\n",
       "      <td>2000</td>\n",
       "      <td>1</td>\n",
       "      <td>52</td>\n",
       "      <td>2</td>\n",
       "      <td>2000-00</td>\n",
       "      <td>2000-01</td>\n",
       "    </tr>\n",
       "    <tr>\n",
       "      <th>2</th>\n",
       "      <td>2000-01-03</td>\n",
       "      <td>0.0</td>\n",
       "      <td>0.0</td>\n",
       "      <td>17.8</td>\n",
       "      <td>10.6</td>\n",
       "      <td>14.20</td>\n",
       "      <td>2000</td>\n",
       "      <td>1</td>\n",
       "      <td>1</td>\n",
       "      <td>3</td>\n",
       "      <td>2000-01</td>\n",
       "      <td>2000-01</td>\n",
       "    </tr>\n",
       "    <tr>\n",
       "      <th>3</th>\n",
       "      <td>2000-01-04</td>\n",
       "      <td>17.8</td>\n",
       "      <td>0.0</td>\n",
       "      <td>15.6</td>\n",
       "      <td>7.8</td>\n",
       "      <td>11.70</td>\n",
       "      <td>2000</td>\n",
       "      <td>1</td>\n",
       "      <td>1</td>\n",
       "      <td>4</td>\n",
       "      <td>2000-01</td>\n",
       "      <td>2000-01</td>\n",
       "    </tr>\n",
       "    <tr>\n",
       "      <th>4</th>\n",
       "      <td>2000-01-05</td>\n",
       "      <td>0.0</td>\n",
       "      <td>0.0</td>\n",
       "      <td>8.3</td>\n",
       "      <td>-1.7</td>\n",
       "      <td>3.30</td>\n",
       "      <td>2000</td>\n",
       "      <td>1</td>\n",
       "      <td>1</td>\n",
       "      <td>5</td>\n",
       "      <td>2000-01</td>\n",
       "      <td>2000-01</td>\n",
       "    </tr>\n",
       "    <tr>\n",
       "      <th>...</th>\n",
       "      <td>...</td>\n",
       "      <td>...</td>\n",
       "      <td>...</td>\n",
       "      <td>...</td>\n",
       "      <td>...</td>\n",
       "      <td>...</td>\n",
       "      <td>...</td>\n",
       "      <td>...</td>\n",
       "      <td>...</td>\n",
       "      <td>...</td>\n",
       "      <td>...</td>\n",
       "      <td>...</td>\n",
       "    </tr>\n",
       "    <tr>\n",
       "      <th>7492</th>\n",
       "      <td>2020-07-07</td>\n",
       "      <td>0.0</td>\n",
       "      <td>0.0</td>\n",
       "      <td>27.8</td>\n",
       "      <td>22.2</td>\n",
       "      <td>25.00</td>\n",
       "      <td>2020</td>\n",
       "      <td>7</td>\n",
       "      <td>28</td>\n",
       "      <td>7</td>\n",
       "      <td>2020-27</td>\n",
       "      <td>2020-07</td>\n",
       "    </tr>\n",
       "    <tr>\n",
       "      <th>7493</th>\n",
       "      <td>2020-07-08</td>\n",
       "      <td>0.5</td>\n",
       "      <td>0.0</td>\n",
       "      <td>28.3</td>\n",
       "      <td>23.9</td>\n",
       "      <td>26.10</td>\n",
       "      <td>2020</td>\n",
       "      <td>7</td>\n",
       "      <td>28</td>\n",
       "      <td>8</td>\n",
       "      <td>2020-27</td>\n",
       "      <td>2020-07</td>\n",
       "    </tr>\n",
       "    <tr>\n",
       "      <th>7494</th>\n",
       "      <td>2020-07-09</td>\n",
       "      <td>0.0</td>\n",
       "      <td>0.0</td>\n",
       "      <td>31.7</td>\n",
       "      <td>23.9</td>\n",
       "      <td>27.80</td>\n",
       "      <td>2020</td>\n",
       "      <td>7</td>\n",
       "      <td>28</td>\n",
       "      <td>9</td>\n",
       "      <td>2020-27</td>\n",
       "      <td>2020-07</td>\n",
       "    </tr>\n",
       "    <tr>\n",
       "      <th>7495</th>\n",
       "      <td>2020-07-10</td>\n",
       "      <td>64.5</td>\n",
       "      <td>0.0</td>\n",
       "      <td>25.0</td>\n",
       "      <td>22.8</td>\n",
       "      <td>23.90</td>\n",
       "      <td>2020</td>\n",
       "      <td>7</td>\n",
       "      <td>28</td>\n",
       "      <td>10</td>\n",
       "      <td>2020-27</td>\n",
       "      <td>2020-07</td>\n",
       "    </tr>\n",
       "    <tr>\n",
       "      <th>7496</th>\n",
       "      <td>2020-07-11</td>\n",
       "      <td>19.3</td>\n",
       "      <td>0.0</td>\n",
       "      <td>28.3</td>\n",
       "      <td>22.2</td>\n",
       "      <td>25.25</td>\n",
       "      <td>2020</td>\n",
       "      <td>7</td>\n",
       "      <td>28</td>\n",
       "      <td>11</td>\n",
       "      <td>2020-27</td>\n",
       "      <td>2020-07</td>\n",
       "    </tr>\n",
       "  </tbody>\n",
       "</table>\n",
       "<p>7497 rows × 12 columns</p>\n",
       "</div>"
      ],
      "text/plain": [
       "            DATE  PRCP  SNOW  TMAX  TMIN  AVG_Temp  year  month  week  day  \\\n",
       "0     2000-01-01   0.0   0.0  10.0   1.1      5.55  2000      1    52    1   \n",
       "1     2000-01-02   0.0   0.0  15.6   6.1     10.85  2000      1    52    2   \n",
       "2     2000-01-03   0.0   0.0  17.8  10.6     14.20  2000      1     1    3   \n",
       "3     2000-01-04  17.8   0.0  15.6   7.8     11.70  2000      1     1    4   \n",
       "4     2000-01-05   0.0   0.0   8.3  -1.7      3.30  2000      1     1    5   \n",
       "...          ...   ...   ...   ...   ...       ...   ...    ...   ...  ...   \n",
       "7492  2020-07-07   0.0   0.0  27.8  22.2     25.00  2020      7    28    7   \n",
       "7493  2020-07-08   0.5   0.0  28.3  23.9     26.10  2020      7    28    8   \n",
       "7494  2020-07-09   0.0   0.0  31.7  23.9     27.80  2020      7    28    9   \n",
       "7495  2020-07-10  64.5   0.0  25.0  22.8     23.90  2020      7    28   10   \n",
       "7496  2020-07-11  19.3   0.0  28.3  22.2     25.25  2020      7    28   11   \n",
       "\n",
       "     Year-Week Year-Month  \n",
       "0      2000-00    2000-01  \n",
       "1      2000-00    2000-01  \n",
       "2      2000-01    2000-01  \n",
       "3      2000-01    2000-01  \n",
       "4      2000-01    2000-01  \n",
       "...        ...        ...  \n",
       "7492   2020-27    2020-07  \n",
       "7493   2020-27    2020-07  \n",
       "7494   2020-27    2020-07  \n",
       "7495   2020-27    2020-07  \n",
       "7496   2020-27    2020-07  \n",
       "\n",
       "[7497 rows x 12 columns]"
      ]
     },
     "execution_count": 19,
     "metadata": {},
     "output_type": "execute_result"
    }
   ],
   "source": [
    "data"
   ]
  },
  {
   "cell_type": "code",
   "execution_count": 20,
   "metadata": {},
   "outputs": [
    {
     "data": {
      "text/plain": [
       "DATE           object\n",
       "PRCP          float64\n",
       "SNOW          float64\n",
       "TMAX          float64\n",
       "TMIN          float64\n",
       "AVG_Temp      float64\n",
       "year            int64\n",
       "month           int64\n",
       "week            int64\n",
       "day             int64\n",
       "Year-Week      object\n",
       "Year-Month     object\n",
       "dtype: object"
      ]
     },
     "execution_count": 20,
     "metadata": {},
     "output_type": "execute_result"
    }
   ],
   "source": [
    "data.dtypes"
   ]
  },
  {
   "cell_type": "code",
   "execution_count": 21,
   "metadata": {},
   "outputs": [],
   "source": [
    "Days_df = pd.DataFrame({\n",
    "    \"Date\" : data['DATE'],\n",
    "    \"Avg_Temp\" : data['AVG_Temp']\n",
    "}) "
   ]
  },
  {
   "cell_type": "code",
   "execution_count": 22,
   "metadata": {},
   "outputs": [
    {
     "data": {
      "text/html": [
       "<div>\n",
       "<style scoped>\n",
       "    .dataframe tbody tr th:only-of-type {\n",
       "        vertical-align: middle;\n",
       "    }\n",
       "\n",
       "    .dataframe tbody tr th {\n",
       "        vertical-align: top;\n",
       "    }\n",
       "\n",
       "    .dataframe thead th {\n",
       "        text-align: right;\n",
       "    }\n",
       "</style>\n",
       "<table border=\"1\" class=\"dataframe\">\n",
       "  <thead>\n",
       "    <tr style=\"text-align: right;\">\n",
       "      <th></th>\n",
       "      <th>Date</th>\n",
       "      <th>Avg_Temp</th>\n",
       "    </tr>\n",
       "  </thead>\n",
       "  <tbody>\n",
       "    <tr>\n",
       "      <th>0</th>\n",
       "      <td>2000-01-01</td>\n",
       "      <td>5.55</td>\n",
       "    </tr>\n",
       "    <tr>\n",
       "      <th>1</th>\n",
       "      <td>2000-01-02</td>\n",
       "      <td>10.85</td>\n",
       "    </tr>\n",
       "    <tr>\n",
       "      <th>2</th>\n",
       "      <td>2000-01-03</td>\n",
       "      <td>14.20</td>\n",
       "    </tr>\n",
       "    <tr>\n",
       "      <th>3</th>\n",
       "      <td>2000-01-04</td>\n",
       "      <td>11.70</td>\n",
       "    </tr>\n",
       "    <tr>\n",
       "      <th>4</th>\n",
       "      <td>2000-01-05</td>\n",
       "      <td>3.30</td>\n",
       "    </tr>\n",
       "    <tr>\n",
       "      <th>...</th>\n",
       "      <td>...</td>\n",
       "      <td>...</td>\n",
       "    </tr>\n",
       "    <tr>\n",
       "      <th>7492</th>\n",
       "      <td>2020-07-07</td>\n",
       "      <td>25.00</td>\n",
       "    </tr>\n",
       "    <tr>\n",
       "      <th>7493</th>\n",
       "      <td>2020-07-08</td>\n",
       "      <td>26.10</td>\n",
       "    </tr>\n",
       "    <tr>\n",
       "      <th>7494</th>\n",
       "      <td>2020-07-09</td>\n",
       "      <td>27.80</td>\n",
       "    </tr>\n",
       "    <tr>\n",
       "      <th>7495</th>\n",
       "      <td>2020-07-10</td>\n",
       "      <td>23.90</td>\n",
       "    </tr>\n",
       "    <tr>\n",
       "      <th>7496</th>\n",
       "      <td>2020-07-11</td>\n",
       "      <td>25.25</td>\n",
       "    </tr>\n",
       "  </tbody>\n",
       "</table>\n",
       "<p>7497 rows × 2 columns</p>\n",
       "</div>"
      ],
      "text/plain": [
       "            Date  Avg_Temp\n",
       "0     2000-01-01      5.55\n",
       "1     2000-01-02     10.85\n",
       "2     2000-01-03     14.20\n",
       "3     2000-01-04     11.70\n",
       "4     2000-01-05      3.30\n",
       "...          ...       ...\n",
       "7492  2020-07-07     25.00\n",
       "7493  2020-07-08     26.10\n",
       "7494  2020-07-09     27.80\n",
       "7495  2020-07-10     23.90\n",
       "7496  2020-07-11     25.25\n",
       "\n",
       "[7497 rows x 2 columns]"
      ]
     },
     "execution_count": 22,
     "metadata": {},
     "output_type": "execute_result"
    }
   ],
   "source": [
    "Days_df"
   ]
  },
  {
   "cell_type": "code",
   "execution_count": 23,
   "metadata": {},
   "outputs": [
    {
     "name": "stdout",
     "output_type": "stream",
     "text": [
      "Shape:  (7497, 1) (7497, 1)\n"
     ]
    }
   ],
   "source": [
    "X = Days_df[\"Date\"].values.reshape(-1, 1)\n",
    "x = list(range(len(Days_df)))\n",
    "y = Days_df[\"Avg_Temp\"].values.reshape(-1, 1)\n",
    "print(\"Shape: \", X.shape, y.shape)"
   ]
  },
  {
   "cell_type": "code",
   "execution_count": 24,
   "metadata": {},
   "outputs": [
    {
     "data": {
      "text/plain": [
       "<matplotlib.collections.PathCollection at 0x2205c3c7320>"
      ]
     },
     "execution_count": 24,
     "metadata": {},
     "output_type": "execute_result"
    },
    {
     "data": {
      "image/png": "[encoded data removed]",
      "text/plain": [
       "<Figure size 3600x2880 with 1 Axes>"
      ]
     },
     "metadata": {
      "needs_background": "light"
     },
     "output_type": "display_data"
    }
   ],
   "source": [
    "plt.figure(figsize = (50, 40))\n",
    "plt.xlabel('Date range', fontsize=40)\n",
    "plt.ylabel('Temperature', fontsize=40)\n",
    "plt.scatter(x,y)"
   ]
  },
  {
   "cell_type": "code",
   "execution_count": null,
   "metadata": {},
   "outputs": [],
   "source": []
  },
  {
   "cell_type": "markdown",
   "metadata": {},
   "source": [
    "## 2.1. Training data & Test data"
   ]
  },
  {
   "cell_type": "code",
   "execution_count": 25,
   "metadata": {},
   "outputs": [],
   "source": [
    "data = Days_df['Avg_Temp']"
   ]
  },
  {
   "cell_type": "code",
   "execution_count": 26,
   "metadata": {},
   "outputs": [
    {
     "data": {
      "text/plain": [
       "7497"
      ]
     },
     "execution_count": 26,
     "metadata": {},
     "output_type": "execute_result"
    }
   ],
   "source": [
    "len(data)"
   ]
  },
  {
   "cell_type": "code",
   "execution_count": 27,
   "metadata": {},
   "outputs": [],
   "source": [
    "# slipt data into 2 subsets ==> Train & Test\n",
    "X = data.values\n",
    "size = int(len(X) * 0.80)\n",
    "train, test = X[0:size], X[size:len(X)]"
   ]
  },
  {
   "cell_type": "code",
   "execution_count": 28,
   "metadata": {},
   "outputs": [
    {
     "data": {
      "text/plain": [
       "5997"
      ]
     },
     "execution_count": 28,
     "metadata": {},
     "output_type": "execute_result"
    }
   ],
   "source": [
    "len(train)"
   ]
  },
  {
   "cell_type": "code",
   "execution_count": 29,
   "metadata": {},
   "outputs": [
    {
     "data": {
      "text/plain": [
       "1500"
      ]
     },
     "execution_count": 29,
     "metadata": {},
     "output_type": "execute_result"
    }
   ],
   "source": [
    "len(test)"
   ]
  },
  {
   "cell_type": "code",
   "execution_count": null,
   "metadata": {},
   "outputs": [],
   "source": []
  },
  {
   "cell_type": "markdown",
   "metadata": {},
   "source": [
    "## 2.2. ARIMA model"
   ]
  },
  {
   "cell_type": "markdown",
   "metadata": {},
   "source": [
    "### 2.2.1 Train data"
   ]
  },
  {
   "cell_type": "code",
   "execution_count": 30,
   "metadata": {},
   "outputs": [
    {
     "name": "stdout",
     "output_type": "stream",
     "text": [
      "predicted=23.570992, expected=5.550000\n",
      "predicted=7.060343, expected=10.850000\n",
      "predicted=17.116708, expected=14.200000\n",
      "predicted=15.124549, expected=11.700000\n",
      "predicted=12.822871, expected=3.300000\n",
      "predicted=5.089853, expected=1.700000\n",
      "predicted=3.934994, expected=5.550000\n",
      "predicted=7.252617, expected=1.100000\n",
      "predicted=1.703697, expected=6.700000\n",
      "predicted=8.587700, expected=10.550000\n",
      "predicted=8.758965, expected=7.750000\n",
      "predicted=5.947250, expected=6.100000\n",
      "predicted=6.167291, expected=-1.950000\n",
      "predicted=-1.868695, expected=-8.100000\n",
      "predicted=-4.879472, expected=-4.700000\n",
      "predicted=-0.953783, expected=0.850000\n",
      "predicted=1.824052, expected=-10.000000\n",
      "predicted=-10.254082, expected=-11.650000\n",
      "predicted=-8.567208, expected=-6.950000\n",
      "predicted=-6.129396, expected=-3.600000\n",
      "predicted=-4.040993, expected=-8.600000\n",
      "predicted=-8.877396, expected=-10.000000\n",
      "predicted=-9.270397, expected=-5.300000\n",
      "predicted=-5.239860, expected=0.000000\n",
      "predicted=-1.196938, expected=-2.500000\n",
      "predicted=-4.200321, expected=-3.100000\n",
      "predicted=-3.569221, expected=-8.350000\n",
      "predicted=-8.889095, expected=-9.200000\n",
      "predicted=-7.475598, expected=-3.300000\n",
      "predicted=-2.067877, expected=-1.950000\n",
      "predicted=-3.048851, expected=0.800000\n",
      "predicted=0.041872, expected=-0.800000\n",
      "predicted=-2.690183, expected=-3.900000\n",
      "predicted=-4.492187, expected=-2.750000\n",
      "predicted=-2.043426, expected=-1.400000\n",
      "predicted=-1.430470, expected=-0.550000\n",
      "predicted=-0.582297, expected=0.300000\n",
      "predicted=-0.069130, expected=1.950000\n",
      "predicted=1.147537, expected=-3.900000\n",
      "predicted=-4.669415, expected=1.950000\n",
      "predicted=3.287482, expected=5.850000\n",
      "predicted=4.244105, expected=4.450000\n",
      "predicted=2.982084, expected=-2.200000\n",
      "predicted=-2.331742, expected=0.550000\n",
      "predicted=1.741199, expected=7.750000\n",
      "predicted=7.350193, expected=2.500000\n",
      "predicted=0.929576, expected=5.850000\n",
      "predicted=6.754178, expected=0.300000\n",
      "predicted=-1.232739, expected=-0.250000\n",
      "predicted=1.190053, expected=-0.850000\n",
      "predicted=0.255920, expected=1.100000\n",
      "predicted=1.789843, expected=2.250000\n",
      "predicted=2.301931, expected=5.850000\n",
      "predicted=5.177565, expected=8.050000\n",
      "predicted=6.333690, expected=13.050000\n",
      "predicted=11.195350, expected=9.700000\n",
      "predicted=7.112999, expected=5.300000\n",
      "predicted=5.134752, expected=9.150000\n",
      "predicted=10.047029, expected=8.850000\n",
      "predicted=8.171735, expected=6.950000\n",
      "predicted=7.555010, expected=6.100000\n",
      "predicted=6.722275, expected=5.250000\n",
      "predicted=5.492714, expected=4.450000\n",
      "predicted=5.213504, expected=5.850000\n",
      "predicted=6.531823, expected=9.200000\n",
      "predicted=8.938669, expected=8.350000\n",
      "predicted=7.229853, expected=11.100000\n",
      "predicted=10.664572, expected=11.150000\n",
      "predicted=9.684328, expected=15.300000\n",
      "predicted=14.491039, expected=11.400000\n",
      "predicted=9.793547, expected=5.000000\n",
      "predicted=5.637893, expected=5.250000\n",
      "predicted=7.400421, expected=4.450000\n",
      "predicted=5.497582, expected=7.500000\n",
      "predicted=9.000072, expected=11.400000\n",
      "predicted=10.983019, expected=14.450000\n",
      "predicted=12.638556, expected=4.750000\n",
      "predicted=3.089708, expected=-1.150000\n",
      "predicted=1.013467, expected=2.750000\n",
      "predicted=5.234601, expected=4.700000\n",
      "predicted=5.311971, expected=4.200000\n",
      "predicted=4.880829, expected=6.950000\n",
      "predicted=6.778181, expected=10.550000\n",
      "predicted=8.840016, expected=14.750000\n",
      "predicted=12.817381, expected=13.900000\n",
      "predicted=11.587855, expected=13.600000\n",
      "predicted=12.436318, expected=10.250000\n",
      "predicted=9.584833, expected=11.350000\n",
      "predicted=12.182925, expected=9.750000\n",
      "predicted=10.073198, expected=10.250000\n",
      "predicted=11.147721, expected=8.900000\n",
      "predicted=9.215550, expected=11.650000\n",
      "predicted=12.061186, expected=15.000000\n",
      "predicted=14.243802, expected=15.300000\n",
      "predicted=13.873576, expected=13.600000\n",
      "predicted=12.786292, expected=6.950000\n",
      "predicted=6.923730, expected=13.050000\n",
      "predicted=14.968967, expected=14.450000\n",
      "predicted=13.541287, expected=15.850000\n",
      "predicted=15.568550, expected=4.450000\n",
      "predicted=3.981323, expected=7.750000\n",
      "predicted=10.450966, expected=4.150000\n",
      "predicted=4.557012, expected=7.200000\n",
      "predicted=9.329906, expected=6.400000\n",
      "predicted=6.708132, expected=8.050000\n",
      "predicted=7.953554, expected=12.750000\n",
      "predicted=12.079422, expected=18.050000\n",
      "predicted=15.781708, expected=8.600000\n",
      "predicted=6.266213, expected=6.400000\n",
      "predicted=8.014269, expected=10.850000\n",
      "predicted=11.606670, expected=13.600000\n",
      "predicted=13.120683, expected=8.050000\n",
      "predicted=7.992448, expected=8.350000\n",
      "predicted=9.402882, expected=8.050000\n",
      "predicted=7.930691, expected=13.900000\n",
      "predicted=14.238497, expected=10.800000\n",
      "predicted=9.537505, expected=6.650000\n",
      "predicted=6.967111, expected=6.950000\n",
      "predicted=8.023495, expected=11.650000\n",
      "predicted=11.822098, expected=13.600000\n",
      "predicted=12.815416, expected=14.450000\n",
      "predicted=13.430581, expected=12.500000\n",
      "predicted=11.265203, expected=16.400000\n",
      "predicted=15.987588, expected=15.000000\n",
      "predicted=13.690734, expected=15.850000\n",
      "predicted=15.876937, expected=22.800000\n",
      "predicted=22.113276, expected=25.850000\n",
      "predicted=23.007325, expected=25.000000\n",
      "predicted=22.944220, expected=26.950000\n",
      "predicted=25.600992, expected=28.050000\n",
      "predicted=26.281345, expected=18.100000\n",
      "predicted=17.587903, expected=17.200000\n",
      "predicted=20.277307, expected=17.250000\n",
      "predicted=18.729065, expected=17.500000\n",
      "predicted=18.935318, expected=18.050000\n",
      "predicted=19.166443, expected=15.000000\n",
      "predicted=14.982044, expected=15.850000\n",
      "predicted=16.733845, expected=18.050000\n",
      "predicted=18.045694, expected=21.100000\n",
      "predicted=20.487784, expected=12.750000\n",
      "predicted=11.898635, expected=9.200000\n",
      "predicted=11.300739, expected=11.700000\n",
      "predicted=13.433815, expected=12.500000\n",
      "predicted=13.039133, expected=14.150000\n",
      "predicted=14.856575, expected=19.750000\n",
      "predicted=18.884826, expected=19.450000\n",
      "predicted=16.905406, expected=19.700000\n",
      "predicted=18.602320, expected=16.650000\n",
      "predicted=15.736872, expected=16.650000\n",
      "predicted=17.081249, expected=15.000000\n",
      "predicted=15.534759, expected=13.600000\n",
      "predicted=14.630372, expected=15.300000\n",
      "predicted=16.308113, expected=22.200000\n",
      "predicted=21.821400, expected=26.400000\n",
      "predicted=24.016940, expected=19.700000\n",
      "predicted=17.354844, expected=19.150000\n",
      "predicted=19.623761, expected=17.800000\n",
      "predicted=17.711765, expected=12.800000\n",
      "predicted=14.040650, expected=16.100000\n",
      "predicted=18.718926, expected=20.850000\n",
      "predicted=20.581260, expected=25.000000\n",
      "predicted=23.592360, expected=28.050000\n",
      "predicted=25.865349, expected=27.500000\n",
      "predicted=24.783585, expected=17.500000\n",
      "predicted=16.447775, expected=14.200000\n",
      "predicted=16.915678, expected=13.900000\n",
      "predicted=16.335007, expected=18.900000\n",
      "predicted=20.863549, expected=24.700000\n",
      "predicted=24.439689, expected=26.650000\n",
      "predicted=24.237143, expected=19.750000\n",
      "predicted=17.727863, expected=20.000000\n"
     ]
    },
    {
     "ename": "KeyboardInterrupt",
     "evalue": "",
     "output_type": "error",
     "traceback": [
      "\u001b[1;31m---------------------------------------------------------------------------\u001b[0m",
      "\u001b[1;31mKeyboardInterrupt\u001b[0m                         Traceback (most recent call last)",
      "\u001b[1;32m<ipython-input-30-72d5b818f6e4>\u001b[0m in \u001b[0;36m<module>\u001b[1;34m\u001b[0m\n\u001b[0;32m      7\u001b[0m \u001b[1;32mfor\u001b[0m \u001b[0mt\u001b[0m \u001b[1;32min\u001b[0m \u001b[0mrange\u001b[0m\u001b[1;33m(\u001b[0m\u001b[0mlen\u001b[0m\u001b[1;33m(\u001b[0m\u001b[0mtrain\u001b[0m\u001b[1;33m)\u001b[0m\u001b[1;33m)\u001b[0m\u001b[1;33m:\u001b[0m\u001b[1;33m\u001b[0m\u001b[1;33m\u001b[0m\u001b[0m\n\u001b[0;32m      8\u001b[0m     \u001b[0mmodel\u001b[0m \u001b[1;33m=\u001b[0m \u001b[0mARIMA\u001b[0m\u001b[1;33m(\u001b[0m\u001b[0mhistory_train\u001b[0m\u001b[1;33m,\u001b[0m \u001b[0morder\u001b[0m\u001b[1;33m=\u001b[0m\u001b[1;33m(\u001b[0m\u001b[1;36m5\u001b[0m\u001b[1;33m,\u001b[0m\u001b[1;36m1\u001b[0m\u001b[1;33m,\u001b[0m\u001b[1;36m0\u001b[0m\u001b[1;33m)\u001b[0m\u001b[1;33m)\u001b[0m\u001b[1;33m\u001b[0m\u001b[1;33m\u001b[0m\u001b[0m\n\u001b[1;32m----> 9\u001b[1;33m     \u001b[0mmodel_fit\u001b[0m \u001b[1;33m=\u001b[0m \u001b[0mmodel\u001b[0m\u001b[1;33m.\u001b[0m\u001b[0mfit\u001b[0m\u001b[1;33m(\u001b[0m\u001b[0mdisp\u001b[0m\u001b[1;33m=\u001b[0m\u001b[1;36m0\u001b[0m\u001b[1;33m)\u001b[0m\u001b[1;33m\u001b[0m\u001b[1;33m\u001b[0m\u001b[0m\n\u001b[0m\u001b[0;32m     10\u001b[0m     \u001b[0moutput\u001b[0m \u001b[1;33m=\u001b[0m \u001b[0mmodel_fit\u001b[0m\u001b[1;33m.\u001b[0m\u001b[0mforecast\u001b[0m\u001b[1;33m(\u001b[0m\u001b[1;33m)\u001b[0m\u001b[1;33m\u001b[0m\u001b[1;33m\u001b[0m\u001b[0m\n\u001b[0;32m     11\u001b[0m     \u001b[0myhat\u001b[0m \u001b[1;33m=\u001b[0m \u001b[0moutput\u001b[0m\u001b[1;33m[\u001b[0m\u001b[1;36m0\u001b[0m\u001b[1;33m]\u001b[0m\u001b[1;33m[\u001b[0m\u001b[1;36m0\u001b[0m\u001b[1;33m]\u001b[0m\u001b[1;33m\u001b[0m\u001b[1;33m\u001b[0m\u001b[0m\n",
      "\u001b[1;32m~\\anaconda3\\envs\\PythonAvd\\lib\\site-packages\\statsmodels\\tsa\\arima_model.py\u001b[0m in \u001b[0;36mfit\u001b[1;34m(self, start_params, trend, method, transparams, solver, maxiter, full_output, disp, callback, start_ar_lags, **kwargs)\u001b[0m\n\u001b[0;32m   1198\u001b[0m                                         \u001b[0mmethod\u001b[0m\u001b[1;33m,\u001b[0m \u001b[0mtransparams\u001b[0m\u001b[1;33m,\u001b[0m \u001b[0msolver\u001b[0m\u001b[1;33m,\u001b[0m\u001b[1;33m\u001b[0m\u001b[1;33m\u001b[0m\u001b[0m\n\u001b[0;32m   1199\u001b[0m                                         \u001b[0mmaxiter\u001b[0m\u001b[1;33m,\u001b[0m \u001b[0mfull_output\u001b[0m\u001b[1;33m,\u001b[0m \u001b[0mdisp\u001b[0m\u001b[1;33m,\u001b[0m\u001b[1;33m\u001b[0m\u001b[1;33m\u001b[0m\u001b[0m\n\u001b[1;32m-> 1200\u001b[1;33m                                         callback, start_ar_lags, **kwargs)\n\u001b[0m\u001b[0;32m   1201\u001b[0m         \u001b[0mnormalized_cov_params\u001b[0m \u001b[1;33m=\u001b[0m \u001b[1;32mNone\u001b[0m  \u001b[1;31m# TODO: fix this?\u001b[0m\u001b[1;33m\u001b[0m\u001b[1;33m\u001b[0m\u001b[0m\n\u001b[0;32m   1202\u001b[0m         arima_fit = ARIMAResults(self, mlefit._results.params,\n",
      "\u001b[1;32m~\\anaconda3\\envs\\PythonAvd\\lib\\site-packages\\statsmodels\\tsa\\arima_model.py\u001b[0m in \u001b[0;36mfit\u001b[1;34m(self, start_params, trend, method, transparams, solver, maxiter, full_output, disp, callback, start_ar_lags, **kwargs)\u001b[0m\n\u001b[0;32m    984\u001b[0m         \u001b[1;32melse\u001b[0m\u001b[1;33m:\u001b[0m  \u001b[1;31m# estimate starting parameters\u001b[0m\u001b[1;33m\u001b[0m\u001b[1;33m\u001b[0m\u001b[0m\n\u001b[0;32m    985\u001b[0m             start_params = self._fit_start_params((k_ar, k_ma, k), method,\n\u001b[1;32m--> 986\u001b[1;33m                                                   start_ar_lags)\n\u001b[0m\u001b[0;32m    987\u001b[0m \u001b[1;33m\u001b[0m\u001b[0m\n\u001b[0;32m    988\u001b[0m         \u001b[1;32mif\u001b[0m \u001b[0mtransparams\u001b[0m\u001b[1;33m:\u001b[0m  \u001b[1;31m# transform initial parameters to ensure invertibility\u001b[0m\u001b[1;33m\u001b[0m\u001b[1;33m\u001b[0m\u001b[0m\n",
      "\u001b[1;32m~\\anaconda3\\envs\\PythonAvd\\lib\\site-packages\\statsmodels\\tsa\\arima_model.py\u001b[0m in \u001b[0;36m_fit_start_params\u001b[1;34m(self, order, method, start_ar_lags)\u001b[0m\n\u001b[0;32m    582\u001b[0m                                             \u001b[0mapprox_grad\u001b[0m\u001b[1;33m=\u001b[0m\u001b[1;32mTrue\u001b[0m\u001b[1;33m,\u001b[0m \u001b[0mm\u001b[0m\u001b[1;33m=\u001b[0m\u001b[1;36m12\u001b[0m\u001b[1;33m,\u001b[0m\u001b[1;33m\u001b[0m\u001b[1;33m\u001b[0m\u001b[0m\n\u001b[0;32m    583\u001b[0m                                             \u001b[0mpgtol\u001b[0m\u001b[1;33m=\u001b[0m\u001b[1;36m1e-7\u001b[0m\u001b[1;33m,\u001b[0m \u001b[0mfactr\u001b[0m\u001b[1;33m=\u001b[0m\u001b[1;36m1e3\u001b[0m\u001b[1;33m,\u001b[0m\u001b[1;33m\u001b[0m\u001b[1;33m\u001b[0m\u001b[0m\n\u001b[1;32m--> 584\u001b[1;33m                                             bounds=bounds, iprint=-1)\n\u001b[0m\u001b[0;32m    585\u001b[0m             \u001b[0mstart_params\u001b[0m \u001b[1;33m=\u001b[0m \u001b[0mmlefit\u001b[0m\u001b[1;33m[\u001b[0m\u001b[1;36m0\u001b[0m\u001b[1;33m]\u001b[0m\u001b[1;33m\u001b[0m\u001b[1;33m\u001b[0m\u001b[0m\n\u001b[0;32m    586\u001b[0m             \u001b[1;32mif\u001b[0m \u001b[0mself\u001b[0m\u001b[1;33m.\u001b[0m\u001b[0mtransparams\u001b[0m\u001b[1;33m:\u001b[0m\u001b[1;33m\u001b[0m\u001b[1;33m\u001b[0m\u001b[0m\n",
      "\u001b[1;32m~\\anaconda3\\envs\\PythonAvd\\lib\\site-packages\\scipy\\optimize\\lbfgsb.py\u001b[0m in \u001b[0;36mfmin_l_bfgs_b\u001b[1;34m(func, x0, fprime, args, approx_grad, bounds, m, factr, pgtol, epsilon, iprint, maxfun, maxiter, disp, callback, maxls)\u001b[0m\n\u001b[0;32m    196\u001b[0m \u001b[1;33m\u001b[0m\u001b[0m\n\u001b[0;32m    197\u001b[0m     res = _minimize_lbfgsb(fun, x0, args=args, jac=jac, bounds=bounds,\n\u001b[1;32m--> 198\u001b[1;33m                            **opts)\n\u001b[0m\u001b[0;32m    199\u001b[0m     d = {'grad': res['jac'],\n\u001b[0;32m    200\u001b[0m          \u001b[1;34m'task'\u001b[0m\u001b[1;33m:\u001b[0m \u001b[0mres\u001b[0m\u001b[1;33m[\u001b[0m\u001b[1;34m'message'\u001b[0m\u001b[1;33m]\u001b[0m\u001b[1;33m,\u001b[0m\u001b[1;33m\u001b[0m\u001b[1;33m\u001b[0m\u001b[0m\n",
      "\u001b[1;32m~\\anaconda3\\envs\\PythonAvd\\lib\\site-packages\\scipy\\optimize\\lbfgsb.py\u001b[0m in \u001b[0;36m_minimize_lbfgsb\u001b[1;34m(fun, x0, args, jac, bounds, disp, maxcor, ftol, gtol, eps, maxfun, maxiter, iprint, callback, maxls, finite_diff_rel_step, **unknown_options)\u001b[0m\n\u001b[0;32m    358\u001b[0m             \u001b[1;31m# until the completion of the current minimization iteration.\u001b[0m\u001b[1;33m\u001b[0m\u001b[1;33m\u001b[0m\u001b[1;33m\u001b[0m\u001b[0m\n\u001b[0;32m    359\u001b[0m             \u001b[1;31m# Overwrite f and g:\u001b[0m\u001b[1;33m\u001b[0m\u001b[1;33m\u001b[0m\u001b[1;33m\u001b[0m\u001b[0m\n\u001b[1;32m--> 360\u001b[1;33m             \u001b[0mf\u001b[0m\u001b[1;33m,\u001b[0m \u001b[0mg\u001b[0m \u001b[1;33m=\u001b[0m \u001b[0mfunc_and_grad\u001b[0m\u001b[1;33m(\u001b[0m\u001b[0mx\u001b[0m\u001b[1;33m)\u001b[0m\u001b[1;33m\u001b[0m\u001b[1;33m\u001b[0m\u001b[0m\n\u001b[0m\u001b[0;32m    361\u001b[0m         \u001b[1;32melif\u001b[0m \u001b[0mtask_str\u001b[0m\u001b[1;33m.\u001b[0m\u001b[0mstartswith\u001b[0m\u001b[1;33m(\u001b[0m\u001b[1;34mb'NEW_X'\u001b[0m\u001b[1;33m)\u001b[0m\u001b[1;33m:\u001b[0m\u001b[1;33m\u001b[0m\u001b[1;33m\u001b[0m\u001b[0m\n\u001b[0;32m    362\u001b[0m             \u001b[1;31m# new iteration\u001b[0m\u001b[1;33m\u001b[0m\u001b[1;33m\u001b[0m\u001b[1;33m\u001b[0m\u001b[0m\n",
      "\u001b[1;32m~\\anaconda3\\envs\\PythonAvd\\lib\\site-packages\\scipy\\optimize\\_differentiable_functions.py\u001b[0m in \u001b[0;36mfun_and_grad\u001b[1;34m(self, x)\u001b[0m\n\u001b[0;32m    198\u001b[0m         \u001b[1;32mif\u001b[0m \u001b[1;32mnot\u001b[0m \u001b[0mnp\u001b[0m\u001b[1;33m.\u001b[0m\u001b[0marray_equal\u001b[0m\u001b[1;33m(\u001b[0m\u001b[0mx\u001b[0m\u001b[1;33m,\u001b[0m \u001b[0mself\u001b[0m\u001b[1;33m.\u001b[0m\u001b[0mx\u001b[0m\u001b[1;33m)\u001b[0m\u001b[1;33m:\u001b[0m\u001b[1;33m\u001b[0m\u001b[1;33m\u001b[0m\u001b[0m\n\u001b[0;32m    199\u001b[0m             \u001b[0mself\u001b[0m\u001b[1;33m.\u001b[0m\u001b[0m_update_x_impl\u001b[0m\u001b[1;33m(\u001b[0m\u001b[0mx\u001b[0m\u001b[1;33m)\u001b[0m\u001b[1;33m\u001b[0m\u001b[1;33m\u001b[0m\u001b[0m\n\u001b[1;32m--> 200\u001b[1;33m         \u001b[0mself\u001b[0m\u001b[1;33m.\u001b[0m\u001b[0m_update_fun\u001b[0m\u001b[1;33m(\u001b[0m\u001b[1;33m)\u001b[0m\u001b[1;33m\u001b[0m\u001b[1;33m\u001b[0m\u001b[0m\n\u001b[0m\u001b[0;32m    201\u001b[0m         \u001b[0mself\u001b[0m\u001b[1;33m.\u001b[0m\u001b[0m_update_grad\u001b[0m\u001b[1;33m(\u001b[0m\u001b[1;33m)\u001b[0m\u001b[1;33m\u001b[0m\u001b[1;33m\u001b[0m\u001b[0m\n\u001b[0;32m    202\u001b[0m         \u001b[1;32mreturn\u001b[0m \u001b[0mself\u001b[0m\u001b[1;33m.\u001b[0m\u001b[0mf\u001b[0m\u001b[1;33m,\u001b[0m \u001b[0mself\u001b[0m\u001b[1;33m.\u001b[0m\u001b[0mg\u001b[0m\u001b[1;33m\u001b[0m\u001b[1;33m\u001b[0m\u001b[0m\n",
      "\u001b[1;32m~\\anaconda3\\envs\\PythonAvd\\lib\\site-packages\\scipy\\optimize\\_differentiable_functions.py\u001b[0m in \u001b[0;36m_update_fun\u001b[1;34m(self)\u001b[0m\n\u001b[0;32m    164\u001b[0m     \u001b[1;32mdef\u001b[0m \u001b[0m_update_fun\u001b[0m\u001b[1;33m(\u001b[0m\u001b[0mself\u001b[0m\u001b[1;33m)\u001b[0m\u001b[1;33m:\u001b[0m\u001b[1;33m\u001b[0m\u001b[1;33m\u001b[0m\u001b[0m\n\u001b[0;32m    165\u001b[0m         \u001b[1;32mif\u001b[0m \u001b[1;32mnot\u001b[0m \u001b[0mself\u001b[0m\u001b[1;33m.\u001b[0m\u001b[0mf_updated\u001b[0m\u001b[1;33m:\u001b[0m\u001b[1;33m\u001b[0m\u001b[1;33m\u001b[0m\u001b[0m\n\u001b[1;32m--> 166\u001b[1;33m             \u001b[0mself\u001b[0m\u001b[1;33m.\u001b[0m\u001b[0m_update_fun_impl\u001b[0m\u001b[1;33m(\u001b[0m\u001b[1;33m)\u001b[0m\u001b[1;33m\u001b[0m\u001b[1;33m\u001b[0m\u001b[0m\n\u001b[0m\u001b[0;32m    167\u001b[0m             \u001b[0mself\u001b[0m\u001b[1;33m.\u001b[0m\u001b[0mf_updated\u001b[0m \u001b[1;33m=\u001b[0m \u001b[1;32mTrue\u001b[0m\u001b[1;33m\u001b[0m\u001b[1;33m\u001b[0m\u001b[0m\n\u001b[0;32m    168\u001b[0m \u001b[1;33m\u001b[0m\u001b[0m\n",
      "\u001b[1;32m~\\anaconda3\\envs\\PythonAvd\\lib\\site-packages\\scipy\\optimize\\_differentiable_functions.py\u001b[0m in \u001b[0;36mupdate_fun\u001b[1;34m()\u001b[0m\n\u001b[0;32m     71\u001b[0m \u001b[1;33m\u001b[0m\u001b[0m\n\u001b[0;32m     72\u001b[0m         \u001b[1;32mdef\u001b[0m \u001b[0mupdate_fun\u001b[0m\u001b[1;33m(\u001b[0m\u001b[1;33m)\u001b[0m\u001b[1;33m:\u001b[0m\u001b[1;33m\u001b[0m\u001b[1;33m\u001b[0m\u001b[0m\n\u001b[1;32m---> 73\u001b[1;33m             \u001b[0mself\u001b[0m\u001b[1;33m.\u001b[0m\u001b[0mf\u001b[0m \u001b[1;33m=\u001b[0m \u001b[0mfun_wrapped\u001b[0m\u001b[1;33m(\u001b[0m\u001b[0mself\u001b[0m\u001b[1;33m.\u001b[0m\u001b[0mx\u001b[0m\u001b[1;33m)\u001b[0m\u001b[1;33m\u001b[0m\u001b[1;33m\u001b[0m\u001b[0m\n\u001b[0m\u001b[0;32m     74\u001b[0m \u001b[1;33m\u001b[0m\u001b[0m\n\u001b[0;32m     75\u001b[0m         \u001b[0mself\u001b[0m\u001b[1;33m.\u001b[0m\u001b[0m_update_fun_impl\u001b[0m \u001b[1;33m=\u001b[0m \u001b[0mupdate_fun\u001b[0m\u001b[1;33m\u001b[0m\u001b[1;33m\u001b[0m\u001b[0m\n",
      "\u001b[1;32m~\\anaconda3\\envs\\PythonAvd\\lib\\site-packages\\scipy\\optimize\\_differentiable_functions.py\u001b[0m in \u001b[0;36mfun_wrapped\u001b[1;34m(x)\u001b[0m\n\u001b[0;32m     68\u001b[0m         \u001b[1;32mdef\u001b[0m \u001b[0mfun_wrapped\u001b[0m\u001b[1;33m(\u001b[0m\u001b[0mx\u001b[0m\u001b[1;33m)\u001b[0m\u001b[1;33m:\u001b[0m\u001b[1;33m\u001b[0m\u001b[1;33m\u001b[0m\u001b[0m\n\u001b[0;32m     69\u001b[0m             \u001b[0mself\u001b[0m\u001b[1;33m.\u001b[0m\u001b[0mnfev\u001b[0m \u001b[1;33m+=\u001b[0m \u001b[1;36m1\u001b[0m\u001b[1;33m\u001b[0m\u001b[1;33m\u001b[0m\u001b[0m\n\u001b[1;32m---> 70\u001b[1;33m             \u001b[1;32mreturn\u001b[0m \u001b[0mfun\u001b[0m\u001b[1;33m(\u001b[0m\u001b[0mx\u001b[0m\u001b[1;33m,\u001b[0m \u001b[1;33m*\u001b[0m\u001b[0margs\u001b[0m\u001b[1;33m)\u001b[0m\u001b[1;33m\u001b[0m\u001b[1;33m\u001b[0m\u001b[0m\n\u001b[0m\u001b[0;32m     71\u001b[0m \u001b[1;33m\u001b[0m\u001b[0m\n\u001b[0;32m     72\u001b[0m         \u001b[1;32mdef\u001b[0m \u001b[0mupdate_fun\u001b[0m\u001b[1;33m(\u001b[0m\u001b[1;33m)\u001b[0m\u001b[1;33m:\u001b[0m\u001b[1;33m\u001b[0m\u001b[1;33m\u001b[0m\u001b[0m\n",
      "\u001b[1;32m~\\anaconda3\\envs\\PythonAvd\\lib\\site-packages\\statsmodels\\tsa\\arima_model.py\u001b[0m in \u001b[0;36mfunc\u001b[1;34m(params)\u001b[0m\n\u001b[0;32m    573\u001b[0m         \u001b[1;32melse\u001b[0m\u001b[1;33m:\u001b[0m  \u001b[1;31m# use CSS to get start params\u001b[0m\u001b[1;33m\u001b[0m\u001b[1;33m\u001b[0m\u001b[0m\n\u001b[0;32m    574\u001b[0m             \u001b[1;32mdef\u001b[0m \u001b[0mfunc\u001b[0m\u001b[1;33m(\u001b[0m\u001b[0mparams\u001b[0m\u001b[1;33m)\u001b[0m\u001b[1;33m:\u001b[0m\u001b[1;33m\u001b[0m\u001b[1;33m\u001b[0m\u001b[0m\n\u001b[1;32m--> 575\u001b[1;33m                 \u001b[1;32mreturn\u001b[0m \u001b[1;33m-\u001b[0m\u001b[0mself\u001b[0m\u001b[1;33m.\u001b[0m\u001b[0mloglike_css\u001b[0m\u001b[1;33m(\u001b[0m\u001b[0mparams\u001b[0m\u001b[1;33m)\u001b[0m\u001b[1;33m\u001b[0m\u001b[1;33m\u001b[0m\u001b[0m\n\u001b[0m\u001b[0;32m    576\u001b[0m \u001b[1;33m\u001b[0m\u001b[0m\n\u001b[0;32m    577\u001b[0m             \u001b[0mstart_params\u001b[0m \u001b[1;33m=\u001b[0m \u001b[0mself\u001b[0m\u001b[1;33m.\u001b[0m\u001b[0m_fit_start_params_hr\u001b[0m\u001b[1;33m(\u001b[0m\u001b[0morder\u001b[0m\u001b[1;33m,\u001b[0m \u001b[0mstart_ar_lags\u001b[0m\u001b[1;33m)\u001b[0m\u001b[1;33m\u001b[0m\u001b[1;33m\u001b[0m\u001b[0m\n",
      "\u001b[1;32m~\\anaconda3\\envs\\PythonAvd\\lib\\site-packages\\statsmodels\\tsa\\arima_model.py\u001b[0m in \u001b[0;36mloglike_css\u001b[1;34m(self, params, set_sigma2)\u001b[0m\n\u001b[0;32m    841\u001b[0m         \u001b[1;32mfor\u001b[0m \u001b[0mi\u001b[0m \u001b[1;32min\u001b[0m \u001b[0mrange\u001b[0m\u001b[1;33m(\u001b[0m\u001b[0mk_ar\u001b[0m\u001b[1;33m)\u001b[0m\u001b[1;33m:\u001b[0m\u001b[1;33m\u001b[0m\u001b[1;33m\u001b[0m\u001b[0m\n\u001b[0;32m    842\u001b[0m             \u001b[0mzi\u001b[0m\u001b[1;33m[\u001b[0m\u001b[0mi\u001b[0m\u001b[1;33m]\u001b[0m \u001b[1;33m=\u001b[0m \u001b[0msum\u001b[0m\u001b[1;33m(\u001b[0m\u001b[1;33m-\u001b[0m\u001b[0mb\u001b[0m\u001b[1;33m[\u001b[0m\u001b[1;33m:\u001b[0m\u001b[0mi\u001b[0m \u001b[1;33m+\u001b[0m \u001b[1;36m1\u001b[0m\u001b[1;33m]\u001b[0m\u001b[1;33m[\u001b[0m\u001b[1;33m:\u001b[0m\u001b[1;33m:\u001b[0m\u001b[1;33m-\u001b[0m\u001b[1;36m1\u001b[0m\u001b[1;33m]\u001b[0m \u001b[1;33m*\u001b[0m \u001b[0my\u001b[0m\u001b[1;33m[\u001b[0m\u001b[1;33m:\u001b[0m\u001b[0mi\u001b[0m \u001b[1;33m+\u001b[0m \u001b[1;36m1\u001b[0m\u001b[1;33m]\u001b[0m\u001b[1;33m)\u001b[0m\u001b[1;33m\u001b[0m\u001b[1;33m\u001b[0m\u001b[0m\n\u001b[1;32m--> 843\u001b[1;33m         \u001b[0merrors\u001b[0m \u001b[1;33m=\u001b[0m \u001b[0mlfilter\u001b[0m\u001b[1;33m(\u001b[0m\u001b[0mb\u001b[0m\u001b[1;33m,\u001b[0m \u001b[0ma\u001b[0m\u001b[1;33m,\u001b[0m \u001b[0my\u001b[0m\u001b[1;33m,\u001b[0m \u001b[0mzi\u001b[0m\u001b[1;33m=\u001b[0m\u001b[0mzi\u001b[0m\u001b[1;33m)\u001b[0m\u001b[1;33m[\u001b[0m\u001b[1;36m0\u001b[0m\u001b[1;33m]\u001b[0m\u001b[1;33m[\u001b[0m\u001b[0mk_ar\u001b[0m\u001b[1;33m:\u001b[0m\u001b[1;33m]\u001b[0m\u001b[1;33m\u001b[0m\u001b[1;33m\u001b[0m\u001b[0m\n\u001b[0m\u001b[0;32m    844\u001b[0m \u001b[1;33m\u001b[0m\u001b[0m\n\u001b[0;32m    845\u001b[0m         \u001b[0mssr\u001b[0m \u001b[1;33m=\u001b[0m \u001b[0mnp\u001b[0m\u001b[1;33m.\u001b[0m\u001b[0mdot\u001b[0m\u001b[1;33m(\u001b[0m\u001b[0merrors\u001b[0m\u001b[1;33m,\u001b[0m \u001b[0merrors\u001b[0m\u001b[1;33m)\u001b[0m\u001b[1;33m\u001b[0m\u001b[1;33m\u001b[0m\u001b[0m\n",
      "\u001b[1;32m~\\anaconda3\\envs\\PythonAvd\\lib\\site-packages\\scipy\\signal\\signaltools.py\u001b[0m in \u001b[0;36mlfilter\u001b[1;34m(b, a, x, axis, zi)\u001b[0m\n\u001b[0;32m   1888\u001b[0m         \u001b[0mx\u001b[0m \u001b[1;33m=\u001b[0m \u001b[0mnp\u001b[0m\u001b[1;33m.\u001b[0m\u001b[0marray\u001b[0m\u001b[1;33m(\u001b[0m\u001b[0mx\u001b[0m\u001b[1;33m,\u001b[0m \u001b[0mdtype\u001b[0m\u001b[1;33m=\u001b[0m\u001b[0mdtype\u001b[0m\u001b[1;33m,\u001b[0m \u001b[0mcopy\u001b[0m\u001b[1;33m=\u001b[0m\u001b[1;32mFalse\u001b[0m\u001b[1;33m)\u001b[0m\u001b[1;33m\u001b[0m\u001b[1;33m\u001b[0m\u001b[0m\n\u001b[0;32m   1889\u001b[0m \u001b[1;33m\u001b[0m\u001b[0m\n\u001b[1;32m-> 1890\u001b[1;33m         \u001b[0mout_full\u001b[0m \u001b[1;33m=\u001b[0m \u001b[0mnp\u001b[0m\u001b[1;33m.\u001b[0m\u001b[0mapply_along_axis\u001b[0m\u001b[1;33m(\u001b[0m\u001b[1;32mlambda\u001b[0m \u001b[0my\u001b[0m\u001b[1;33m:\u001b[0m \u001b[0mnp\u001b[0m\u001b[1;33m.\u001b[0m\u001b[0mconvolve\u001b[0m\u001b[1;33m(\u001b[0m\u001b[0mb\u001b[0m\u001b[1;33m,\u001b[0m \u001b[0my\u001b[0m\u001b[1;33m)\u001b[0m\u001b[1;33m,\u001b[0m \u001b[0maxis\u001b[0m\u001b[1;33m,\u001b[0m \u001b[0mx\u001b[0m\u001b[1;33m)\u001b[0m\u001b[1;33m\u001b[0m\u001b[1;33m\u001b[0m\u001b[0m\n\u001b[0m\u001b[0;32m   1891\u001b[0m         \u001b[0mind\u001b[0m \u001b[1;33m=\u001b[0m \u001b[0mout_full\u001b[0m\u001b[1;33m.\u001b[0m\u001b[0mndim\u001b[0m \u001b[1;33m*\u001b[0m \u001b[1;33m[\u001b[0m\u001b[0mslice\u001b[0m\u001b[1;33m(\u001b[0m\u001b[1;32mNone\u001b[0m\u001b[1;33m)\u001b[0m\u001b[1;33m]\u001b[0m\u001b[1;33m\u001b[0m\u001b[1;33m\u001b[0m\u001b[0m\n\u001b[0;32m   1892\u001b[0m         \u001b[1;32mif\u001b[0m \u001b[0mzi\u001b[0m \u001b[1;32mis\u001b[0m \u001b[1;32mnot\u001b[0m \u001b[1;32mNone\u001b[0m\u001b[1;33m:\u001b[0m\u001b[1;33m\u001b[0m\u001b[1;33m\u001b[0m\u001b[0m\n",
      "\u001b[1;32m<__array_function__ internals>\u001b[0m in \u001b[0;36mapply_along_axis\u001b[1;34m(*args, **kwargs)\u001b[0m\n",
      "\u001b[1;32m~\\anaconda3\\envs\\PythonAvd\\lib\\site-packages\\numpy\\lib\\shape_base.py\u001b[0m in \u001b[0;36mapply_along_axis\u001b[1;34m(func1d, axis, arr, *args, **kwargs)\u001b[0m\n\u001b[0;32m    377\u001b[0m     \u001b[1;32mexcept\u001b[0m \u001b[0mStopIteration\u001b[0m\u001b[1;33m:\u001b[0m\u001b[1;33m\u001b[0m\u001b[1;33m\u001b[0m\u001b[0m\n\u001b[0;32m    378\u001b[0m         \u001b[1;32mraise\u001b[0m \u001b[0mValueError\u001b[0m\u001b[1;33m(\u001b[0m\u001b[1;34m'Cannot apply_along_axis when any iteration dimensions are 0'\u001b[0m\u001b[1;33m)\u001b[0m\u001b[1;33m\u001b[0m\u001b[1;33m\u001b[0m\u001b[0m\n\u001b[1;32m--> 379\u001b[1;33m     \u001b[0mres\u001b[0m \u001b[1;33m=\u001b[0m \u001b[0masanyarray\u001b[0m\u001b[1;33m(\u001b[0m\u001b[0mfunc1d\u001b[0m\u001b[1;33m(\u001b[0m\u001b[0minarr_view\u001b[0m\u001b[1;33m[\u001b[0m\u001b[0mind0\u001b[0m\u001b[1;33m]\u001b[0m\u001b[1;33m,\u001b[0m \u001b[1;33m*\u001b[0m\u001b[0margs\u001b[0m\u001b[1;33m,\u001b[0m \u001b[1;33m**\u001b[0m\u001b[0mkwargs\u001b[0m\u001b[1;33m)\u001b[0m\u001b[1;33m)\u001b[0m\u001b[1;33m\u001b[0m\u001b[1;33m\u001b[0m\u001b[0m\n\u001b[0m\u001b[0;32m    380\u001b[0m \u001b[1;33m\u001b[0m\u001b[0m\n\u001b[0;32m    381\u001b[0m     \u001b[1;31m# build a buffer for storing evaluations of func1d.\u001b[0m\u001b[1;33m\u001b[0m\u001b[1;33m\u001b[0m\u001b[1;33m\u001b[0m\u001b[0m\n",
      "\u001b[1;32m~\\anaconda3\\envs\\PythonAvd\\lib\\site-packages\\scipy\\signal\\signaltools.py\u001b[0m in \u001b[0;36m<lambda>\u001b[1;34m(y)\u001b[0m\n\u001b[0;32m   1888\u001b[0m         \u001b[0mx\u001b[0m \u001b[1;33m=\u001b[0m \u001b[0mnp\u001b[0m\u001b[1;33m.\u001b[0m\u001b[0marray\u001b[0m\u001b[1;33m(\u001b[0m\u001b[0mx\u001b[0m\u001b[1;33m,\u001b[0m \u001b[0mdtype\u001b[0m\u001b[1;33m=\u001b[0m\u001b[0mdtype\u001b[0m\u001b[1;33m,\u001b[0m \u001b[0mcopy\u001b[0m\u001b[1;33m=\u001b[0m\u001b[1;32mFalse\u001b[0m\u001b[1;33m)\u001b[0m\u001b[1;33m\u001b[0m\u001b[1;33m\u001b[0m\u001b[0m\n\u001b[0;32m   1889\u001b[0m \u001b[1;33m\u001b[0m\u001b[0m\n\u001b[1;32m-> 1890\u001b[1;33m         \u001b[0mout_full\u001b[0m \u001b[1;33m=\u001b[0m \u001b[0mnp\u001b[0m\u001b[1;33m.\u001b[0m\u001b[0mapply_along_axis\u001b[0m\u001b[1;33m(\u001b[0m\u001b[1;32mlambda\u001b[0m \u001b[0my\u001b[0m\u001b[1;33m:\u001b[0m \u001b[0mnp\u001b[0m\u001b[1;33m.\u001b[0m\u001b[0mconvolve\u001b[0m\u001b[1;33m(\u001b[0m\u001b[0mb\u001b[0m\u001b[1;33m,\u001b[0m \u001b[0my\u001b[0m\u001b[1;33m)\u001b[0m\u001b[1;33m,\u001b[0m \u001b[0maxis\u001b[0m\u001b[1;33m,\u001b[0m \u001b[0mx\u001b[0m\u001b[1;33m)\u001b[0m\u001b[1;33m\u001b[0m\u001b[1;33m\u001b[0m\u001b[0m\n\u001b[0m\u001b[0;32m   1891\u001b[0m         \u001b[0mind\u001b[0m \u001b[1;33m=\u001b[0m \u001b[0mout_full\u001b[0m\u001b[1;33m.\u001b[0m\u001b[0mndim\u001b[0m \u001b[1;33m*\u001b[0m \u001b[1;33m[\u001b[0m\u001b[0mslice\u001b[0m\u001b[1;33m(\u001b[0m\u001b[1;32mNone\u001b[0m\u001b[1;33m)\u001b[0m\u001b[1;33m]\u001b[0m\u001b[1;33m\u001b[0m\u001b[1;33m\u001b[0m\u001b[0m\n\u001b[0;32m   1892\u001b[0m         \u001b[1;32mif\u001b[0m \u001b[0mzi\u001b[0m \u001b[1;32mis\u001b[0m \u001b[1;32mnot\u001b[0m \u001b[1;32mNone\u001b[0m\u001b[1;33m:\u001b[0m\u001b[1;33m\u001b[0m\u001b[1;33m\u001b[0m\u001b[0m\n",
      "\u001b[1;32m<__array_function__ internals>\u001b[0m in \u001b[0;36mconvolve\u001b[1;34m(*args, **kwargs)\u001b[0m\n",
      "\u001b[1;32m~\\anaconda3\\envs\\PythonAvd\\lib\\site-packages\\numpy\\core\\numeric.py\u001b[0m in \u001b[0;36mconvolve\u001b[1;34m(a, v, mode)\u001b[0m\n\u001b[0;32m    815\u001b[0m         \u001b[1;32mraise\u001b[0m \u001b[0mValueError\u001b[0m\u001b[1;33m(\u001b[0m\u001b[1;34m'v cannot be empty'\u001b[0m\u001b[1;33m)\u001b[0m\u001b[1;33m\u001b[0m\u001b[1;33m\u001b[0m\u001b[0m\n\u001b[0;32m    816\u001b[0m     \u001b[0mmode\u001b[0m \u001b[1;33m=\u001b[0m \u001b[0m_mode_from_name\u001b[0m\u001b[1;33m(\u001b[0m\u001b[0mmode\u001b[0m\u001b[1;33m)\u001b[0m\u001b[1;33m\u001b[0m\u001b[1;33m\u001b[0m\u001b[0m\n\u001b[1;32m--> 817\u001b[1;33m     \u001b[1;32mreturn\u001b[0m \u001b[0mmultiarray\u001b[0m\u001b[1;33m.\u001b[0m\u001b[0mcorrelate\u001b[0m\u001b[1;33m(\u001b[0m\u001b[0ma\u001b[0m\u001b[1;33m,\u001b[0m \u001b[0mv\u001b[0m\u001b[1;33m[\u001b[0m\u001b[1;33m:\u001b[0m\u001b[1;33m:\u001b[0m\u001b[1;33m-\u001b[0m\u001b[1;36m1\u001b[0m\u001b[1;33m]\u001b[0m\u001b[1;33m,\u001b[0m \u001b[0mmode\u001b[0m\u001b[1;33m)\u001b[0m\u001b[1;33m\u001b[0m\u001b[1;33m\u001b[0m\u001b[0m\n\u001b[0m\u001b[0;32m    818\u001b[0m \u001b[1;33m\u001b[0m\u001b[0m\n\u001b[0;32m    819\u001b[0m \u001b[1;33m\u001b[0m\u001b[0m\n",
      "\u001b[1;31mKeyboardInterrupt\u001b[0m: "
     ]
    }
   ],
   "source": [
    "history_train = [x for x in train]\n",
    "\n",
    "predictions_train = list()\n",
    "\n",
    "actuals_train = list()\n",
    "\n",
    "for t in range(len(train)):\n",
    "    model = ARIMA(history_train, order=(5,1,0))\n",
    "    model_fit = model.fit(disp=0)\n",
    "    output = model_fit.forecast()\n",
    "    yhat = output[0][0]\n",
    "    predictions_train.append(yhat)\n",
    "    obs = train[t]\n",
    "    history_train.append(obs)\n",
    "    actuals_train.append(obs)\n",
    "    print('predicted=%f, expected=%f' % (yhat, obs))"
   ]
  },
  {
   "cell_type": "code",
   "execution_count": 31,
   "metadata": {},
   "outputs": [],
   "source": [
    "MSE = mean_squared_error(actuals_train, predictions_train)\n",
    "RMSE = math.sqrt(MSE)\n",
    "\n",
    "\n",
    "forecast_errors = [actuals_train[i] - predictions_train[i] for i in range(len(actuals_train))]\n",
    "forecast_errors_abs = [ abs( actuals_train[i] - predictions_train[i] ) for i in range(len(actuals_train))]\n",
    "\n",
    "BIAS = sum(forecast_errors) * 1.0/len(actuals_train)\n",
    "MAE = sum(forecast_errors_abs) * 1.0/len(actuals_train)\n",
    "\n",
    "\n",
    "from sklearn.metrics import r2_score\n",
    "r2_score = r2_score(actuals_train, predictions_train)\n"
   ]
  },
  {
   "cell_type": "code",
   "execution_count": 32,
   "metadata": {},
   "outputs": [
    {
     "name": "stdout",
     "output_type": "stream",
     "text": [
      "Train MSE                         : 15.637955\n",
      "Train RMSE                        : 3.954485\n",
      "Train Bias (Mean Forecast Error)  : -0.034392\n",
      "Train MAE (Mean Absolute Error)   : 3.053387\n",
      "Train r2_score                    : 0.789662\n"
     ]
    }
   ],
   "source": [
    "print('Train MSE                         : %f' % MSE)\n",
    "print('Train RMSE                        : %f' % RMSE)\n",
    "print('Train Bias (Mean Forecast Error)  : %f' % BIAS)\n",
    "print('Train MAE (Mean Absolute Error)   : %f' % MAE)\n",
    "print('Train r2_score                    : %f' % r2_score )\n"
   ]
  },
  {
   "cell_type": "code",
   "execution_count": 33,
   "metadata": {},
   "outputs": [
    {
     "data": {
      "image/png": "[encoded data removed]",
      "text/plain": [
       "<Figure size 432x288 with 1 Axes>"
      ]
     },
     "metadata": {
      "needs_background": "light"
     },
     "output_type": "display_data"
    }
   ],
   "source": [
    "# plot\n",
    "plt.plot(actuals_train)\n",
    "plt.plot(predictions_train, color='red')\n",
    "plt.xlim(0, len(actuals_train) + 10)\n",
    "plt.ylim(min(min(actuals_train), min(predictions_train)) - 10, \n",
    "         max(max(actuals_train), max(predictions_train)) + 10\n",
    "        )\n",
    "plt.plot()\n",
    "plt.show()"
   ]
  },
  {
   "cell_type": "code",
   "execution_count": 34,
   "metadata": {},
   "outputs": [
    {
     "data": {
      "text/plain": [
       "171"
      ]
     },
     "execution_count": 34,
     "metadata": {},
     "output_type": "execute_result"
    }
   ],
   "source": [
    "len(actuals_train)"
   ]
  },
  {
   "cell_type": "code",
   "execution_count": 35,
   "metadata": {},
   "outputs": [
    {
     "data": {
      "text/plain": [
       "171"
      ]
     },
     "execution_count": 35,
     "metadata": {},
     "output_type": "execute_result"
    }
   ],
   "source": [
    "len(predictions_train)"
   ]
  },
  {
   "cell_type": "code",
   "execution_count": null,
   "metadata": {},
   "outputs": [],
   "source": []
  },
  {
   "cell_type": "code",
   "execution_count": null,
   "metadata": {},
   "outputs": [],
   "source": []
  },
  {
   "cell_type": "code",
   "execution_count": null,
   "metadata": {},
   "outputs": [],
   "source": []
  },
  {
   "cell_type": "markdown",
   "metadata": {},
   "source": [
    "### 2.2.2 Test data"
   ]
  },
  {
   "cell_type": "code",
   "execution_count": 36,
   "metadata": {},
   "outputs": [
    {
     "name": "stdout",
     "output_type": "stream",
     "text": [
      "predicted=26.586967, expected=21.150000\n",
      "predicted=21.287363, expected=19.150000\n",
      "predicted=20.896812, expected=23.600000\n",
      "predicted=25.170482, expected=20.000000\n",
      "predicted=19.349461, expected=23.300000\n",
      "predicted=24.374004, expected=23.600000\n",
      "predicted=22.646785, expected=15.250000\n",
      "predicted=15.027281, expected=16.950000\n",
      "predicted=19.896694, expected=19.450000\n",
      "predicted=19.788160, expected=23.050000\n",
      "predicted=22.716478, expected=22.500000\n",
      "predicted=21.457745, expected=18.600000\n",
      "predicted=17.801943, expected=20.250000\n",
      "predicted=20.897383, expected=23.050000\n",
      "predicted=22.637861, expected=20.800000\n",
      "predicted=20.203417, expected=21.400000\n",
      "predicted=21.901911, expected=23.350000\n",
      "predicted=22.818272, expected=25.000000\n",
      "predicted=24.029269, expected=23.350000\n",
      "predicted=22.644579, expected=26.400000\n",
      "predicted=26.154422, expected=25.000000\n",
      "predicted=23.784805, expected=24.450000\n",
      "predicted=24.476002, expected=24.150000\n",
      "predicted=24.407479, expected=23.900000\n",
      "predicted=23.975091, expected=25.000000\n",
      "predicted=25.329894, expected=23.850000\n",
      "predicted=23.671320, expected=22.200000\n",
      "predicted=22.609422, expected=23.850000\n",
      "predicted=24.457394, expected=24.400000\n",
      "predicted=24.091937, expected=22.500000\n",
      "predicted=22.482216, expected=20.800000\n",
      "predicted=21.487963, expected=21.700000\n",
      "predicted=22.370885, expected=23.900000\n",
      "predicted=23.948013, expected=25.300000\n",
      "predicted=24.676313, expected=28.350000\n",
      "predicted=27.273640, expected=28.350000\n",
      "predicted=26.506463, expected=24.700000\n",
      "predicted=23.894438, expected=20.250000\n",
      "predicted=21.316147, expected=22.800000\n",
      "predicted=24.655438, expected=22.750000\n",
      "predicted=23.174773, expected=23.900000\n",
      "predicted=24.443586, expected=25.550000\n",
      "predicted=25.185674, expected=26.950000\n",
      "predicted=25.711192, expected=28.600000\n",
      "predicted=27.489731, expected=28.050000\n",
      "predicted=26.820935, expected=27.800000\n",
      "predicted=27.312304, expected=28.050000\n",
      "predicted=27.832317, expected=25.550000\n",
      "predicted=25.554119, expected=24.700000\n",
      "predicted=25.762049, expected=26.950000\n",
      "predicted=27.602636, expected=28.850000\n",
      "predicted=28.376249, expected=31.150000\n",
      "predicted=30.285069, expected=29.150000\n",
      "predicted=27.830238, expected=28.350000\n",
      "predicted=28.176912, expected=26.950000\n",
      "predicted=27.171024, expected=28.050000\n",
      "predicted=28.680611, expected=29.450000\n",
      "predicted=29.578743, expected=25.000000\n",
      "predicted=24.859023, expected=25.850000\n",
      "predicted=27.224113, expected=23.650000\n",
      "predicted=23.998336, expected=23.650000\n",
      "predicted=24.800094, expected=23.050000\n",
      "predicted=23.928244, expected=22.800000\n",
      "predicted=23.261663, expected=23.300000\n",
      "predicted=23.742436, expected=24.450000\n",
      "predicted=24.322700, expected=26.400000\n",
      "predicted=25.853774, expected=25.550000\n",
      "predicted=24.611755, expected=25.850000\n",
      "predicted=25.554148, expected=26.150000\n",
      "predicted=25.764073, expected=26.950000\n",
      "predicted=26.621064, expected=28.050000\n",
      "predicted=27.683412, expected=28.350000\n",
      "predicted=27.690152, expected=31.400000\n",
      "predicted=30.733624, expected=30.000000\n",
      "predicted=28.640899, expected=29.150000\n",
      "predicted=28.983357, expected=28.100000\n",
      "predicted=28.288945, expected=27.200000\n",
      "predicted=27.662391, expected=25.800000\n",
      "predicted=26.729290, expected=27.200000\n",
      "predicted=28.067560, expected=24.700000\n",
      "predicted=24.867531, expected=26.400000\n",
      "predicted=27.274059, expected=22.200000\n",
      "predicted=22.293807, expected=21.950000\n",
      "predicted=23.408256, expected=25.550000\n",
      "predicted=26.265721, expected=25.300000\n",
      "predicted=24.420077, expected=28.050000\n",
      "predicted=27.811158, expected=27.250000\n",
      "predicted=25.833419, expected=26.950000\n",
      "predicted=26.357248, expected=28.050000\n",
      "predicted=27.879436, expected=25.300000\n",
      "predicted=24.926737, expected=27.500000\n",
      "predicted=28.315068, expected=23.350000\n",
      "predicted=23.218947, expected=23.050000\n",
      "predicted=24.472738, expected=21.400000\n",
      "predicted=22.429869, expected=22.500000\n",
      "predicted=23.438475, expected=23.600000\n",
      "predicted=23.966051, expected=24.200000\n",
      "predicted=23.813421, expected=25.550000\n",
      "predicted=25.061644, expected=26.700000\n",
      "predicted=25.719065, expected=28.350000\n",
      "predicted=27.341195, expected=27.750000\n",
      "predicted=26.697535, expected=23.850000\n",
      "predicted=23.700908, expected=21.150000\n",
      "predicted=22.527977, expected=23.050000\n",
      "predicted=24.570875, expected=26.100000\n",
      "predicted=26.343751, expected=19.700000\n",
      "predicted=19.480129, expected=19.450000\n",
      "predicted=21.316455, expected=20.000000\n",
      "predicted=20.619736, expected=24.450000\n",
      "predicted=24.544723, expected=22.500000\n",
      "predicted=21.661769, expected=23.900000\n",
      "predicted=23.619797, expected=24.450000\n",
      "predicted=23.573974, expected=24.150000\n",
      "predicted=23.445687, expected=24.200000\n",
      "predicted=24.237257, expected=18.050000\n",
      "predicted=18.270246, expected=16.650000\n",
      "predicted=18.997965, expected=17.750000\n",
      "predicted=19.406426, expected=20.550000\n",
      "predicted=21.085854, expected=16.950000\n",
      "predicted=16.863308, expected=15.850000\n",
      "predicted=16.725871, expected=14.150000\n",
      "predicted=14.841242, expected=15.000000\n",
      "predicted=15.954696, expected=15.550000\n",
      "predicted=16.096130, expected=18.900000\n",
      "predicted=18.664770, expected=18.100000\n",
      "predicted=16.882526, expected=15.550000\n",
      "predicted=15.187730, expected=17.800000\n",
      "predicted=18.205113, expected=18.900000\n",
      "predicted=18.196348, expected=17.200000\n",
      "predicted=16.920936, expected=14.450000\n",
      "predicted=15.035691, expected=13.050000\n",
      "predicted=14.068498, expected=12.500000\n",
      "predicted=13.688734, expected=15.300000\n",
      "predicted=16.162587, expected=15.550000\n",
      "predicted=15.112615, expected=12.500000\n",
      "predicted=12.305382, expected=12.750000\n",
      "predicted=13.479086, expected=16.150000\n",
      "predicted=16.043230, expected=22.200000\n",
      "predicted=20.875095, expected=23.300000\n",
      "predicted=20.642409, expected=23.850000\n",
      "predicted=21.737746, expected=18.900000\n",
      "predicted=17.564613, expected=17.250000\n",
      "predicted=18.220921, expected=11.100000\n",
      "predicted=12.863906, expected=11.650000\n",
      "predicted=14.819537, expected=12.500000\n",
      "predicted=14.246118, expected=8.600000\n",
      "predicted=9.464401, expected=6.950000\n",
      "predicted=8.948185, expected=8.600000\n",
      "predicted=9.649513, expected=8.100000\n",
      "predicted=8.262939, expected=10.850000\n",
      "predicted=11.208544, expected=18.300000\n",
      "predicted=16.874303, expected=9.450000\n",
      "predicted=6.628721, expected=9.400000\n",
      "predicted=10.893312, expected=16.650000\n",
      "predicted=16.478197, expected=18.050000\n",
      "predicted=15.642328, expected=12.200000\n",
      "predicted=11.739611, expected=11.700000\n",
      "predicted=12.635911, expected=11.100000\n",
      "predicted=11.372828, expected=8.350000\n",
      "predicted=9.480112, expected=11.950000\n",
      "predicted=13.598547, expected=12.200000\n",
      "predicted=11.498056, expected=8.850000\n",
      "predicted=8.744694, expected=11.100000\n",
      "predicted=11.955696, expected=6.400000\n",
      "predicted=6.042432, expected=10.550000\n",
      "predicted=12.004546, expected=12.250000\n",
      "predicted=11.545760, expected=10.800000\n",
      "predicted=9.875838, expected=11.650000\n",
      "predicted=11.754443, expected=12.750000\n",
      "predicted=11.897191, expected=12.250000\n",
      "predicted=11.713493, expected=10.000000\n",
      "predicted=10.171089, expected=3.350000\n",
      "predicted=4.462735, expected=3.600000\n",
      "predicted=6.392672, expected=3.900000\n",
      "predicted=5.392312, expected=4.450000\n",
      "predicted=5.431882, expected=6.100000\n",
      "predicted=6.444643, expected=9.700000\n",
      "predicted=8.655949, expected=7.200000\n",
      "predicted=5.601473, expected=6.950000\n",
      "predicted=6.900147, expected=7.200000\n",
      "predicted=7.027781, expected=13.100000\n",
      "predicted=12.568658, expected=12.200000\n",
      "predicted=10.354007, expected=8.900000\n",
      "predicted=8.326552, expected=7.500000\n",
      "predicted=8.115715, expected=6.650000\n",
      "predicted=7.269250, expected=6.100000\n",
      "predicted=7.265647, expected=6.350000\n",
      "predicted=7.260436, expected=5.300000\n",
      "predicted=5.646422, expected=6.100000\n",
      "predicted=6.543945, expected=4.450000\n",
      "predicted=4.475548, expected=1.150000\n",
      "predicted=1.927597, expected=-0.200000\n",
      "predicted=1.403849, expected=-0.200000\n",
      "predicted=1.029026, expected=4.450000\n",
      "predicted=5.022811, expected=3.900000\n",
      "predicted=2.774428, expected=3.350000\n",
      "predicted=2.850455, expected=-3.000000\n",
      "predicted=-2.935438, expected=-5.450000\n",
      "predicted=-3.333619, expected=-0.200000\n",
      "predicted=1.669200, expected=6.950000\n",
      "predicted=5.937278, expected=-2.700000\n",
      "predicted=-4.639312, expected=-3.000000\n",
      "predicted=-1.229980, expected=1.700000\n",
      "predicted=1.686531, expected=6.100000\n",
      "predicted=4.571556, expected=5.800000\n",
      "predicted=4.420961, expected=5.800000\n",
      "predicted=4.442875, expected=6.100000\n",
      "predicted=4.973321, expected=5.300000\n"
     ]
    },
    {
     "name": "stdout",
     "output_type": "stream",
     "text": [
      "predicted=4.756668, expected=10.000000\n",
      "predicted=9.936803, expected=2.750000\n",
      "predicted=1.612111, expected=4.200000\n",
      "predicted=5.936497, expected=2.500000\n",
      "predicted=2.917824, expected=3.100000\n",
      "predicted=3.829221, expected=6.650000\n",
      "predicted=7.108323, expected=3.900000\n",
      "predicted=2.725194, expected=5.000000\n",
      "predicted=5.343768, expected=6.100000\n",
      "predicted=5.566153, expected=-0.800000\n",
      "predicted=-0.948768, expected=-1.600000\n",
      "predicted=0.934555, expected=-4.900000\n",
      "predicted=-3.353245, expected=-6.300000\n",
      "predicted=-4.030622, expected=-7.400000\n",
      "predicted=-5.340988, expected=0.900000\n",
      "predicted=1.489624, expected=8.350000\n",
      "predicted=5.538864, expected=13.600000\n",
      "predicted=9.256294, expected=8.350000\n",
      "predicted=4.329584, expected=-0.500000\n",
      "predicted=-1.030411, expected=1.150000\n",
      "predicted=3.688098, expected=2.550000\n",
      "predicted=3.660449, expected=4.450000\n",
      "predicted=5.317790, expected=4.150000\n",
      "predicted=3.969588, expected=6.650000\n",
      "predicted=5.821413, expected=5.800000\n",
      "predicted=4.553582, expected=7.200000\n",
      "predicted=6.740451, expected=7.500000\n",
      "predicted=6.802249, expected=4.450000\n",
      "predicted=4.087471, expected=2.500000\n",
      "predicted=3.574226, expected=6.400000\n",
      "predicted=7.218391, expected=9.700000\n",
      "predicted=8.798935, expected=4.150000\n",
      "predicted=3.166932, expected=2.500000\n",
      "predicted=3.683095, expected=3.900000\n",
      "predicted=4.552120, expected=0.900000\n",
      "predicted=1.271558, expected=-1.050000\n",
      "predicted=0.770849, expected=4.450000\n",
      "predicted=5.353322, expected=3.600000\n",
      "predicted=2.236252, expected=-1.300000\n",
      "predicted=-1.103025, expected=-2.200000\n",
      "predicted=-0.724418, expected=2.800000\n",
      "predicted=3.178232, expected=5.800000\n",
      "predicted=4.678814, expected=3.900000\n",
      "predicted=2.638397, expected=10.000000\n",
      "predicted=9.119861, expected=-0.200000\n",
      "predicted=-2.400061, expected=-3.550000\n",
      "predicted=-0.831964, expected=3.950000\n",
      "predicted=5.952267, expected=1.700000\n",
      "predicted=0.434330, expected=1.700000\n",
      "predicted=2.779531, expected=1.450000\n",
      "predicted=1.181079, expected=5.000000\n",
      "predicted=4.251818, expected=-0.200000\n",
      "predicted=-0.838055, expected=0.900000\n",
      "predicted=2.080339, expected=9.450000\n",
      "predicted=8.902204, expected=15.000000\n",
      "predicted=11.507703, expected=8.350000\n",
      "predicted=5.574781, expected=4.700000\n",
      "predicted=5.026080, expected=9.750000\n",
      "predicted=10.203859, expected=12.500000\n",
      "predicted=11.354105, expected=17.750000\n",
      "predicted=16.669992, expected=11.950000\n",
      "predicted=9.584875, expected=4.450000\n",
      "predicted=5.163779, expected=6.950000\n",
      "predicted=9.633615, expected=11.650000\n",
      "predicted=12.019518, expected=16.650000\n",
      "predicted=15.761918, expected=9.750000\n",
      "predicted=7.932531, expected=-0.200000\n",
      "predicted=1.178196, expected=-4.600000\n",
      "predicted=-0.447977, expected=-3.550000\n",
      "predicted=0.378261, expected=2.000000\n",
      "predicted=4.265612, expected=9.450000\n",
      "predicted=8.406399, expected=11.650000\n",
      "predicted=7.938290, expected=12.200000\n",
      "predicted=8.937624, expected=1.700000\n",
      "predicted=-0.026617, expected=-4.900000\n",
      "predicted=-1.853227, expected=-4.350000\n",
      "predicted=-0.166258, expected=-2.200000\n",
      "predicted=0.251363, expected=-3.000000\n",
      "predicted=-1.671032, expected=-4.900000\n",
      "predicted=-4.243091, expected=-0.200000\n",
      "predicted=-0.026638, expected=3.350000\n",
      "predicted=1.579873, expected=2.500000\n",
      "predicted=0.643565, expected=4.700000\n",
      "predicted=3.705320, expected=5.850000\n",
      "predicted=4.032725, expected=10.300000\n",
      "predicted=8.872439, expected=2.850000\n",
      "predicted=1.183548, expected=0.350000\n",
      "predicted=1.973325, expected=8.050000\n",
      "predicted=9.173014, expected=11.150000\n",
      "predicted=9.090728, expected=4.200000\n",
      "predicted=3.171220, expected=7.250000\n",
      "predicted=8.257918, expected=6.400000\n",
      "predicted=5.276794, expected=10.600000\n",
      "predicted=10.669506, expected=7.200000\n",
      "predicted=6.384595, expected=4.450000\n",
      "predicted=4.823386, expected=5.850000\n",
      "predicted=6.949249, expected=10.800000\n",
      "predicted=10.471632, expected=13.050000\n",
      "predicted=11.543983, expected=8.900000\n",
      "predicted=7.447852, expected=12.750000\n",
      "predicted=12.744582, expected=8.050000\n",
      "predicted=6.818506, expected=7.500000\n",
      "predicted=8.851545, expected=9.150000\n",
      "predicted=10.104714, expected=13.300000\n",
      "predicted=12.713520, expected=17.500000\n",
      "predicted=15.962967, expected=21.400000\n",
      "predicted=18.581694, expected=19.400000\n",
      "predicted=16.447946, expected=13.600000\n",
      "predicted=12.845113, expected=13.900000\n",
      "predicted=15.390539, expected=14.450000\n",
      "predicted=15.268252, expected=22.800000\n",
      "predicted=23.062136, expected=18.850000\n",
      "predicted=16.510302, expected=13.300000\n",
      "predicted=13.354760, expected=9.700000\n",
      "predicted=11.546231, expected=14.450000\n",
      "predicted=16.186508, expected=10.300000\n",
      "predicted=10.768509, expected=11.650000\n",
      "predicted=13.314066, expected=13.350000\n",
      "predicted=13.323874, expected=12.250000\n",
      "predicted=11.421618, expected=10.800000\n",
      "predicted=11.261538, expected=13.650000\n",
      "predicted=13.812989, expected=17.500000\n",
      "predicted=16.412206, expected=21.900000\n",
      "predicted=19.927672, expected=23.600000\n",
      "predicted=20.845115, expected=15.250000\n",
      "predicted=13.377133, expected=16.350000\n",
      "predicted=17.975725, expected=20.300000\n",
      "predicted=20.546308, expected=14.450000\n",
      "predicted=14.112216, expected=13.050000\n",
      "predicted=15.387719, expected=12.800000\n",
      "predicted=13.814069, expected=15.250000\n",
      "predicted=15.811603, expected=10.800000\n",
      "predicted=11.112508, expected=10.300000\n",
      "predicted=11.701116, expected=12.750000\n",
      "predicted=13.342847, expected=13.300000\n",
      "predicted=12.764626, expected=13.650000\n",
      "predicted=13.520507, expected=13.600000\n",
      "predicted=13.070563, expected=9.450000\n",
      "predicted=9.295979, expected=13.600000\n",
      "predicted=14.762983, expected=15.850000\n",
      "predicted=14.929563, expected=19.700000\n",
      "predicted=18.347397, expected=25.250000\n",
      "predicted=22.905391, expected=28.600000\n",
      "predicted=24.761408, expected=25.850000\n",
      "predicted=22.886593, expected=15.550000\n",
      "predicted=15.314003, expected=15.850000\n",
      "predicted=19.093608, expected=13.900000\n",
      "predicted=15.943120, expected=16.950000\n",
      "predicted=19.195969, expected=16.950000\n",
      "predicted=17.398610, expected=14.150000\n",
      "predicted=13.949936, expected=18.050000\n",
      "predicted=18.639087, expected=18.350000\n",
      "predicted=17.074905, expected=18.050000\n",
      "predicted=17.571263, expected=14.700000\n",
      "predicted=14.745655, expected=14.200000\n",
      "predicted=15.025598, expected=19.150000\n",
      "predicted=19.689043, expected=20.550000\n",
      "predicted=19.222247, expected=19.150000\n",
      "predicted=18.193234, expected=17.800000\n",
      "predicted=17.490170, expected=17.200000\n",
      "predicted=17.238568, expected=16.900000\n",
      "predicted=17.438195, expected=12.750000\n",
      "predicted=13.589729, expected=15.000000\n",
      "predicted=16.693521, expected=16.700000\n",
      "predicted=16.688763, expected=19.200000\n",
      "predicted=18.571018, expected=24.150000\n",
      "predicted=22.744197, expected=27.200000\n",
      "predicted=24.182792, expected=29.150000\n",
      "predicted=26.392971, expected=29.700000\n",
      "predicted=27.386514, expected=24.750000\n",
      "predicted=23.464764, expected=21.100000\n",
      "predicted=22.407283, expected=18.600000\n",
      "predicted=20.756833, expected=21.100000\n",
      "predicted=23.213660, expected=25.250000\n",
      "predicted=25.672213, expected=26.100000\n",
      "predicted=24.811271, expected=25.000000\n",
      "predicted=23.882541, expected=25.000000\n",
      "predicted=24.366174, expected=24.150000\n",
      "predicted=23.810184, expected=26.350000\n",
      "predicted=26.590438, expected=25.300000\n",
      "predicted=24.852778, expected=24.150000\n",
      "predicted=24.292767, expected=21.950000\n",
      "predicted=22.505345, expected=20.300000\n",
      "predicted=21.320650, expected=20.850000\n",
      "predicted=22.141472, expected=23.900000\n",
      "predicted=24.287217, expected=26.950000\n",
      "predicted=26.033680, expected=25.550000\n",
      "predicted=24.027975, expected=26.400000\n",
      "predicted=25.777421, expected=26.400000\n",
      "predicted=25.581951, expected=25.250000\n",
      "predicted=24.989254, expected=25.250000\n",
      "predicted=25.723310, expected=23.350000\n",
      "predicted=23.589942, expected=23.350000\n",
      "predicted=24.211475, expected=24.750000\n",
      "predicted=25.180142, expected=23.300000\n",
      "predicted=23.137356, expected=24.450000\n",
      "predicted=24.866356, expected=26.650000\n",
      "predicted=26.190975, expected=28.050000\n",
      "predicted=26.975772, expected=27.500000\n",
      "predicted=26.600179, expected=20.550000\n",
      "predicted=20.440347, expected=24.450000\n",
      "predicted=26.433102, expected=25.300000\n",
      "predicted=25.101308, expected=26.100000\n",
      "predicted=26.009353, expected=26.950000\n",
      "predicted=26.710993, expected=29.150000\n",
      "predicted=27.973767, expected=29.700000\n",
      "predicted=28.486333, expected=28.850000\n",
      "predicted=28.058535, expected=27.500000\n",
      "predicted=27.383050, expected=23.900000\n"
     ]
    },
    {
     "name": "stdout",
     "output_type": "stream",
     "text": [
      "predicted=24.444869, expected=20.000000\n",
      "predicted=21.870696, expected=19.200000\n",
      "predicted=21.671970, expected=21.650000\n",
      "predicted=23.229770, expected=21.950000\n",
      "predicted=22.159435, expected=25.550000\n",
      "predicted=25.325396, expected=22.200000\n",
      "predicted=20.772026, expected=22.800000\n",
      "predicted=22.949276, expected=25.000000\n",
      "predicted=24.775173, expected=27.500000\n",
      "predicted=26.475159, expected=25.300000\n",
      "predicted=24.396468, expected=25.300000\n",
      "predicted=25.239063, expected=24.750000\n",
      "predicted=24.612530, expected=23.100000\n",
      "predicted=23.409829, expected=21.100000\n",
      "predicted=22.191142, expected=19.750000\n",
      "predicted=20.960202, expected=21.950000\n",
      "predicted=23.003250, expected=23.600000\n",
      "predicted=23.439041, expected=24.150000\n",
      "predicted=23.506555, expected=24.200000\n",
      "predicted=23.527531, expected=21.400000\n",
      "predicted=20.947113, expected=25.000000\n",
      "predicted=25.533360, expected=23.900000\n",
      "predicted=23.132310, expected=21.650000\n",
      "predicted=21.858730, expected=25.850000\n",
      "predicted=26.471987, expected=24.450000\n",
      "predicted=23.171067, expected=25.300000\n",
      "predicted=25.381823, expected=26.400000\n",
      "predicted=25.978461, expected=23.900000\n",
      "predicted=23.188124, expected=26.150000\n",
      "predicted=26.760208, expected=26.950000\n",
      "predicted=26.319818, expected=24.150000\n",
      "predicted=23.812596, expected=22.500000\n",
      "predicted=23.443805, expected=21.400000\n",
      "predicted=22.243629, expected=21.150000\n",
      "predicted=22.191041, expected=21.400000\n",
      "predicted=22.249349, expected=20.800000\n",
      "predicted=21.138862, expected=18.050000\n",
      "predicted=18.544181, expected=20.600000\n",
      "predicted=21.562049, expected=22.500000\n",
      "predicted=22.046478, expected=17.250000\n",
      "predicted=16.825709, expected=16.100000\n",
      "predicted=17.677841, expected=17.800000\n",
      "predicted=18.575759, expected=21.400000\n",
      "predicted=21.301154, expected=25.000000\n",
      "predicted=23.905983, expected=19.150000\n",
      "predicted=17.366884, expected=18.350000\n",
      "predicted=19.134472, expected=18.050000\n",
      "predicted=18.583001, expected=16.950000\n",
      "predicted=17.692180, expected=18.050000\n",
      "predicted=19.226422, expected=18.600000\n",
      "predicted=18.509401, expected=20.300000\n",
      "predicted=19.968880, expected=23.050000\n",
      "predicted=22.125287, expected=24.150000\n",
      "predicted=22.543487, expected=23.300000\n",
      "predicted=22.110199, expected=24.450000\n",
      "predicted=23.898450, expected=23.600000\n",
      "predicted=22.927574, expected=21.400000\n",
      "predicted=21.612603, expected=23.100000\n",
      "predicted=23.905112, expected=23.900000\n",
      "predicted=23.648100, expected=24.200000\n",
      "predicted=23.968705, expected=23.350000\n",
      "predicted=23.148662, expected=25.300000\n",
      "predicted=25.131149, expected=26.700000\n",
      "predicted=25.938473, expected=26.100000\n",
      "predicted=25.333578, expected=24.450000\n",
      "predicted=24.320971, expected=25.600000\n",
      "predicted=25.834922, expected=20.550000\n",
      "predicted=20.677512, expected=16.400000\n",
      "predicted=18.567302, expected=15.550000\n",
      "predicted=18.116983, expected=15.000000\n",
      "predicted=16.712787, expected=16.950000\n",
      "predicted=18.356137, expected=17.800000\n",
      "predicted=17.734982, expected=18.600000\n",
      "predicted=18.038834, expected=23.300000\n",
      "predicted=22.365143, expected=23.900000\n",
      "predicted=21.660939, expected=23.050000\n",
      "predicted=21.770076, expected=23.600000\n",
      "predicted=23.016806, expected=23.350000\n",
      "predicted=22.710312, expected=23.050000\n",
      "predicted=23.104356, expected=20.300000\n"
     ]
    },
    {
     "ename": "KeyboardInterrupt",
     "evalue": "",
     "output_type": "error",
     "traceback": [
      "\u001b[1;31m---------------------------------------------------------------------------\u001b[0m",
      "\u001b[1;31mKeyboardInterrupt\u001b[0m                         Traceback (most recent call last)",
      "\u001b[1;32m<ipython-input-36-09203db1f6b3>\u001b[0m in \u001b[0;36m<module>\u001b[1;34m\u001b[0m\n\u001b[0;32m      7\u001b[0m \u001b[1;32mfor\u001b[0m \u001b[0mt\u001b[0m \u001b[1;32min\u001b[0m \u001b[0mrange\u001b[0m\u001b[1;33m(\u001b[0m\u001b[0mlen\u001b[0m\u001b[1;33m(\u001b[0m\u001b[0mtest\u001b[0m\u001b[1;33m)\u001b[0m\u001b[1;33m)\u001b[0m\u001b[1;33m:\u001b[0m\u001b[1;33m\u001b[0m\u001b[1;33m\u001b[0m\u001b[0m\n\u001b[0;32m      8\u001b[0m     \u001b[0mmodel\u001b[0m \u001b[1;33m=\u001b[0m \u001b[0mARIMA\u001b[0m\u001b[1;33m(\u001b[0m\u001b[0mhistory_test\u001b[0m\u001b[1;33m,\u001b[0m \u001b[0morder\u001b[0m\u001b[1;33m=\u001b[0m\u001b[1;33m(\u001b[0m\u001b[1;36m5\u001b[0m\u001b[1;33m,\u001b[0m\u001b[1;36m1\u001b[0m\u001b[1;33m,\u001b[0m\u001b[1;36m0\u001b[0m\u001b[1;33m)\u001b[0m\u001b[1;33m)\u001b[0m\u001b[1;33m\u001b[0m\u001b[1;33m\u001b[0m\u001b[0m\n\u001b[1;32m----> 9\u001b[1;33m     \u001b[0mmodel_fit\u001b[0m \u001b[1;33m=\u001b[0m \u001b[0mmodel\u001b[0m\u001b[1;33m.\u001b[0m\u001b[0mfit\u001b[0m\u001b[1;33m(\u001b[0m\u001b[0mdisp\u001b[0m\u001b[1;33m=\u001b[0m\u001b[1;36m0\u001b[0m\u001b[1;33m)\u001b[0m\u001b[1;33m\u001b[0m\u001b[1;33m\u001b[0m\u001b[0m\n\u001b[0m\u001b[0;32m     10\u001b[0m     \u001b[0moutput\u001b[0m \u001b[1;33m=\u001b[0m \u001b[0mmodel_fit\u001b[0m\u001b[1;33m.\u001b[0m\u001b[0mforecast\u001b[0m\u001b[1;33m(\u001b[0m\u001b[1;33m)\u001b[0m\u001b[1;33m\u001b[0m\u001b[1;33m\u001b[0m\u001b[0m\n\u001b[0;32m     11\u001b[0m     \u001b[0myhat\u001b[0m \u001b[1;33m=\u001b[0m \u001b[0moutput\u001b[0m\u001b[1;33m[\u001b[0m\u001b[1;36m0\u001b[0m\u001b[1;33m]\u001b[0m\u001b[1;33m[\u001b[0m\u001b[1;36m0\u001b[0m\u001b[1;33m]\u001b[0m\u001b[1;33m\u001b[0m\u001b[1;33m\u001b[0m\u001b[0m\n",
      "\u001b[1;32m~\\anaconda3\\envs\\PythonAvd\\lib\\site-packages\\statsmodels\\tsa\\arima_model.py\u001b[0m in \u001b[0;36mfit\u001b[1;34m(self, start_params, trend, method, transparams, solver, maxiter, full_output, disp, callback, start_ar_lags, **kwargs)\u001b[0m\n\u001b[0;32m   1198\u001b[0m                                         \u001b[0mmethod\u001b[0m\u001b[1;33m,\u001b[0m \u001b[0mtransparams\u001b[0m\u001b[1;33m,\u001b[0m \u001b[0msolver\u001b[0m\u001b[1;33m,\u001b[0m\u001b[1;33m\u001b[0m\u001b[1;33m\u001b[0m\u001b[0m\n\u001b[0;32m   1199\u001b[0m                                         \u001b[0mmaxiter\u001b[0m\u001b[1;33m,\u001b[0m \u001b[0mfull_output\u001b[0m\u001b[1;33m,\u001b[0m \u001b[0mdisp\u001b[0m\u001b[1;33m,\u001b[0m\u001b[1;33m\u001b[0m\u001b[1;33m\u001b[0m\u001b[0m\n\u001b[1;32m-> 1200\u001b[1;33m                                         callback, start_ar_lags, **kwargs)\n\u001b[0m\u001b[0;32m   1201\u001b[0m         \u001b[0mnormalized_cov_params\u001b[0m \u001b[1;33m=\u001b[0m \u001b[1;32mNone\u001b[0m  \u001b[1;31m# TODO: fix this?\u001b[0m\u001b[1;33m\u001b[0m\u001b[1;33m\u001b[0m\u001b[0m\n\u001b[0;32m   1202\u001b[0m         arima_fit = ARIMAResults(self, mlefit._results.params,\n",
      "\u001b[1;32m~\\anaconda3\\envs\\PythonAvd\\lib\\site-packages\\statsmodels\\tsa\\arima_model.py\u001b[0m in \u001b[0;36mfit\u001b[1;34m(self, start_params, trend, method, transparams, solver, maxiter, full_output, disp, callback, start_ar_lags, **kwargs)\u001b[0m\n\u001b[0;32m    984\u001b[0m         \u001b[1;32melse\u001b[0m\u001b[1;33m:\u001b[0m  \u001b[1;31m# estimate starting parameters\u001b[0m\u001b[1;33m\u001b[0m\u001b[1;33m\u001b[0m\u001b[0m\n\u001b[0;32m    985\u001b[0m             start_params = self._fit_start_params((k_ar, k_ma, k), method,\n\u001b[1;32m--> 986\u001b[1;33m                                                   start_ar_lags)\n\u001b[0m\u001b[0;32m    987\u001b[0m \u001b[1;33m\u001b[0m\u001b[0m\n\u001b[0;32m    988\u001b[0m         \u001b[1;32mif\u001b[0m \u001b[0mtransparams\u001b[0m\u001b[1;33m:\u001b[0m  \u001b[1;31m# transform initial parameters to ensure invertibility\u001b[0m\u001b[1;33m\u001b[0m\u001b[1;33m\u001b[0m\u001b[0m\n",
      "\u001b[1;32m~\\anaconda3\\envs\\PythonAvd\\lib\\site-packages\\statsmodels\\tsa\\arima_model.py\u001b[0m in \u001b[0;36m_fit_start_params\u001b[1;34m(self, order, method, start_ar_lags)\u001b[0m\n\u001b[0;32m    582\u001b[0m                                             \u001b[0mapprox_grad\u001b[0m\u001b[1;33m=\u001b[0m\u001b[1;32mTrue\u001b[0m\u001b[1;33m,\u001b[0m \u001b[0mm\u001b[0m\u001b[1;33m=\u001b[0m\u001b[1;36m12\u001b[0m\u001b[1;33m,\u001b[0m\u001b[1;33m\u001b[0m\u001b[1;33m\u001b[0m\u001b[0m\n\u001b[0;32m    583\u001b[0m                                             \u001b[0mpgtol\u001b[0m\u001b[1;33m=\u001b[0m\u001b[1;36m1e-7\u001b[0m\u001b[1;33m,\u001b[0m \u001b[0mfactr\u001b[0m\u001b[1;33m=\u001b[0m\u001b[1;36m1e3\u001b[0m\u001b[1;33m,\u001b[0m\u001b[1;33m\u001b[0m\u001b[1;33m\u001b[0m\u001b[0m\n\u001b[1;32m--> 584\u001b[1;33m                                             bounds=bounds, iprint=-1)\n\u001b[0m\u001b[0;32m    585\u001b[0m             \u001b[0mstart_params\u001b[0m \u001b[1;33m=\u001b[0m \u001b[0mmlefit\u001b[0m\u001b[1;33m[\u001b[0m\u001b[1;36m0\u001b[0m\u001b[1;33m]\u001b[0m\u001b[1;33m\u001b[0m\u001b[1;33m\u001b[0m\u001b[0m\n\u001b[0;32m    586\u001b[0m             \u001b[1;32mif\u001b[0m \u001b[0mself\u001b[0m\u001b[1;33m.\u001b[0m\u001b[0mtransparams\u001b[0m\u001b[1;33m:\u001b[0m\u001b[1;33m\u001b[0m\u001b[1;33m\u001b[0m\u001b[0m\n",
      "\u001b[1;32m~\\anaconda3\\envs\\PythonAvd\\lib\\site-packages\\scipy\\optimize\\lbfgsb.py\u001b[0m in \u001b[0;36mfmin_l_bfgs_b\u001b[1;34m(func, x0, fprime, args, approx_grad, bounds, m, factr, pgtol, epsilon, iprint, maxfun, maxiter, disp, callback, maxls)\u001b[0m\n\u001b[0;32m    196\u001b[0m \u001b[1;33m\u001b[0m\u001b[0m\n\u001b[0;32m    197\u001b[0m     res = _minimize_lbfgsb(fun, x0, args=args, jac=jac, bounds=bounds,\n\u001b[1;32m--> 198\u001b[1;33m                            **opts)\n\u001b[0m\u001b[0;32m    199\u001b[0m     d = {'grad': res['jac'],\n\u001b[0;32m    200\u001b[0m          \u001b[1;34m'task'\u001b[0m\u001b[1;33m:\u001b[0m \u001b[0mres\u001b[0m\u001b[1;33m[\u001b[0m\u001b[1;34m'message'\u001b[0m\u001b[1;33m]\u001b[0m\u001b[1;33m,\u001b[0m\u001b[1;33m\u001b[0m\u001b[1;33m\u001b[0m\u001b[0m\n",
      "\u001b[1;32m~\\anaconda3\\envs\\PythonAvd\\lib\\site-packages\\scipy\\optimize\\lbfgsb.py\u001b[0m in \u001b[0;36m_minimize_lbfgsb\u001b[1;34m(fun, x0, args, jac, bounds, disp, maxcor, ftol, gtol, eps, maxfun, maxiter, iprint, callback, maxls, finite_diff_rel_step, **unknown_options)\u001b[0m\n\u001b[0;32m    358\u001b[0m             \u001b[1;31m# until the completion of the current minimization iteration.\u001b[0m\u001b[1;33m\u001b[0m\u001b[1;33m\u001b[0m\u001b[1;33m\u001b[0m\u001b[0m\n\u001b[0;32m    359\u001b[0m             \u001b[1;31m# Overwrite f and g:\u001b[0m\u001b[1;33m\u001b[0m\u001b[1;33m\u001b[0m\u001b[1;33m\u001b[0m\u001b[0m\n\u001b[1;32m--> 360\u001b[1;33m             \u001b[0mf\u001b[0m\u001b[1;33m,\u001b[0m \u001b[0mg\u001b[0m \u001b[1;33m=\u001b[0m \u001b[0mfunc_and_grad\u001b[0m\u001b[1;33m(\u001b[0m\u001b[0mx\u001b[0m\u001b[1;33m)\u001b[0m\u001b[1;33m\u001b[0m\u001b[1;33m\u001b[0m\u001b[0m\n\u001b[0m\u001b[0;32m    361\u001b[0m         \u001b[1;32melif\u001b[0m \u001b[0mtask_str\u001b[0m\u001b[1;33m.\u001b[0m\u001b[0mstartswith\u001b[0m\u001b[1;33m(\u001b[0m\u001b[1;34mb'NEW_X'\u001b[0m\u001b[1;33m)\u001b[0m\u001b[1;33m:\u001b[0m\u001b[1;33m\u001b[0m\u001b[1;33m\u001b[0m\u001b[0m\n\u001b[0;32m    362\u001b[0m             \u001b[1;31m# new iteration\u001b[0m\u001b[1;33m\u001b[0m\u001b[1;33m\u001b[0m\u001b[1;33m\u001b[0m\u001b[0m\n",
      "\u001b[1;32m~\\anaconda3\\envs\\PythonAvd\\lib\\site-packages\\scipy\\optimize\\_differentiable_functions.py\u001b[0m in \u001b[0;36mfun_and_grad\u001b[1;34m(self, x)\u001b[0m\n\u001b[0;32m    199\u001b[0m             \u001b[0mself\u001b[0m\u001b[1;33m.\u001b[0m\u001b[0m_update_x_impl\u001b[0m\u001b[1;33m(\u001b[0m\u001b[0mx\u001b[0m\u001b[1;33m)\u001b[0m\u001b[1;33m\u001b[0m\u001b[1;33m\u001b[0m\u001b[0m\n\u001b[0;32m    200\u001b[0m         \u001b[0mself\u001b[0m\u001b[1;33m.\u001b[0m\u001b[0m_update_fun\u001b[0m\u001b[1;33m(\u001b[0m\u001b[1;33m)\u001b[0m\u001b[1;33m\u001b[0m\u001b[1;33m\u001b[0m\u001b[0m\n\u001b[1;32m--> 201\u001b[1;33m         \u001b[0mself\u001b[0m\u001b[1;33m.\u001b[0m\u001b[0m_update_grad\u001b[0m\u001b[1;33m(\u001b[0m\u001b[1;33m)\u001b[0m\u001b[1;33m\u001b[0m\u001b[1;33m\u001b[0m\u001b[0m\n\u001b[0m\u001b[0;32m    202\u001b[0m         \u001b[1;32mreturn\u001b[0m \u001b[0mself\u001b[0m\u001b[1;33m.\u001b[0m\u001b[0mf\u001b[0m\u001b[1;33m,\u001b[0m \u001b[0mself\u001b[0m\u001b[1;33m.\u001b[0m\u001b[0mg\u001b[0m\u001b[1;33m\u001b[0m\u001b[1;33m\u001b[0m\u001b[0m\n\u001b[0;32m    203\u001b[0m \u001b[1;33m\u001b[0m\u001b[0m\n",
      "\u001b[1;32m~\\anaconda3\\envs\\PythonAvd\\lib\\site-packages\\scipy\\optimize\\_differentiable_functions.py\u001b[0m in \u001b[0;36m_update_grad\u001b[1;34m(self)\u001b[0m\n\u001b[0;32m    169\u001b[0m     \u001b[1;32mdef\u001b[0m \u001b[0m_update_grad\u001b[0m\u001b[1;33m(\u001b[0m\u001b[0mself\u001b[0m\u001b[1;33m)\u001b[0m\u001b[1;33m:\u001b[0m\u001b[1;33m\u001b[0m\u001b[1;33m\u001b[0m\u001b[0m\n\u001b[0;32m    170\u001b[0m         \u001b[1;32mif\u001b[0m \u001b[1;32mnot\u001b[0m \u001b[0mself\u001b[0m\u001b[1;33m.\u001b[0m\u001b[0mg_updated\u001b[0m\u001b[1;33m:\u001b[0m\u001b[1;33m\u001b[0m\u001b[1;33m\u001b[0m\u001b[0m\n\u001b[1;32m--> 171\u001b[1;33m             \u001b[0mself\u001b[0m\u001b[1;33m.\u001b[0m\u001b[0m_update_grad_impl\u001b[0m\u001b[1;33m(\u001b[0m\u001b[1;33m)\u001b[0m\u001b[1;33m\u001b[0m\u001b[1;33m\u001b[0m\u001b[0m\n\u001b[0m\u001b[0;32m    172\u001b[0m             \u001b[0mself\u001b[0m\u001b[1;33m.\u001b[0m\u001b[0mg_updated\u001b[0m \u001b[1;33m=\u001b[0m \u001b[1;32mTrue\u001b[0m\u001b[1;33m\u001b[0m\u001b[1;33m\u001b[0m\u001b[0m\n\u001b[0;32m    173\u001b[0m \u001b[1;33m\u001b[0m\u001b[0m\n",
      "\u001b[1;32m~\\anaconda3\\envs\\PythonAvd\\lib\\site-packages\\scipy\\optimize\\_differentiable_functions.py\u001b[0m in \u001b[0;36mupdate_grad\u001b[1;34m()\u001b[0m\n\u001b[0;32m     90\u001b[0m                 \u001b[0mself\u001b[0m\u001b[1;33m.\u001b[0m\u001b[0mngev\u001b[0m \u001b[1;33m+=\u001b[0m \u001b[1;36m1\u001b[0m\u001b[1;33m\u001b[0m\u001b[1;33m\u001b[0m\u001b[0m\n\u001b[0;32m     91\u001b[0m                 self.g = approx_derivative(fun_wrapped, self.x, f0=self.f,\n\u001b[1;32m---> 92\u001b[1;33m                                            **finite_diff_options)\n\u001b[0m\u001b[0;32m     93\u001b[0m \u001b[1;33m\u001b[0m\u001b[0m\n\u001b[0;32m     94\u001b[0m         \u001b[0mself\u001b[0m\u001b[1;33m.\u001b[0m\u001b[0m_update_grad_impl\u001b[0m \u001b[1;33m=\u001b[0m \u001b[0mupdate_grad\u001b[0m\u001b[1;33m\u001b[0m\u001b[1;33m\u001b[0m\u001b[0m\n",
      "\u001b[1;32m~\\anaconda3\\envs\\PythonAvd\\lib\\site-packages\\scipy\\optimize\\_numdiff.py\u001b[0m in \u001b[0;36mapprox_derivative\u001b[1;34m(fun, x0, method, rel_step, abs_step, f0, bounds, sparsity, as_linear_operator, args, kwargs)\u001b[0m\n\u001b[0;32m    425\u001b[0m         \u001b[1;32mif\u001b[0m \u001b[0msparsity\u001b[0m \u001b[1;32mis\u001b[0m \u001b[1;32mNone\u001b[0m\u001b[1;33m:\u001b[0m\u001b[1;33m\u001b[0m\u001b[1;33m\u001b[0m\u001b[0m\n\u001b[0;32m    426\u001b[0m             return _dense_difference(fun_wrapped, x0, f0, h,\n\u001b[1;32m--> 427\u001b[1;33m                                      use_one_sided, method)\n\u001b[0m\u001b[0;32m    428\u001b[0m         \u001b[1;32melse\u001b[0m\u001b[1;33m:\u001b[0m\u001b[1;33m\u001b[0m\u001b[1;33m\u001b[0m\u001b[0m\n\u001b[0;32m    429\u001b[0m             \u001b[1;32mif\u001b[0m \u001b[1;32mnot\u001b[0m \u001b[0missparse\u001b[0m\u001b[1;33m(\u001b[0m\u001b[0msparsity\u001b[0m\u001b[1;33m)\u001b[0m \u001b[1;32mand\u001b[0m \u001b[0mlen\u001b[0m\u001b[1;33m(\u001b[0m\u001b[0msparsity\u001b[0m\u001b[1;33m)\u001b[0m \u001b[1;33m==\u001b[0m \u001b[1;36m2\u001b[0m\u001b[1;33m:\u001b[0m\u001b[1;33m\u001b[0m\u001b[1;33m\u001b[0m\u001b[0m\n",
      "\u001b[1;32m~\\anaconda3\\envs\\PythonAvd\\lib\\site-packages\\scipy\\optimize\\_numdiff.py\u001b[0m in \u001b[0;36m_dense_difference\u001b[1;34m(fun, x0, f0, h, use_one_sided, method)\u001b[0m\n\u001b[0;32m    495\u001b[0m             \u001b[0mx\u001b[0m \u001b[1;33m=\u001b[0m \u001b[0mx0\u001b[0m \u001b[1;33m+\u001b[0m \u001b[0mh_vecs\u001b[0m\u001b[1;33m[\u001b[0m\u001b[0mi\u001b[0m\u001b[1;33m]\u001b[0m\u001b[1;33m\u001b[0m\u001b[1;33m\u001b[0m\u001b[0m\n\u001b[0;32m    496\u001b[0m             \u001b[0mdx\u001b[0m \u001b[1;33m=\u001b[0m \u001b[0mx\u001b[0m\u001b[1;33m[\u001b[0m\u001b[0mi\u001b[0m\u001b[1;33m]\u001b[0m \u001b[1;33m-\u001b[0m \u001b[0mx0\u001b[0m\u001b[1;33m[\u001b[0m\u001b[0mi\u001b[0m\u001b[1;33m]\u001b[0m  \u001b[1;31m# Recompute dx as exactly representable number.\u001b[0m\u001b[1;33m\u001b[0m\u001b[1;33m\u001b[0m\u001b[0m\n\u001b[1;32m--> 497\u001b[1;33m             \u001b[0mdf\u001b[0m \u001b[1;33m=\u001b[0m \u001b[0mfun\u001b[0m\u001b[1;33m(\u001b[0m\u001b[0mx\u001b[0m\u001b[1;33m)\u001b[0m \u001b[1;33m-\u001b[0m \u001b[0mf0\u001b[0m\u001b[1;33m\u001b[0m\u001b[1;33m\u001b[0m\u001b[0m\n\u001b[0m\u001b[0;32m    498\u001b[0m         \u001b[1;32melif\u001b[0m \u001b[0mmethod\u001b[0m \u001b[1;33m==\u001b[0m \u001b[1;34m'3-point'\u001b[0m \u001b[1;32mand\u001b[0m \u001b[0muse_one_sided\u001b[0m\u001b[1;33m[\u001b[0m\u001b[0mi\u001b[0m\u001b[1;33m]\u001b[0m\u001b[1;33m:\u001b[0m\u001b[1;33m\u001b[0m\u001b[1;33m\u001b[0m\u001b[0m\n\u001b[0;32m    499\u001b[0m             \u001b[0mx1\u001b[0m \u001b[1;33m=\u001b[0m \u001b[0mx0\u001b[0m \u001b[1;33m+\u001b[0m \u001b[0mh_vecs\u001b[0m\u001b[1;33m[\u001b[0m\u001b[0mi\u001b[0m\u001b[1;33m]\u001b[0m\u001b[1;33m\u001b[0m\u001b[1;33m\u001b[0m\u001b[0m\n",
      "\u001b[1;32m~\\anaconda3\\envs\\PythonAvd\\lib\\site-packages\\scipy\\optimize\\_numdiff.py\u001b[0m in \u001b[0;36mfun_wrapped\u001b[1;34m(x)\u001b[0m\n\u001b[0;32m    375\u001b[0m \u001b[1;33m\u001b[0m\u001b[0m\n\u001b[0;32m    376\u001b[0m     \u001b[1;32mdef\u001b[0m \u001b[0mfun_wrapped\u001b[0m\u001b[1;33m(\u001b[0m\u001b[0mx\u001b[0m\u001b[1;33m)\u001b[0m\u001b[1;33m:\u001b[0m\u001b[1;33m\u001b[0m\u001b[1;33m\u001b[0m\u001b[0m\n\u001b[1;32m--> 377\u001b[1;33m         \u001b[0mf\u001b[0m \u001b[1;33m=\u001b[0m \u001b[0mnp\u001b[0m\u001b[1;33m.\u001b[0m\u001b[0matleast_1d\u001b[0m\u001b[1;33m(\u001b[0m\u001b[0mfun\u001b[0m\u001b[1;33m(\u001b[0m\u001b[0mx\u001b[0m\u001b[1;33m,\u001b[0m \u001b[1;33m*\u001b[0m\u001b[0margs\u001b[0m\u001b[1;33m,\u001b[0m \u001b[1;33m**\u001b[0m\u001b[0mkwargs\u001b[0m\u001b[1;33m)\u001b[0m\u001b[1;33m)\u001b[0m\u001b[1;33m\u001b[0m\u001b[1;33m\u001b[0m\u001b[0m\n\u001b[0m\u001b[0;32m    378\u001b[0m         \u001b[1;32mif\u001b[0m \u001b[0mf\u001b[0m\u001b[1;33m.\u001b[0m\u001b[0mndim\u001b[0m \u001b[1;33m>\u001b[0m \u001b[1;36m1\u001b[0m\u001b[1;33m:\u001b[0m\u001b[1;33m\u001b[0m\u001b[1;33m\u001b[0m\u001b[0m\n\u001b[0;32m    379\u001b[0m             raise RuntimeError(\"`fun` return value has \"\n",
      "\u001b[1;32m~\\anaconda3\\envs\\PythonAvd\\lib\\site-packages\\scipy\\optimize\\_differentiable_functions.py\u001b[0m in \u001b[0;36mfun_wrapped\u001b[1;34m(x)\u001b[0m\n\u001b[0;32m     68\u001b[0m         \u001b[1;32mdef\u001b[0m \u001b[0mfun_wrapped\u001b[0m\u001b[1;33m(\u001b[0m\u001b[0mx\u001b[0m\u001b[1;33m)\u001b[0m\u001b[1;33m:\u001b[0m\u001b[1;33m\u001b[0m\u001b[1;33m\u001b[0m\u001b[0m\n\u001b[0;32m     69\u001b[0m             \u001b[0mself\u001b[0m\u001b[1;33m.\u001b[0m\u001b[0mnfev\u001b[0m \u001b[1;33m+=\u001b[0m \u001b[1;36m1\u001b[0m\u001b[1;33m\u001b[0m\u001b[1;33m\u001b[0m\u001b[0m\n\u001b[1;32m---> 70\u001b[1;33m             \u001b[1;32mreturn\u001b[0m \u001b[0mfun\u001b[0m\u001b[1;33m(\u001b[0m\u001b[0mx\u001b[0m\u001b[1;33m,\u001b[0m \u001b[1;33m*\u001b[0m\u001b[0margs\u001b[0m\u001b[1;33m)\u001b[0m\u001b[1;33m\u001b[0m\u001b[1;33m\u001b[0m\u001b[0m\n\u001b[0m\u001b[0;32m     71\u001b[0m \u001b[1;33m\u001b[0m\u001b[0m\n\u001b[0;32m     72\u001b[0m         \u001b[1;32mdef\u001b[0m \u001b[0mupdate_fun\u001b[0m\u001b[1;33m(\u001b[0m\u001b[1;33m)\u001b[0m\u001b[1;33m:\u001b[0m\u001b[1;33m\u001b[0m\u001b[1;33m\u001b[0m\u001b[0m\n",
      "\u001b[1;32m~\\anaconda3\\envs\\PythonAvd\\lib\\site-packages\\statsmodels\\tsa\\arima_model.py\u001b[0m in \u001b[0;36mfunc\u001b[1;34m(params)\u001b[0m\n\u001b[0;32m    573\u001b[0m         \u001b[1;32melse\u001b[0m\u001b[1;33m:\u001b[0m  \u001b[1;31m# use CSS to get start params\u001b[0m\u001b[1;33m\u001b[0m\u001b[1;33m\u001b[0m\u001b[0m\n\u001b[0;32m    574\u001b[0m             \u001b[1;32mdef\u001b[0m \u001b[0mfunc\u001b[0m\u001b[1;33m(\u001b[0m\u001b[0mparams\u001b[0m\u001b[1;33m)\u001b[0m\u001b[1;33m:\u001b[0m\u001b[1;33m\u001b[0m\u001b[1;33m\u001b[0m\u001b[0m\n\u001b[1;32m--> 575\u001b[1;33m                 \u001b[1;32mreturn\u001b[0m \u001b[1;33m-\u001b[0m\u001b[0mself\u001b[0m\u001b[1;33m.\u001b[0m\u001b[0mloglike_css\u001b[0m\u001b[1;33m(\u001b[0m\u001b[0mparams\u001b[0m\u001b[1;33m)\u001b[0m\u001b[1;33m\u001b[0m\u001b[1;33m\u001b[0m\u001b[0m\n\u001b[0m\u001b[0;32m    576\u001b[0m \u001b[1;33m\u001b[0m\u001b[0m\n\u001b[0;32m    577\u001b[0m             \u001b[0mstart_params\u001b[0m \u001b[1;33m=\u001b[0m \u001b[0mself\u001b[0m\u001b[1;33m.\u001b[0m\u001b[0m_fit_start_params_hr\u001b[0m\u001b[1;33m(\u001b[0m\u001b[0morder\u001b[0m\u001b[1;33m,\u001b[0m \u001b[0mstart_ar_lags\u001b[0m\u001b[1;33m)\u001b[0m\u001b[1;33m\u001b[0m\u001b[1;33m\u001b[0m\u001b[0m\n",
      "\u001b[1;32m~\\anaconda3\\envs\\PythonAvd\\lib\\site-packages\\statsmodels\\tsa\\arima_model.py\u001b[0m in \u001b[0;36mloglike_css\u001b[1;34m(self, params, set_sigma2)\u001b[0m\n\u001b[0;32m    841\u001b[0m         \u001b[1;32mfor\u001b[0m \u001b[0mi\u001b[0m \u001b[1;32min\u001b[0m \u001b[0mrange\u001b[0m\u001b[1;33m(\u001b[0m\u001b[0mk_ar\u001b[0m\u001b[1;33m)\u001b[0m\u001b[1;33m:\u001b[0m\u001b[1;33m\u001b[0m\u001b[1;33m\u001b[0m\u001b[0m\n\u001b[0;32m    842\u001b[0m             \u001b[0mzi\u001b[0m\u001b[1;33m[\u001b[0m\u001b[0mi\u001b[0m\u001b[1;33m]\u001b[0m \u001b[1;33m=\u001b[0m \u001b[0msum\u001b[0m\u001b[1;33m(\u001b[0m\u001b[1;33m-\u001b[0m\u001b[0mb\u001b[0m\u001b[1;33m[\u001b[0m\u001b[1;33m:\u001b[0m\u001b[0mi\u001b[0m \u001b[1;33m+\u001b[0m \u001b[1;36m1\u001b[0m\u001b[1;33m]\u001b[0m\u001b[1;33m[\u001b[0m\u001b[1;33m:\u001b[0m\u001b[1;33m:\u001b[0m\u001b[1;33m-\u001b[0m\u001b[1;36m1\u001b[0m\u001b[1;33m]\u001b[0m \u001b[1;33m*\u001b[0m \u001b[0my\u001b[0m\u001b[1;33m[\u001b[0m\u001b[1;33m:\u001b[0m\u001b[0mi\u001b[0m \u001b[1;33m+\u001b[0m \u001b[1;36m1\u001b[0m\u001b[1;33m]\u001b[0m\u001b[1;33m)\u001b[0m\u001b[1;33m\u001b[0m\u001b[1;33m\u001b[0m\u001b[0m\n\u001b[1;32m--> 843\u001b[1;33m         \u001b[0merrors\u001b[0m \u001b[1;33m=\u001b[0m \u001b[0mlfilter\u001b[0m\u001b[1;33m(\u001b[0m\u001b[0mb\u001b[0m\u001b[1;33m,\u001b[0m \u001b[0ma\u001b[0m\u001b[1;33m,\u001b[0m \u001b[0my\u001b[0m\u001b[1;33m,\u001b[0m \u001b[0mzi\u001b[0m\u001b[1;33m=\u001b[0m\u001b[0mzi\u001b[0m\u001b[1;33m)\u001b[0m\u001b[1;33m[\u001b[0m\u001b[1;36m0\u001b[0m\u001b[1;33m]\u001b[0m\u001b[1;33m[\u001b[0m\u001b[0mk_ar\u001b[0m\u001b[1;33m:\u001b[0m\u001b[1;33m]\u001b[0m\u001b[1;33m\u001b[0m\u001b[1;33m\u001b[0m\u001b[0m\n\u001b[0m\u001b[0;32m    844\u001b[0m \u001b[1;33m\u001b[0m\u001b[0m\n\u001b[0;32m    845\u001b[0m         \u001b[0mssr\u001b[0m \u001b[1;33m=\u001b[0m \u001b[0mnp\u001b[0m\u001b[1;33m.\u001b[0m\u001b[0mdot\u001b[0m\u001b[1;33m(\u001b[0m\u001b[0merrors\u001b[0m\u001b[1;33m,\u001b[0m \u001b[0merrors\u001b[0m\u001b[1;33m)\u001b[0m\u001b[1;33m\u001b[0m\u001b[1;33m\u001b[0m\u001b[0m\n",
      "\u001b[1;32m~\\anaconda3\\envs\\PythonAvd\\lib\\site-packages\\scipy\\signal\\signaltools.py\u001b[0m in \u001b[0;36mlfilter\u001b[1;34m(b, a, x, axis, zi)\u001b[0m\n\u001b[0;32m   1888\u001b[0m         \u001b[0mx\u001b[0m \u001b[1;33m=\u001b[0m \u001b[0mnp\u001b[0m\u001b[1;33m.\u001b[0m\u001b[0marray\u001b[0m\u001b[1;33m(\u001b[0m\u001b[0mx\u001b[0m\u001b[1;33m,\u001b[0m \u001b[0mdtype\u001b[0m\u001b[1;33m=\u001b[0m\u001b[0mdtype\u001b[0m\u001b[1;33m,\u001b[0m \u001b[0mcopy\u001b[0m\u001b[1;33m=\u001b[0m\u001b[1;32mFalse\u001b[0m\u001b[1;33m)\u001b[0m\u001b[1;33m\u001b[0m\u001b[1;33m\u001b[0m\u001b[0m\n\u001b[0;32m   1889\u001b[0m \u001b[1;33m\u001b[0m\u001b[0m\n\u001b[1;32m-> 1890\u001b[1;33m         \u001b[0mout_full\u001b[0m \u001b[1;33m=\u001b[0m \u001b[0mnp\u001b[0m\u001b[1;33m.\u001b[0m\u001b[0mapply_along_axis\u001b[0m\u001b[1;33m(\u001b[0m\u001b[1;32mlambda\u001b[0m \u001b[0my\u001b[0m\u001b[1;33m:\u001b[0m \u001b[0mnp\u001b[0m\u001b[1;33m.\u001b[0m\u001b[0mconvolve\u001b[0m\u001b[1;33m(\u001b[0m\u001b[0mb\u001b[0m\u001b[1;33m,\u001b[0m \u001b[0my\u001b[0m\u001b[1;33m)\u001b[0m\u001b[1;33m,\u001b[0m \u001b[0maxis\u001b[0m\u001b[1;33m,\u001b[0m \u001b[0mx\u001b[0m\u001b[1;33m)\u001b[0m\u001b[1;33m\u001b[0m\u001b[1;33m\u001b[0m\u001b[0m\n\u001b[0m\u001b[0;32m   1891\u001b[0m         \u001b[0mind\u001b[0m \u001b[1;33m=\u001b[0m \u001b[0mout_full\u001b[0m\u001b[1;33m.\u001b[0m\u001b[0mndim\u001b[0m \u001b[1;33m*\u001b[0m \u001b[1;33m[\u001b[0m\u001b[0mslice\u001b[0m\u001b[1;33m(\u001b[0m\u001b[1;32mNone\u001b[0m\u001b[1;33m)\u001b[0m\u001b[1;33m]\u001b[0m\u001b[1;33m\u001b[0m\u001b[1;33m\u001b[0m\u001b[0m\n\u001b[0;32m   1892\u001b[0m         \u001b[1;32mif\u001b[0m \u001b[0mzi\u001b[0m \u001b[1;32mis\u001b[0m \u001b[1;32mnot\u001b[0m \u001b[1;32mNone\u001b[0m\u001b[1;33m:\u001b[0m\u001b[1;33m\u001b[0m\u001b[1;33m\u001b[0m\u001b[0m\n",
      "\u001b[1;32m<__array_function__ internals>\u001b[0m in \u001b[0;36mapply_along_axis\u001b[1;34m(*args, **kwargs)\u001b[0m\n",
      "\u001b[1;32m~\\anaconda3\\envs\\PythonAvd\\lib\\site-packages\\numpy\\lib\\shape_base.py\u001b[0m in \u001b[0;36mapply_along_axis\u001b[1;34m(func1d, axis, arr, *args, **kwargs)\u001b[0m\n\u001b[0;32m    377\u001b[0m     \u001b[1;32mexcept\u001b[0m \u001b[0mStopIteration\u001b[0m\u001b[1;33m:\u001b[0m\u001b[1;33m\u001b[0m\u001b[1;33m\u001b[0m\u001b[0m\n\u001b[0;32m    378\u001b[0m         \u001b[1;32mraise\u001b[0m \u001b[0mValueError\u001b[0m\u001b[1;33m(\u001b[0m\u001b[1;34m'Cannot apply_along_axis when any iteration dimensions are 0'\u001b[0m\u001b[1;33m)\u001b[0m\u001b[1;33m\u001b[0m\u001b[1;33m\u001b[0m\u001b[0m\n\u001b[1;32m--> 379\u001b[1;33m     \u001b[0mres\u001b[0m \u001b[1;33m=\u001b[0m \u001b[0masanyarray\u001b[0m\u001b[1;33m(\u001b[0m\u001b[0mfunc1d\u001b[0m\u001b[1;33m(\u001b[0m\u001b[0minarr_view\u001b[0m\u001b[1;33m[\u001b[0m\u001b[0mind0\u001b[0m\u001b[1;33m]\u001b[0m\u001b[1;33m,\u001b[0m \u001b[1;33m*\u001b[0m\u001b[0margs\u001b[0m\u001b[1;33m,\u001b[0m \u001b[1;33m**\u001b[0m\u001b[0mkwargs\u001b[0m\u001b[1;33m)\u001b[0m\u001b[1;33m)\u001b[0m\u001b[1;33m\u001b[0m\u001b[1;33m\u001b[0m\u001b[0m\n\u001b[0m\u001b[0;32m    380\u001b[0m \u001b[1;33m\u001b[0m\u001b[0m\n\u001b[0;32m    381\u001b[0m     \u001b[1;31m# build a buffer for storing evaluations of func1d.\u001b[0m\u001b[1;33m\u001b[0m\u001b[1;33m\u001b[0m\u001b[1;33m\u001b[0m\u001b[0m\n",
      "\u001b[1;32m~\\anaconda3\\envs\\PythonAvd\\lib\\site-packages\\scipy\\signal\\signaltools.py\u001b[0m in \u001b[0;36m<lambda>\u001b[1;34m(y)\u001b[0m\n\u001b[0;32m   1888\u001b[0m         \u001b[0mx\u001b[0m \u001b[1;33m=\u001b[0m \u001b[0mnp\u001b[0m\u001b[1;33m.\u001b[0m\u001b[0marray\u001b[0m\u001b[1;33m(\u001b[0m\u001b[0mx\u001b[0m\u001b[1;33m,\u001b[0m \u001b[0mdtype\u001b[0m\u001b[1;33m=\u001b[0m\u001b[0mdtype\u001b[0m\u001b[1;33m,\u001b[0m \u001b[0mcopy\u001b[0m\u001b[1;33m=\u001b[0m\u001b[1;32mFalse\u001b[0m\u001b[1;33m)\u001b[0m\u001b[1;33m\u001b[0m\u001b[1;33m\u001b[0m\u001b[0m\n\u001b[0;32m   1889\u001b[0m \u001b[1;33m\u001b[0m\u001b[0m\n\u001b[1;32m-> 1890\u001b[1;33m         \u001b[0mout_full\u001b[0m \u001b[1;33m=\u001b[0m \u001b[0mnp\u001b[0m\u001b[1;33m.\u001b[0m\u001b[0mapply_along_axis\u001b[0m\u001b[1;33m(\u001b[0m\u001b[1;32mlambda\u001b[0m \u001b[0my\u001b[0m\u001b[1;33m:\u001b[0m \u001b[0mnp\u001b[0m\u001b[1;33m.\u001b[0m\u001b[0mconvolve\u001b[0m\u001b[1;33m(\u001b[0m\u001b[0mb\u001b[0m\u001b[1;33m,\u001b[0m \u001b[0my\u001b[0m\u001b[1;33m)\u001b[0m\u001b[1;33m,\u001b[0m \u001b[0maxis\u001b[0m\u001b[1;33m,\u001b[0m \u001b[0mx\u001b[0m\u001b[1;33m)\u001b[0m\u001b[1;33m\u001b[0m\u001b[1;33m\u001b[0m\u001b[0m\n\u001b[0m\u001b[0;32m   1891\u001b[0m         \u001b[0mind\u001b[0m \u001b[1;33m=\u001b[0m \u001b[0mout_full\u001b[0m\u001b[1;33m.\u001b[0m\u001b[0mndim\u001b[0m \u001b[1;33m*\u001b[0m \u001b[1;33m[\u001b[0m\u001b[0mslice\u001b[0m\u001b[1;33m(\u001b[0m\u001b[1;32mNone\u001b[0m\u001b[1;33m)\u001b[0m\u001b[1;33m]\u001b[0m\u001b[1;33m\u001b[0m\u001b[1;33m\u001b[0m\u001b[0m\n\u001b[0;32m   1892\u001b[0m         \u001b[1;32mif\u001b[0m \u001b[0mzi\u001b[0m \u001b[1;32mis\u001b[0m \u001b[1;32mnot\u001b[0m \u001b[1;32mNone\u001b[0m\u001b[1;33m:\u001b[0m\u001b[1;33m\u001b[0m\u001b[1;33m\u001b[0m\u001b[0m\n",
      "\u001b[1;32m<__array_function__ internals>\u001b[0m in \u001b[0;36mconvolve\u001b[1;34m(*args, **kwargs)\u001b[0m\n",
      "\u001b[1;32m~\\anaconda3\\envs\\PythonAvd\\lib\\site-packages\\numpy\\core\\numeric.py\u001b[0m in \u001b[0;36mconvolve\u001b[1;34m(a, v, mode)\u001b[0m\n\u001b[0;32m    815\u001b[0m         \u001b[1;32mraise\u001b[0m \u001b[0mValueError\u001b[0m\u001b[1;33m(\u001b[0m\u001b[1;34m'v cannot be empty'\u001b[0m\u001b[1;33m)\u001b[0m\u001b[1;33m\u001b[0m\u001b[1;33m\u001b[0m\u001b[0m\n\u001b[0;32m    816\u001b[0m     \u001b[0mmode\u001b[0m \u001b[1;33m=\u001b[0m \u001b[0m_mode_from_name\u001b[0m\u001b[1;33m(\u001b[0m\u001b[0mmode\u001b[0m\u001b[1;33m)\u001b[0m\u001b[1;33m\u001b[0m\u001b[1;33m\u001b[0m\u001b[0m\n\u001b[1;32m--> 817\u001b[1;33m     \u001b[1;32mreturn\u001b[0m \u001b[0mmultiarray\u001b[0m\u001b[1;33m.\u001b[0m\u001b[0mcorrelate\u001b[0m\u001b[1;33m(\u001b[0m\u001b[0ma\u001b[0m\u001b[1;33m,\u001b[0m \u001b[0mv\u001b[0m\u001b[1;33m[\u001b[0m\u001b[1;33m:\u001b[0m\u001b[1;33m:\u001b[0m\u001b[1;33m-\u001b[0m\u001b[1;36m1\u001b[0m\u001b[1;33m]\u001b[0m\u001b[1;33m,\u001b[0m \u001b[0mmode\u001b[0m\u001b[1;33m)\u001b[0m\u001b[1;33m\u001b[0m\u001b[1;33m\u001b[0m\u001b[0m\n\u001b[0m\u001b[0;32m    818\u001b[0m \u001b[1;33m\u001b[0m\u001b[0m\n\u001b[0;32m    819\u001b[0m \u001b[1;33m\u001b[0m\u001b[0m\n",
      "\u001b[1;31mKeyboardInterrupt\u001b[0m: "
     ]
    }
   ],
   "source": [
    "history_test = [x for x in test]\n",
    "\n",
    "predictions_test = [] # list()\n",
    "\n",
    "actuals_test = []  #list()\n",
    "\n",
    "for t in range(len(test)):\n",
    "    model = ARIMA(history_test, order=(5,1,0))\n",
    "    model_fit = model.fit(disp=0)\n",
    "    output = model_fit.forecast()    \n",
    "    yhat = output[0][0]\n",
    "    predictions_test.append(yhat)\n",
    "    obs = test[t]\n",
    "    history_test.append(obs)\n",
    "    actuals_test.append(obs)\n",
    "    print('predicted=%f, expected=%f' % (yhat, obs))"
   ]
  },
  {
   "cell_type": "code",
   "execution_count": null,
   "metadata": {},
   "outputs": [],
   "source": []
  },
  {
   "cell_type": "code",
   "execution_count": null,
   "metadata": {},
   "outputs": [],
   "source": []
  },
  {
   "cell_type": "code",
   "execution_count": 37,
   "metadata": {},
   "outputs": [],
   "source": [
    "MSE = mean_squared_error(actuals_test, predictions_test)\n",
    "RMSE = math.sqrt(MSE)\n",
    "\n",
    "forecast_errors = [actuals_test[i] - predictions_test[i] for i in range(len(actuals_test))]\n",
    "forecast_errors_abs = [ abs( actuals_test[i] - predictions_test[i] ) for i in range(len(actuals_test))]\n",
    "BIAS = sum(forecast_errors) * 1.0/len(actuals_test)\n",
    "\n",
    "MAE = sum(forecast_errors_abs) * 1.0/len(actuals_test)\n",
    "\n",
    "from sklearn.metrics import r2_score\n",
    "r2_score = r2_score(actuals_test, predictions_test)"
   ]
  },
  {
   "cell_type": "code",
   "execution_count": 38,
   "metadata": {},
   "outputs": [
    {
     "name": "stdout",
     "output_type": "stream",
     "text": [
      "Test MSE                            : 8.964186\n",
      "Test RMSE                           : 2.994025\n",
      "Test Bias (Mean Forecast Error)     : -0.010327\n",
      "Test MAE  (Mean Absolute Error)     : 2.340066\n",
      "Test r2_score                       : 0.891045\n"
     ]
    }
   ],
   "source": [
    "print('Test MSE                            : %f' % MSE)\n",
    "print('Test RMSE                           : %f' % RMSE)\n",
    "print('Test Bias (Mean Forecast Error)     : %f' % BIAS)\n",
    "print('Test MAE  (Mean Absolute Error)     : %f' % MAE)\n",
    "print('Test r2_score                       : %f' % r2_score)"
   ]
  },
  {
   "cell_type": "code",
   "execution_count": 39,
   "metadata": {},
   "outputs": [
    {
     "data": {
      "image/png": "[encoded data removed]",
      "text/plain": [
       "<Figure size 432x288 with 1 Axes>"
      ]
     },
     "metadata": {
      "needs_background": "light"
     },
     "output_type": "display_data"
    }
   ],
   "source": [
    "# plot\n",
    "plt.plot(actuals_test)\n",
    "plt.plot(predictions_test, color='orange')\n",
    "plt.xlim(0, len(actuals_test) + 10)\n",
    "plt.ylim(min(min(actuals_test), min(predictions_test)) - 10, \n",
    "         max(max(actuals_test), max(predictions_test)) + 10\n",
    "        )\n",
    "plt.plot()\n",
    "plt.show()"
   ]
  },
  {
   "cell_type": "code",
   "execution_count": 40,
   "metadata": {},
   "outputs": [
    {
     "data": {
      "text/plain": [
       "497"
      ]
     },
     "execution_count": 40,
     "metadata": {},
     "output_type": "execute_result"
    }
   ],
   "source": [
    "len(actuals_test)"
   ]
  },
  {
   "cell_type": "code",
   "execution_count": 41,
   "metadata": {},
   "outputs": [
    {
     "data": {
      "text/plain": [
       "497"
      ]
     },
     "execution_count": 41,
     "metadata": {},
     "output_type": "execute_result"
    }
   ],
   "source": [
    "len(predictions_test)"
   ]
  },
  {
   "cell_type": "code",
   "execution_count": null,
   "metadata": {},
   "outputs": [],
   "source": []
  },
  {
   "cell_type": "markdown",
   "metadata": {},
   "source": [
    "## 2.2.3 Dataframes"
   ]
  },
  {
   "cell_type": "markdown",
   "metadata": {},
   "source": [
    "### 2.2.3.1 Training"
   ]
  },
  {
   "cell_type": "code",
   "execution_count": 42,
   "metadata": {},
   "outputs": [],
   "source": [
    "ARIMA_Training_df = pd.DataFrame({'Date' : Days_df['Date'][:len(actuals_train)],\n",
    "                                  'Actuals' : actuals_train, \n",
    "                                  'Forecast' : predictions_train\n",
    "                             })"
   ]
  },
  {
   "cell_type": "code",
   "execution_count": 43,
   "metadata": {},
   "outputs": [],
   "source": [
    "# Export to CSV\n",
    "ARIMA_Training_df.to_csv(\"./ARIMA_Training_df.csv\",\n",
    "                   index=False, \n",
    "                   header=True\n",
    "                  )"
   ]
  },
  {
   "cell_type": "code",
   "execution_count": null,
   "metadata": {},
   "outputs": [],
   "source": []
  },
  {
   "cell_type": "code",
   "execution_count": null,
   "metadata": {},
   "outputs": [],
   "source": []
  },
  {
   "cell_type": "markdown",
   "metadata": {},
   "source": [
    "### 2.2.3.2 Test"
   ]
  },
  {
   "cell_type": "code",
   "execution_count": 44,
   "metadata": {},
   "outputs": [
    {
     "ename": "ValueError",
     "evalue": "array length 497 does not match index length 7326",
     "output_type": "error",
     "traceback": [
      "\u001b[1;31m---------------------------------------------------------------------------\u001b[0m",
      "\u001b[1;31mValueError\u001b[0m                                Traceback (most recent call last)",
      "\u001b[1;32m<ipython-input-44-0a361cdbae41>\u001b[0m in \u001b[0;36m<module>\u001b[1;34m\u001b[0m\n\u001b[0;32m      1\u001b[0m ARIMA_Test_df = pd.DataFrame({'Date' : Days_df['Date'][len(actuals_train) : len(Days_df)],\n\u001b[0;32m      2\u001b[0m                               \u001b[1;34m'Actuals'\u001b[0m \u001b[1;33m:\u001b[0m \u001b[0mactuals_test\u001b[0m\u001b[1;33m,\u001b[0m\u001b[1;33m\u001b[0m\u001b[1;33m\u001b[0m\u001b[0m\n\u001b[1;32m----> 3\u001b[1;33m                               \u001b[1;34m'Forecast'\u001b[0m \u001b[1;33m:\u001b[0m \u001b[0mpredictions_test\u001b[0m\u001b[1;33m\u001b[0m\u001b[1;33m\u001b[0m\u001b[0m\n\u001b[0m\u001b[0;32m      4\u001b[0m                              })\n",
      "\u001b[1;32m~\\anaconda3\\envs\\PythonAvd\\lib\\site-packages\\pandas\\core\\frame.py\u001b[0m in \u001b[0;36m__init__\u001b[1;34m(self, data, index, columns, dtype, copy)\u001b[0m\n\u001b[0;32m    433\u001b[0m             )\n\u001b[0;32m    434\u001b[0m         \u001b[1;32melif\u001b[0m \u001b[0misinstance\u001b[0m\u001b[1;33m(\u001b[0m\u001b[0mdata\u001b[0m\u001b[1;33m,\u001b[0m \u001b[0mdict\u001b[0m\u001b[1;33m)\u001b[0m\u001b[1;33m:\u001b[0m\u001b[1;33m\u001b[0m\u001b[1;33m\u001b[0m\u001b[0m\n\u001b[1;32m--> 435\u001b[1;33m             \u001b[0mmgr\u001b[0m \u001b[1;33m=\u001b[0m \u001b[0minit_dict\u001b[0m\u001b[1;33m(\u001b[0m\u001b[0mdata\u001b[0m\u001b[1;33m,\u001b[0m \u001b[0mindex\u001b[0m\u001b[1;33m,\u001b[0m \u001b[0mcolumns\u001b[0m\u001b[1;33m,\u001b[0m \u001b[0mdtype\u001b[0m\u001b[1;33m=\u001b[0m\u001b[0mdtype\u001b[0m\u001b[1;33m)\u001b[0m\u001b[1;33m\u001b[0m\u001b[1;33m\u001b[0m\u001b[0m\n\u001b[0m\u001b[0;32m    436\u001b[0m         \u001b[1;32melif\u001b[0m \u001b[0misinstance\u001b[0m\u001b[1;33m(\u001b[0m\u001b[0mdata\u001b[0m\u001b[1;33m,\u001b[0m \u001b[0mma\u001b[0m\u001b[1;33m.\u001b[0m\u001b[0mMaskedArray\u001b[0m\u001b[1;33m)\u001b[0m\u001b[1;33m:\u001b[0m\u001b[1;33m\u001b[0m\u001b[1;33m\u001b[0m\u001b[0m\n\u001b[0;32m    437\u001b[0m             \u001b[1;32mimport\u001b[0m \u001b[0mnumpy\u001b[0m\u001b[1;33m.\u001b[0m\u001b[0mma\u001b[0m\u001b[1;33m.\u001b[0m\u001b[0mmrecords\u001b[0m \u001b[1;32mas\u001b[0m \u001b[0mmrecords\u001b[0m\u001b[1;33m\u001b[0m\u001b[1;33m\u001b[0m\u001b[0m\n",
      "\u001b[1;32m~\\anaconda3\\envs\\PythonAvd\\lib\\site-packages\\pandas\\core\\internals\\construction.py\u001b[0m in \u001b[0;36minit_dict\u001b[1;34m(data, index, columns, dtype)\u001b[0m\n\u001b[0;32m    252\u001b[0m             \u001b[0marr\u001b[0m \u001b[1;32mif\u001b[0m \u001b[1;32mnot\u001b[0m \u001b[0mis_datetime64tz_dtype\u001b[0m\u001b[1;33m(\u001b[0m\u001b[0marr\u001b[0m\u001b[1;33m)\u001b[0m \u001b[1;32melse\u001b[0m \u001b[0marr\u001b[0m\u001b[1;33m.\u001b[0m\u001b[0mcopy\u001b[0m\u001b[1;33m(\u001b[0m\u001b[1;33m)\u001b[0m \u001b[1;32mfor\u001b[0m \u001b[0marr\u001b[0m \u001b[1;32min\u001b[0m \u001b[0marrays\u001b[0m\u001b[1;33m\u001b[0m\u001b[1;33m\u001b[0m\u001b[0m\n\u001b[0;32m    253\u001b[0m         ]\n\u001b[1;32m--> 254\u001b[1;33m     \u001b[1;32mreturn\u001b[0m \u001b[0marrays_to_mgr\u001b[0m\u001b[1;33m(\u001b[0m\u001b[0marrays\u001b[0m\u001b[1;33m,\u001b[0m \u001b[0mdata_names\u001b[0m\u001b[1;33m,\u001b[0m \u001b[0mindex\u001b[0m\u001b[1;33m,\u001b[0m \u001b[0mcolumns\u001b[0m\u001b[1;33m,\u001b[0m \u001b[0mdtype\u001b[0m\u001b[1;33m=\u001b[0m\u001b[0mdtype\u001b[0m\u001b[1;33m)\u001b[0m\u001b[1;33m\u001b[0m\u001b[1;33m\u001b[0m\u001b[0m\n\u001b[0m\u001b[0;32m    255\u001b[0m \u001b[1;33m\u001b[0m\u001b[0m\n\u001b[0;32m    256\u001b[0m \u001b[1;33m\u001b[0m\u001b[0m\n",
      "\u001b[1;32m~\\anaconda3\\envs\\PythonAvd\\lib\\site-packages\\pandas\\core\\internals\\construction.py\u001b[0m in \u001b[0;36marrays_to_mgr\u001b[1;34m(arrays, arr_names, index, columns, dtype)\u001b[0m\n\u001b[0;32m     62\u001b[0m     \u001b[1;31m# figure out the index, if necessary\u001b[0m\u001b[1;33m\u001b[0m\u001b[1;33m\u001b[0m\u001b[1;33m\u001b[0m\u001b[0m\n\u001b[0;32m     63\u001b[0m     \u001b[1;32mif\u001b[0m \u001b[0mindex\u001b[0m \u001b[1;32mis\u001b[0m \u001b[1;32mNone\u001b[0m\u001b[1;33m:\u001b[0m\u001b[1;33m\u001b[0m\u001b[1;33m\u001b[0m\u001b[0m\n\u001b[1;32m---> 64\u001b[1;33m         \u001b[0mindex\u001b[0m \u001b[1;33m=\u001b[0m \u001b[0mextract_index\u001b[0m\u001b[1;33m(\u001b[0m\u001b[0marrays\u001b[0m\u001b[1;33m)\u001b[0m\u001b[1;33m\u001b[0m\u001b[1;33m\u001b[0m\u001b[0m\n\u001b[0m\u001b[0;32m     65\u001b[0m     \u001b[1;32melse\u001b[0m\u001b[1;33m:\u001b[0m\u001b[1;33m\u001b[0m\u001b[1;33m\u001b[0m\u001b[0m\n\u001b[0;32m     66\u001b[0m         \u001b[0mindex\u001b[0m \u001b[1;33m=\u001b[0m \u001b[0mensure_index\u001b[0m\u001b[1;33m(\u001b[0m\u001b[0mindex\u001b[0m\u001b[1;33m)\u001b[0m\u001b[1;33m\u001b[0m\u001b[1;33m\u001b[0m\u001b[0m\n",
      "\u001b[1;32m~\\anaconda3\\envs\\PythonAvd\\lib\\site-packages\\pandas\\core\\internals\\construction.py\u001b[0m in \u001b[0;36mextract_index\u001b[1;34m(data)\u001b[0m\n\u001b[0;32m    376\u001b[0m                         \u001b[1;34mf\"length {len(index)}\"\u001b[0m\u001b[1;33m\u001b[0m\u001b[1;33m\u001b[0m\u001b[0m\n\u001b[0;32m    377\u001b[0m                     )\n\u001b[1;32m--> 378\u001b[1;33m                     \u001b[1;32mraise\u001b[0m \u001b[0mValueError\u001b[0m\u001b[1;33m(\u001b[0m\u001b[0mmsg\u001b[0m\u001b[1;33m)\u001b[0m\u001b[1;33m\u001b[0m\u001b[1;33m\u001b[0m\u001b[0m\n\u001b[0m\u001b[0;32m    379\u001b[0m             \u001b[1;32melse\u001b[0m\u001b[1;33m:\u001b[0m\u001b[1;33m\u001b[0m\u001b[1;33m\u001b[0m\u001b[0m\n\u001b[0;32m    380\u001b[0m                 \u001b[0mindex\u001b[0m \u001b[1;33m=\u001b[0m \u001b[0mibase\u001b[0m\u001b[1;33m.\u001b[0m\u001b[0mdefault_index\u001b[0m\u001b[1;33m(\u001b[0m\u001b[0mlengths\u001b[0m\u001b[1;33m[\u001b[0m\u001b[1;36m0\u001b[0m\u001b[1;33m]\u001b[0m\u001b[1;33m)\u001b[0m\u001b[1;33m\u001b[0m\u001b[1;33m\u001b[0m\u001b[0m\n",
      "\u001b[1;31mValueError\u001b[0m: array length 497 does not match index length 7326"
     ]
    }
   ],
   "source": [
    "ARIMA_Test_df = pd.DataFrame({'Date' : Days_df['Date'][len(actuals_train) : len(Days_df)],\n",
    "                              'Actuals' : actuals_test, \n",
    "                              'Forecast' : predictions_test\n",
    "                             })"
   ]
  },
  {
   "cell_type": "code",
   "execution_count": 45,
   "metadata": {},
   "outputs": [
    {
     "ename": "NameError",
     "evalue": "name 'ARIMA_Test_df' is not defined",
     "output_type": "error",
     "traceback": [
      "\u001b[1;31m---------------------------------------------------------------------------\u001b[0m",
      "\u001b[1;31mNameError\u001b[0m                                 Traceback (most recent call last)",
      "\u001b[1;32m<ipython-input-45-4d98fae207c4>\u001b[0m in \u001b[0;36m<module>\u001b[1;34m\u001b[0m\n\u001b[0;32m      1\u001b[0m \u001b[1;31m# Export to CSV\u001b[0m\u001b[1;33m\u001b[0m\u001b[1;33m\u001b[0m\u001b[1;33m\u001b[0m\u001b[0m\n\u001b[1;32m----> 2\u001b[1;33m ARIMA_Test_df.to_csv(\"./ARIMA_Test_df.csv\",\n\u001b[0m\u001b[0;32m      3\u001b[0m                    \u001b[0mindex\u001b[0m\u001b[1;33m=\u001b[0m\u001b[1;32mFalse\u001b[0m\u001b[1;33m,\u001b[0m\u001b[1;33m\u001b[0m\u001b[1;33m\u001b[0m\u001b[0m\n\u001b[0;32m      4\u001b[0m                    \u001b[0mheader\u001b[0m\u001b[1;33m=\u001b[0m\u001b[1;32mTrue\u001b[0m\u001b[1;33m\u001b[0m\u001b[1;33m\u001b[0m\u001b[0m\n\u001b[0;32m      5\u001b[0m                   )\n",
      "\u001b[1;31mNameError\u001b[0m: name 'ARIMA_Test_df' is not defined"
     ]
    }
   ],
   "source": [
    "# Export to CSV\n",
    "ARIMA_Test_df.to_csv(\"./ARIMA_Test_df.csv\",\n",
    "                   index=False, \n",
    "                   header=True\n",
    "                  )"
   ]
  },
  {
   "cell_type": "code",
   "execution_count": null,
   "metadata": {},
   "outputs": [],
   "source": []
  },
  {
   "cell_type": "code",
   "execution_count": null,
   "metadata": {},
   "outputs": [],
   "source": []
  },
  {
   "cell_type": "markdown",
   "metadata": {},
   "source": [
    "## 2.3. Neural Network model"
   ]
  },
  {
   "cell_type": "code",
   "execution_count": 46,
   "metadata": {},
   "outputs": [
    {
     "data": {
      "text/plain": [
       "5997"
      ]
     },
     "execution_count": 46,
     "metadata": {},
     "output_type": "execute_result"
    }
   ],
   "source": [
    "len(train)"
   ]
  },
  {
   "cell_type": "code",
   "execution_count": 47,
   "metadata": {},
   "outputs": [
    {
     "data": {
      "text/plain": [
       "6057"
      ]
     },
     "execution_count": 47,
     "metadata": {},
     "output_type": "execute_result"
    }
   ],
   "source": [
    "len(train) + 60"
   ]
  },
  {
   "cell_type": "code",
   "execution_count": 48,
   "metadata": {},
   "outputs": [
    {
     "data": {
      "text/plain": [
       "1500"
      ]
     },
     "execution_count": 48,
     "metadata": {},
     "output_type": "execute_result"
    }
   ],
   "source": [
    "len(test)"
   ]
  },
  {
   "cell_type": "code",
   "execution_count": 49,
   "metadata": {},
   "outputs": [
    {
     "data": {
      "text/plain": [
       "7497"
      ]
     },
     "execution_count": 49,
     "metadata": {},
     "output_type": "execute_result"
    }
   ],
   "source": [
    "len(data)"
   ]
  },
  {
   "cell_type": "markdown",
   "metadata": {},
   "source": [
    "### 2.3.1 Train"
   ]
  },
  {
   "cell_type": "code",
   "execution_count": 51,
   "metadata": {},
   "outputs": [
    {
     "data": {
      "text/plain": [
       "0        5.55\n",
       "1       10.85\n",
       "2       14.20\n",
       "3       11.70\n",
       "4        3.30\n",
       "        ...  \n",
       "7492    25.00\n",
       "7493    26.10\n",
       "7494    27.80\n",
       "7495    23.90\n",
       "7496    25.25\n",
       "Name: Avg_Temp, Length: 7497, dtype: float64"
      ]
     },
     "execution_count": 51,
     "metadata": {},
     "output_type": "execute_result"
    }
   ],
   "source": [
    "x = Days_df['Avg_Temp']\n",
    "x"
   ]
  },
  {
   "cell_type": "code",
   "execution_count": 52,
   "metadata": {},
   "outputs": [],
   "source": [
    "#week = week_df['Week']\n",
    "\n",
    "#week"
   ]
  },
  {
   "cell_type": "code",
   "execution_count": 53,
   "metadata": {},
   "outputs": [],
   "source": [
    "#week_df['lag_temp']= week_df['Avg_Temp'].shift(1)\n",
    "\n",
    "#week_df"
   ]
  },
  {
   "cell_type": "code",
   "execution_count": 54,
   "metadata": {},
   "outputs": [],
   "source": [
    "#y = week_df['lag_temp']\n",
    "#y"
   ]
  },
  {
   "cell_type": "code",
   "execution_count": 55,
   "metadata": {},
   "outputs": [],
   "source": [
    "#x1= x.reset_index(drop=True, inplace=True)"
   ]
  },
  {
   "cell_type": "code",
   "execution_count": 56,
   "metadata": {},
   "outputs": [],
   "source": [
    "# Convert Training Data to Right Shape\n",
    "\n",
    "features_set = []\n",
    "labels = []\n",
    "#for i in range(60, 7497):\n",
    "for i in range(60, 5996):\n",
    "    features_set.append(x[i-60:i])\n",
    "    labels.append(x[i])"
   ]
  },
  {
   "cell_type": "code",
   "execution_count": 57,
   "metadata": {},
   "outputs": [],
   "source": [
    "features_set, labels = np.array(features_set), np.array(labels)"
   ]
  },
  {
   "cell_type": "code",
   "execution_count": 58,
   "metadata": {},
   "outputs": [
    {
     "data": {
      "text/plain": [
       "array([[ 5.55, 10.85, 14.2 , ...,  9.15,  8.85,  6.95],\n",
       "       [10.85, 14.2 , 11.7 , ...,  8.85,  6.95,  6.1 ],\n",
       "       [14.2 , 11.7 ,  3.3 , ...,  6.95,  6.1 ,  5.25],\n",
       "       ...,\n",
       "       [ 8.05, 16.1 , 21.1 , ..., 26.4 , 26.7 , 27.5 ],\n",
       "       [16.1 , 21.1 , 12.75, ..., 26.7 , 27.5 , 25.85],\n",
       "       [21.1 , 12.75,  5.55, ..., 27.5 , 25.85, 23.9 ]])"
      ]
     },
     "execution_count": 58,
     "metadata": {},
     "output_type": "execute_result"
    }
   ],
   "source": [
    "features_set"
   ]
  },
  {
   "cell_type": "code",
   "execution_count": 59,
   "metadata": {},
   "outputs": [],
   "source": [
    "features_set = np.reshape(features_set, (features_set.shape[0], features_set.shape[1], 1))"
   ]
  },
  {
   "cell_type": "code",
   "execution_count": 60,
   "metadata": {},
   "outputs": [
    {
     "name": "stderr",
     "output_type": "stream",
     "text": [
      "Using TensorFlow backend.\n",
      "C:\\Users\\LKNT\\anaconda3\\envs\\PythonAvd\\lib\\site-packages\\tensorflow\\python\\framework\\dtypes.py:526: FutureWarning: Passing (type, 1) or '1type' as a synonym of type is deprecated; in a future version of numpy, it will be understood as (type, (1,)) / '(1,)type'.\n",
      "  _np_qint8 = np.dtype([(\"qint8\", np.int8, 1)])\n",
      "C:\\Users\\LKNT\\anaconda3\\envs\\PythonAvd\\lib\\site-packages\\tensorflow\\python\\framework\\dtypes.py:527: FutureWarning: Passing (type, 1) or '1type' as a synonym of type is deprecated; in a future version of numpy, it will be understood as (type, (1,)) / '(1,)type'.\n",
      "  _np_quint8 = np.dtype([(\"quint8\", np.uint8, 1)])\n",
      "C:\\Users\\LKNT\\anaconda3\\envs\\PythonAvd\\lib\\site-packages\\tensorflow\\python\\framework\\dtypes.py:528: FutureWarning: Passing (type, 1) or '1type' as a synonym of type is deprecated; in a future version of numpy, it will be understood as (type, (1,)) / '(1,)type'.\n",
      "  _np_qint16 = np.dtype([(\"qint16\", np.int16, 1)])\n",
      "C:\\Users\\LKNT\\anaconda3\\envs\\PythonAvd\\lib\\site-packages\\tensorflow\\python\\framework\\dtypes.py:529: FutureWarning: Passing (type, 1) or '1type' as a synonym of type is deprecated; in a future version of numpy, it will be understood as (type, (1,)) / '(1,)type'.\n",
      "  _np_quint16 = np.dtype([(\"quint16\", np.uint16, 1)])\n",
      "C:\\Users\\LKNT\\anaconda3\\envs\\PythonAvd\\lib\\site-packages\\tensorflow\\python\\framework\\dtypes.py:530: FutureWarning: Passing (type, 1) or '1type' as a synonym of type is deprecated; in a future version of numpy, it will be understood as (type, (1,)) / '(1,)type'.\n",
      "  _np_qint32 = np.dtype([(\"qint32\", np.int32, 1)])\n",
      "C:\\Users\\LKNT\\anaconda3\\envs\\PythonAvd\\lib\\site-packages\\tensorflow\\python\\framework\\dtypes.py:535: FutureWarning: Passing (type, 1) or '1type' as a synonym of type is deprecated; in a future version of numpy, it will be understood as (type, (1,)) / '(1,)type'.\n",
      "  np_resource = np.dtype([(\"resource\", np.ubyte, 1)])\n"
     ]
    }
   ],
   "source": [
    "from keras.models import Sequential\n",
    "from keras.layers import Dense\n",
    "from keras.layers import LSTM\n",
    "from keras.layers import Dropout"
   ]
  },
  {
   "cell_type": "code",
   "execution_count": 61,
   "metadata": {},
   "outputs": [],
   "source": [
    "model = Sequential()"
   ]
  },
  {
   "cell_type": "code",
   "execution_count": 62,
   "metadata": {},
   "outputs": [
    {
     "name": "stdout",
     "output_type": "stream",
     "text": [
      "WARNING:tensorflow:From C:\\Users\\LKNT\\anaconda3\\envs\\PythonAvd\\lib\\site-packages\\tensorflow\\python\\ops\\resource_variable_ops.py:435: colocate_with (from tensorflow.python.framework.ops) is deprecated and will be removed in a future version.\n",
      "Instructions for updating:\n",
      "Colocations handled automatically by placer.\n"
     ]
    }
   ],
   "source": [
    "model.add(LSTM(units=50, return_sequences=True, input_shape=(features_set.shape[1], 1)))"
   ]
  },
  {
   "cell_type": "code",
   "execution_count": 63,
   "metadata": {},
   "outputs": [],
   "source": [
    "model.add(Dropout(0.2))"
   ]
  },
  {
   "cell_type": "code",
   "execution_count": 64,
   "metadata": {},
   "outputs": [],
   "source": [
    "model.add(LSTM(units=50, return_sequences=True))\n",
    "model.add(Dropout(0.2))\n",
    "\n",
    "model.add(LSTM(units=50, return_sequences=True))\n",
    "model.add(Dropout(0.2))\n",
    "\n",
    "model.add(LSTM(units=50))\n",
    "model.add(Dropout(0.2))"
   ]
  },
  {
   "cell_type": "code",
   "execution_count": 65,
   "metadata": {},
   "outputs": [],
   "source": [
    "model.add(Dense(units = 1))"
   ]
  },
  {
   "cell_type": "code",
   "execution_count": 66,
   "metadata": {},
   "outputs": [],
   "source": [
    "model.compile(optimizer = 'adam', loss = 'mean_squared_error')"
   ]
  },
  {
   "cell_type": "code",
   "execution_count": 67,
   "metadata": {},
   "outputs": [
    {
     "name": "stdout",
     "output_type": "stream",
     "text": [
      "WARNING:tensorflow:From C:\\Users\\LKNT\\anaconda3\\envs\\PythonAvd\\lib\\site-packages\\tensorflow\\python\\ops\\math_ops.py:3066: to_int32 (from tensorflow.python.ops.math_ops) is deprecated and will be removed in a future version.\n",
      "Instructions for updating:\n",
      "Use tf.cast instead.\n",
      "Epoch 1/100\n",
      "5936/5936 [==============================] - 17s 3ms/step - loss: 80.7444\n",
      "Epoch 2/100\n",
      "5936/5936 [==============================] - 16s 3ms/step - loss: 26.4827\n",
      "Epoch 3/100\n",
      "5056/5936 [========================>.....] - ETA: 4s - loss: 16.0610"
     ]
    },
    {
     "ename": "KeyboardInterrupt",
     "evalue": "",
     "output_type": "error",
     "traceback": [
      "\u001b[1;31m---------------------------------------------------------------------------\u001b[0m",
      "\u001b[1;31mKeyboardInterrupt\u001b[0m                         Traceback (most recent call last)",
      "\u001b[1;32m<ipython-input-67-68f4e58a9069>\u001b[0m in \u001b[0;36m<module>\u001b[1;34m\u001b[0m\n\u001b[1;32m----> 1\u001b[1;33m \u001b[0mmodel\u001b[0m\u001b[1;33m.\u001b[0m\u001b[0mfit\u001b[0m\u001b[1;33m(\u001b[0m\u001b[0mfeatures_set\u001b[0m\u001b[1;33m,\u001b[0m \u001b[0mlabels\u001b[0m\u001b[1;33m,\u001b[0m \u001b[0mepochs\u001b[0m \u001b[1;33m=\u001b[0m \u001b[1;36m100\u001b[0m\u001b[1;33m,\u001b[0m \u001b[0mbatch_size\u001b[0m \u001b[1;33m=\u001b[0m \u001b[1;36m32\u001b[0m\u001b[1;33m)\u001b[0m\u001b[1;33m\u001b[0m\u001b[1;33m\u001b[0m\u001b[0m\n\u001b[0m",
      "\u001b[1;32m~\\anaconda3\\envs\\PythonAvd\\lib\\site-packages\\keras\\engine\\training.py\u001b[0m in \u001b[0;36mfit\u001b[1;34m(self, x, y, batch_size, epochs, verbose, callbacks, validation_split, validation_data, shuffle, class_weight, sample_weight, initial_epoch, steps_per_epoch, validation_steps, validation_freq, max_queue_size, workers, use_multiprocessing, **kwargs)\u001b[0m\n\u001b[0;32m   1237\u001b[0m                                         \u001b[0msteps_per_epoch\u001b[0m\u001b[1;33m=\u001b[0m\u001b[0msteps_per_epoch\u001b[0m\u001b[1;33m,\u001b[0m\u001b[1;33m\u001b[0m\u001b[1;33m\u001b[0m\u001b[0m\n\u001b[0;32m   1238\u001b[0m                                         \u001b[0mvalidation_steps\u001b[0m\u001b[1;33m=\u001b[0m\u001b[0mvalidation_steps\u001b[0m\u001b[1;33m,\u001b[0m\u001b[1;33m\u001b[0m\u001b[1;33m\u001b[0m\u001b[0m\n\u001b[1;32m-> 1239\u001b[1;33m                                         validation_freq=validation_freq)\n\u001b[0m\u001b[0;32m   1240\u001b[0m \u001b[1;33m\u001b[0m\u001b[0m\n\u001b[0;32m   1241\u001b[0m     def evaluate(self,\n",
      "\u001b[1;32m~\\anaconda3\\envs\\PythonAvd\\lib\\site-packages\\keras\\engine\\training_arrays.py\u001b[0m in \u001b[0;36mfit_loop\u001b[1;34m(model, fit_function, fit_inputs, out_labels, batch_size, epochs, verbose, callbacks, val_function, val_inputs, shuffle, initial_epoch, steps_per_epoch, validation_steps, validation_freq)\u001b[0m\n\u001b[0;32m    194\u001b[0m                     \u001b[0mins_batch\u001b[0m\u001b[1;33m[\u001b[0m\u001b[0mi\u001b[0m\u001b[1;33m]\u001b[0m \u001b[1;33m=\u001b[0m \u001b[0mins_batch\u001b[0m\u001b[1;33m[\u001b[0m\u001b[0mi\u001b[0m\u001b[1;33m]\u001b[0m\u001b[1;33m.\u001b[0m\u001b[0mtoarray\u001b[0m\u001b[1;33m(\u001b[0m\u001b[1;33m)\u001b[0m\u001b[1;33m\u001b[0m\u001b[1;33m\u001b[0m\u001b[0m\n\u001b[0;32m    195\u001b[0m \u001b[1;33m\u001b[0m\u001b[0m\n\u001b[1;32m--> 196\u001b[1;33m                 \u001b[0mouts\u001b[0m \u001b[1;33m=\u001b[0m \u001b[0mfit_function\u001b[0m\u001b[1;33m(\u001b[0m\u001b[0mins_batch\u001b[0m\u001b[1;33m)\u001b[0m\u001b[1;33m\u001b[0m\u001b[1;33m\u001b[0m\u001b[0m\n\u001b[0m\u001b[0;32m    197\u001b[0m                 \u001b[0mouts\u001b[0m \u001b[1;33m=\u001b[0m \u001b[0mto_list\u001b[0m\u001b[1;33m(\u001b[0m\u001b[0mouts\u001b[0m\u001b[1;33m)\u001b[0m\u001b[1;33m\u001b[0m\u001b[1;33m\u001b[0m\u001b[0m\n\u001b[0;32m    198\u001b[0m                 \u001b[1;32mfor\u001b[0m \u001b[0ml\u001b[0m\u001b[1;33m,\u001b[0m \u001b[0mo\u001b[0m \u001b[1;32min\u001b[0m \u001b[0mzip\u001b[0m\u001b[1;33m(\u001b[0m\u001b[0mout_labels\u001b[0m\u001b[1;33m,\u001b[0m \u001b[0mouts\u001b[0m\u001b[1;33m)\u001b[0m\u001b[1;33m:\u001b[0m\u001b[1;33m\u001b[0m\u001b[1;33m\u001b[0m\u001b[0m\n",
      "\u001b[1;32m~\\anaconda3\\envs\\PythonAvd\\lib\\site-packages\\tensorflow\\python\\keras\\backend.py\u001b[0m in \u001b[0;36m__call__\u001b[1;34m(self, inputs)\u001b[0m\n\u001b[0;32m   3074\u001b[0m \u001b[1;33m\u001b[0m\u001b[0m\n\u001b[0;32m   3075\u001b[0m     fetched = self._callable_fn(*array_vals,\n\u001b[1;32m-> 3076\u001b[1;33m                                 run_metadata=self.run_metadata)\n\u001b[0m\u001b[0;32m   3077\u001b[0m     \u001b[0mself\u001b[0m\u001b[1;33m.\u001b[0m\u001b[0m_call_fetch_callbacks\u001b[0m\u001b[1;33m(\u001b[0m\u001b[0mfetched\u001b[0m\u001b[1;33m[\u001b[0m\u001b[1;33m-\u001b[0m\u001b[0mlen\u001b[0m\u001b[1;33m(\u001b[0m\u001b[0mself\u001b[0m\u001b[1;33m.\u001b[0m\u001b[0m_fetches\u001b[0m\u001b[1;33m)\u001b[0m\u001b[1;33m:\u001b[0m\u001b[1;33m]\u001b[0m\u001b[1;33m)\u001b[0m\u001b[1;33m\u001b[0m\u001b[1;33m\u001b[0m\u001b[0m\n\u001b[0;32m   3078\u001b[0m     return nest.pack_sequence_as(self._outputs_structure,\n",
      "\u001b[1;32m~\\anaconda3\\envs\\PythonAvd\\lib\\site-packages\\tensorflow\\python\\client\\session.py\u001b[0m in \u001b[0;36m__call__\u001b[1;34m(self, *args, **kwargs)\u001b[0m\n\u001b[0;32m   1437\u001b[0m           ret = tf_session.TF_SessionRunCallable(\n\u001b[0;32m   1438\u001b[0m               \u001b[0mself\u001b[0m\u001b[1;33m.\u001b[0m\u001b[0m_session\u001b[0m\u001b[1;33m.\u001b[0m\u001b[0m_session\u001b[0m\u001b[1;33m,\u001b[0m \u001b[0mself\u001b[0m\u001b[1;33m.\u001b[0m\u001b[0m_handle\u001b[0m\u001b[1;33m,\u001b[0m \u001b[0margs\u001b[0m\u001b[1;33m,\u001b[0m \u001b[0mstatus\u001b[0m\u001b[1;33m,\u001b[0m\u001b[1;33m\u001b[0m\u001b[1;33m\u001b[0m\u001b[0m\n\u001b[1;32m-> 1439\u001b[1;33m               run_metadata_ptr)\n\u001b[0m\u001b[0;32m   1440\u001b[0m         \u001b[1;32mif\u001b[0m \u001b[0mrun_metadata\u001b[0m\u001b[1;33m:\u001b[0m\u001b[1;33m\u001b[0m\u001b[1;33m\u001b[0m\u001b[0m\n\u001b[0;32m   1441\u001b[0m           \u001b[0mproto_data\u001b[0m \u001b[1;33m=\u001b[0m \u001b[0mtf_session\u001b[0m\u001b[1;33m.\u001b[0m\u001b[0mTF_GetBuffer\u001b[0m\u001b[1;33m(\u001b[0m\u001b[0mrun_metadata_ptr\u001b[0m\u001b[1;33m)\u001b[0m\u001b[1;33m\u001b[0m\u001b[1;33m\u001b[0m\u001b[0m\n",
      "\u001b[1;31mKeyboardInterrupt\u001b[0m: "
     ]
    }
   ],
   "source": [
    "model.fit(features_set, labels, epochs = 100, batch_size = 32)"
   ]
  },
  {
   "cell_type": "code",
   "execution_count": 68,
   "metadata": {},
   "outputs": [
    {
     "data": {
      "text/plain": [
       "60"
      ]
     },
     "execution_count": 68,
     "metadata": {},
     "output_type": "execute_result"
    }
   ],
   "source": [
    "test_x = x[(len(x)-60):len(x)]\n",
    "len(test_x)"
   ]
  },
  {
   "cell_type": "code",
   "execution_count": 69,
   "metadata": {},
   "outputs": [],
   "source": [
    "test_features = []\n",
    "#for i in range(60,7497):\n",
    "#for i in range(0, 5996):\n",
    "for i in range(60, 5996):\n",
    "    test_features.append(x[i-60:i])"
   ]
  },
  {
   "cell_type": "code",
   "execution_count": 70,
   "metadata": {},
   "outputs": [
    {
     "data": {
      "text/plain": [
       "5936"
      ]
     },
     "execution_count": 70,
     "metadata": {},
     "output_type": "execute_result"
    }
   ],
   "source": [
    "test_features = np.array(test_features)\n",
    "len(test_features)"
   ]
  },
  {
   "cell_type": "code",
   "execution_count": 71,
   "metadata": {},
   "outputs": [
    {
     "data": {
      "text/plain": [
       "array([[ 5.55, 10.85, 14.2 , ...,  9.15,  8.85,  6.95],\n",
       "       [10.85, 14.2 , 11.7 , ...,  8.85,  6.95,  6.1 ],\n",
       "       [14.2 , 11.7 ,  3.3 , ...,  6.95,  6.1 ,  5.25],\n",
       "       ...,\n",
       "       [ 8.05, 16.1 , 21.1 , ..., 26.4 , 26.7 , 27.5 ],\n",
       "       [16.1 , 21.1 , 12.75, ..., 26.7 , 27.5 , 25.85],\n",
       "       [21.1 , 12.75,  5.55, ..., 27.5 , 25.85, 23.9 ]])"
      ]
     },
     "execution_count": 71,
     "metadata": {},
     "output_type": "execute_result"
    }
   ],
   "source": [
    "test_features"
   ]
  },
  {
   "cell_type": "code",
   "execution_count": 72,
   "metadata": {},
   "outputs": [],
   "source": [
    "test_features = np.reshape(test_features, (test_features.shape[0], test_features.shape[1],1))"
   ]
  },
  {
   "cell_type": "code",
   "execution_count": 73,
   "metadata": {},
   "outputs": [],
   "source": [
    "# Making Prediction\n",
    "predictions = model.predict(test_features)"
   ]
  },
  {
   "cell_type": "code",
   "execution_count": 74,
   "metadata": {},
   "outputs": [],
   "source": [
    "#from sklearn.preprocessing import MinMaxScaler\n",
    "\n",
    "#predictions = scaler.inverse_transform(predictions)"
   ]
  },
  {
   "cell_type": "code",
   "execution_count": 75,
   "metadata": {},
   "outputs": [
    {
     "data": {
      "text/plain": [
       "array([[ 6.228734],\n",
       "       [ 6.240453],\n",
       "       [ 5.611643],\n",
       "       ...,\n",
       "       [22.326206],\n",
       "       [22.400324],\n",
       "       [22.432953]], dtype=float32)"
      ]
     },
     "execution_count": 75,
     "metadata": {},
     "output_type": "execute_result"
    }
   ],
   "source": [
    "predictions"
   ]
  },
  {
   "cell_type": "code",
   "execution_count": 79,
   "metadata": {},
   "outputs": [],
   "source": [
    "Historical_Train_Filter = x[60 :5996]\n",
    "Historical_Train = []\n",
    "for i in Historical_Train_Filter:\n",
    "    Historical_Train.append(i)\n"
   ]
  },
  {
   "cell_type": "code",
   "execution_count": 80,
   "metadata": {},
   "outputs": [
    {
     "data": {
      "text/plain": [
       "5936"
      ]
     },
     "execution_count": 80,
     "metadata": {},
     "output_type": "execute_result"
    }
   ],
   "source": [
    "len(Historical_Train)"
   ]
  },
  {
   "cell_type": "code",
   "execution_count": 81,
   "metadata": {},
   "outputs": [
    {
     "data": {
      "text/plain": [
       "[6.1,\n",
       " 5.25,\n",
       " 4.45,\n",
       " 5.85,\n",
       " 9.2,\n",
       " 8.35,\n",
       " 11.1,\n",
       " 11.15,\n",
       " 15.3,\n",
       " 11.4,\n",
       " 5.0,\n",
       " 5.25,\n",
       " 4.45,\n",
       " 7.5,\n",
       " 11.4,\n",
       " 14.45,\n",
       " 4.75,\n",
       " -1.15,\n",
       " 2.75,\n",
       " 4.7,\n",
       " 4.199999999999998,\n",
       " 6.949999999999998,\n",
       " 10.55,\n",
       " 14.75,\n",
       " 13.9,\n",
       " 13.6,\n",
       " 10.25,\n",
       " 11.35,\n",
       " 9.75,\n",
       " 10.25,\n",
       " 8.9,\n",
       " 11.65,\n",
       " 15.0,\n",
       " 15.3,\n",
       " 13.6,\n",
       " 6.95,\n",
       " 13.05,\n",
       " 14.45,\n",
       " 15.85,\n",
       " 4.45,\n",
       " 7.75,\n",
       " 4.15,\n",
       " 7.2,\n",
       " 6.4,\n",
       " 8.049999999999999,\n",
       " 12.75,\n",
       " 18.05,\n",
       " 8.6,\n",
       " 6.4,\n",
       " 10.85,\n",
       " 13.6,\n",
       " 8.05,\n",
       " 8.35,\n",
       " 8.05,\n",
       " 13.9,\n",
       " 10.8,\n",
       " 6.65,\n",
       " 6.949999999999998,\n",
       " 11.65,\n",
       " 13.6,\n",
       " 14.45,\n",
       " 12.5,\n",
       " 16.4,\n",
       " 15.0,\n",
       " 15.85,\n",
       " 22.8,\n",
       " 25.85,\n",
       " 25.0,\n",
       " 26.95,\n",
       " 28.05,\n",
       " 18.1,\n",
       " 17.2,\n",
       " 17.25,\n",
       " 17.5,\n",
       " 18.05,\n",
       " 15.0,\n",
       " 15.85,\n",
       " 18.05,\n",
       " 21.1,\n",
       " 12.75,\n",
       " 9.2,\n",
       " 11.7,\n",
       " 12.5,\n",
       " 14.15,\n",
       " 19.75,\n",
       " 19.45,\n",
       " 19.7,\n",
       " 16.65,\n",
       " 16.65,\n",
       " 15.0,\n",
       " 13.6,\n",
       " 15.3,\n",
       " 22.2,\n",
       " 26.4,\n",
       " 19.700000000000006,\n",
       " 19.15,\n",
       " 17.8,\n",
       " 12.8,\n",
       " 16.1,\n",
       " 20.85,\n",
       " 25.0,\n",
       " 28.05,\n",
       " 27.5,\n",
       " 17.5,\n",
       " 14.2,\n",
       " 13.9,\n",
       " 18.9,\n",
       " 24.7,\n",
       " 26.65,\n",
       " 19.75,\n",
       " 20.0,\n",
       " 22.5,\n",
       " 23.35,\n",
       " 24.75,\n",
       " 24.15,\n",
       " 23.85,\n",
       " 26.1,\n",
       " 27.200000000000006,\n",
       " 25.85,\n",
       " 23.05,\n",
       " 21.1,\n",
       " 21.700000000000006,\n",
       " 23.05,\n",
       " 25.0,\n",
       " 25.0,\n",
       " 25.0,\n",
       " 25.55,\n",
       " 21.950000000000006,\n",
       " 21.65,\n",
       " 20.25,\n",
       " 23.05,\n",
       " 26.7,\n",
       " 24.15,\n",
       " 23.6,\n",
       " 24.4,\n",
       " 21.950000000000006,\n",
       " 20.3,\n",
       " 22.25,\n",
       " 23.35,\n",
       " 25.6,\n",
       " 18.35,\n",
       " 21.1,\n",
       " 21.95,\n",
       " 22.25,\n",
       " 21.65,\n",
       " 22.5,\n",
       " 20.8,\n",
       " 18.9,\n",
       " 19.15,\n",
       " 20.85,\n",
       " 20.85,\n",
       " 21.65,\n",
       " 21.4,\n",
       " 21.35,\n",
       " 25.55,\n",
       " 23.9,\n",
       " 23.65,\n",
       " 22.5,\n",
       " 21.9,\n",
       " 27.5,\n",
       " 27.5,\n",
       " 26.950000000000006,\n",
       " 26.35,\n",
       " 22.5,\n",
       " 20.0,\n",
       " 20.0,\n",
       " 18.9,\n",
       " 22.25,\n",
       " 24.15,\n",
       " 20.25,\n",
       " 18.35,\n",
       " 19.7,\n",
       " 18.9,\n",
       " 18.6,\n",
       " 20.3,\n",
       " 20.3,\n",
       " 23.35,\n",
       " 22.75,\n",
       " 23.05,\n",
       " 23.9,\n",
       " 22.5,\n",
       " 21.9,\n",
       " 22.200000000000006,\n",
       " 25.25,\n",
       " 25.8,\n",
       " 26.1,\n",
       " 25.85,\n",
       " 21.7,\n",
       " 15.25,\n",
       " 16.1,\n",
       " 16.95,\n",
       " 19.4,\n",
       " 23.9,\n",
       " 23.05,\n",
       " 22.2,\n",
       " 24.15,\n",
       " 22.5,\n",
       " 20.3,\n",
       " 18.6,\n",
       " 15.55,\n",
       " 15.85,\n",
       " 19.45,\n",
       " 19.45,\n",
       " 22.8,\n",
       " 19.700000000000006,\n",
       " 16.65,\n",
       " 17.8,\n",
       " 19.15,\n",
       " 13.9,\n",
       " 11.1,\n",
       " 14.15,\n",
       " 14.4,\n",
       " 10.55,\n",
       " 13.6,\n",
       " 16.15,\n",
       " 16.700000000000006,\n",
       " 21.1,\n",
       " 18.05,\n",
       " 16.1,\n",
       " 17.5,\n",
       " 12.2,\n",
       " 8.6,\n",
       " 6.65,\n",
       " 6.1,\n",
       " 13.6,\n",
       " 15.3,\n",
       " 16.95,\n",
       " 20.0,\n",
       " 20.55,\n",
       " 14.45,\n",
       " 11.95,\n",
       " 13.35,\n",
       " 13.9,\n",
       " 13.05,\n",
       " 17.25,\n",
       " 13.3,\n",
       " 10.3,\n",
       " 14.45,\n",
       " 17.2,\n",
       " 16.950000000000006,\n",
       " 15.85,\n",
       " 11.15,\n",
       " 5.0,\n",
       " 6.1,\n",
       " 10.0,\n",
       " 9.7,\n",
       " 12.25,\n",
       " 13.35,\n",
       " 15.0,\n",
       " 9.15,\n",
       " 9.15,\n",
       " 8.850000000000003,\n",
       " 10.85,\n",
       " 12.8,\n",
       " 13.6,\n",
       " 11.35,\n",
       " 8.899999999999997,\n",
       " 8.649999999999999,\n",
       " 8.3,\n",
       " 5.550000000000002,\n",
       " 6.1,\n",
       " 8.3,\n",
       " 5.0,\n",
       " 3.05,\n",
       " 3.3000000000000003,\n",
       " 1.65,\n",
       " -0.5499999999999999,\n",
       " -0.8499999999999999,\n",
       " -1.1,\n",
       " 2.2,\n",
       " 8.05,\n",
       " 9.2,\n",
       " 8.05,\n",
       " 6.65,\n",
       " 4.449999999999998,\n",
       " 1.9,\n",
       " -0.7999999999999999,\n",
       " -1.95,\n",
       " 1.65,\n",
       " 3.6,\n",
       " -1.95,\n",
       " -0.2500000000000001,\n",
       " -1.4,\n",
       " -0.2500000000000001,\n",
       " 1.6999999999999995,\n",
       " 4.45,\n",
       " 3.6,\n",
       " -3.35,\n",
       " 4.45,\n",
       " 1.95,\n",
       " 6.949999999999998,\n",
       " 8.35,\n",
       " -0.2999999999999998,\n",
       " 1.4,\n",
       " -0.8499999999999999,\n",
       " -2.5,\n",
       " -4.15,\n",
       " -5.55,\n",
       " -2.8,\n",
       " -6.1,\n",
       " -5.55,\n",
       " -3.05,\n",
       " -5.0,\n",
       " -4.7,\n",
       " -2.5,\n",
       " -2.5,\n",
       " -2.5,\n",
       " -5.0,\n",
       " -4.2,\n",
       " -1.4,\n",
       " -1.9,\n",
       " 1.65,\n",
       " 2.2,\n",
       " 2.75,\n",
       " -1.1,\n",
       " -2.5,\n",
       " 3.35,\n",
       " 2.25,\n",
       " 1.65,\n",
       " 3.6,\n",
       " 3.05,\n",
       " 4.7,\n",
       " 3.9,\n",
       " 1.4,\n",
       " 2.8,\n",
       " 0.8499999999999999,\n",
       " -2.5,\n",
       " -1.6999999999999995,\n",
       " -0.25,\n",
       " 2.5,\n",
       " 0.0,\n",
       " -1.95,\n",
       " 1.65,\n",
       " 0.5499999999999999,\n",
       " 0.0,\n",
       " 7.199999999999998,\n",
       " 6.9,\n",
       " 6.35,\n",
       " 2.2,\n",
       " -1.35,\n",
       " -0.8000000000000003,\n",
       " 1.1,\n",
       " 4.7,\n",
       " 3.9,\n",
       " 2.5,\n",
       " 8.3,\n",
       " 6.65,\n",
       " -3.35,\n",
       " -3.6,\n",
       " 4.7,\n",
       " 5.550000000000002,\n",
       " 5.800000000000002,\n",
       " 2.75,\n",
       " -1.4,\n",
       " -3.9,\n",
       " 1.4,\n",
       " 8.35,\n",
       " 2.2,\n",
       " -6.1000000000000005,\n",
       " -0.8499999999999996,\n",
       " -1.1,\n",
       " 6.15,\n",
       " 6.699999999999998,\n",
       " 4.4,\n",
       " -0.5499999999999998,\n",
       " -0.8000000000000003,\n",
       " 2.5,\n",
       " 5.550000000000002,\n",
       " 0.5499999999999999,\n",
       " -1.1,\n",
       " -1.1,\n",
       " 3.05,\n",
       " 2.2,\n",
       " 3.35,\n",
       " 4.15,\n",
       " 6.4,\n",
       " 3.9,\n",
       " 5.0,\n",
       " 7.25,\n",
       " 8.05,\n",
       " 9.45,\n",
       " 5.550000000000002,\n",
       " 4.7,\n",
       " 6.4,\n",
       " 8.05,\n",
       " 5.3,\n",
       " 5.55,\n",
       " 8.9,\n",
       " 6.1,\n",
       " 2.8,\n",
       " 0.0,\n",
       " 0.2999999999999998,\n",
       " 4.15,\n",
       " 5.0,\n",
       " 4.449999999999998,\n",
       " 5.800000000000002,\n",
       " 4.699999999999998,\n",
       " 6.1,\n",
       " 7.800000000000002,\n",
       " 7.75,\n",
       " 11.4,\n",
       " 10.25,\n",
       " 9.15,\n",
       " 6.1,\n",
       " 16.400000000000002,\n",
       " 12.8,\n",
       " 9.2,\n",
       " 10.25,\n",
       " 16.7,\n",
       " 13.6,\n",
       " 14.45,\n",
       " 12.2,\n",
       " 8.9,\n",
       " 7.75,\n",
       " 6.95,\n",
       " 12.5,\n",
       " 15.55,\n",
       " 20.85,\n",
       " 20.85,\n",
       " 20.85,\n",
       " 10.55,\n",
       " 12.75,\n",
       " 15.0,\n",
       " 13.6,\n",
       " 12.8,\n",
       " 17.5,\n",
       " 23.9,\n",
       " 25.55,\n",
       " 26.1,\n",
       " 27.5,\n",
       " 20.85,\n",
       " 13.6,\n",
       " 11.65,\n",
       " 13.6,\n",
       " 17.75,\n",
       " 21.7,\n",
       " 23.6,\n",
       " 22.2,\n",
       " 16.4,\n",
       " 15.3,\n",
       " 16.4,\n",
       " 14.2,\n",
       " 14.45,\n",
       " 13.65,\n",
       " 20.85,\n",
       " 15.0,\n",
       " 12.8,\n",
       " 13.9,\n",
       " 14.2,\n",
       " 15.85,\n",
       " 12.8,\n",
       " 14.75,\n",
       " 17.5,\n",
       " 18.05,\n",
       " 19.15,\n",
       " 15.25,\n",
       " 15.3,\n",
       " 15.0,\n",
       " 18.3,\n",
       " 19.2,\n",
       " 18.3,\n",
       " 19.7,\n",
       " 21.1,\n",
       " 20.55,\n",
       " 21.7,\n",
       " 21.4,\n",
       " 21.7,\n",
       " 22.5,\n",
       " 23.05,\n",
       " 23.35,\n",
       " 24.15,\n",
       " 24.700000000000006,\n",
       " 24.700000000000006,\n",
       " 21.65,\n",
       " 24.15,\n",
       " 25.55,\n",
       " 25.85,\n",
       " 21.1,\n",
       " 22.75,\n",
       " 22.8,\n",
       " 20.85,\n",
       " 23.05,\n",
       " 25.55,\n",
       " 27.25,\n",
       " 28.35,\n",
       " 25.55,\n",
       " 28.35,\n",
       " 23.65,\n",
       " 18.05,\n",
       " 19.4,\n",
       " 22.5,\n",
       " 23.85,\n",
       " 19.15,\n",
       " 21.4,\n",
       " 20.3,\n",
       " 25.6,\n",
       " 26.4,\n",
       " 23.3,\n",
       " 21.700000000000006,\n",
       " 20.85,\n",
       " 21.65,\n",
       " 22.2,\n",
       " 24.15,\n",
       " 25.0,\n",
       " 23.35,\n",
       " 21.35,\n",
       " 21.95,\n",
       " 24.15,\n",
       " 24.15,\n",
       " 25.85,\n",
       " 28.3,\n",
       " 29.7,\n",
       " 22.25,\n",
       " 20.55,\n",
       " 21.95,\n",
       " 21.95,\n",
       " 20.8,\n",
       " 23.05,\n",
       " 26.4,\n",
       " 27.5,\n",
       " 26.1,\n",
       " 25.8,\n",
       " 26.65,\n",
       " 29.15,\n",
       " 31.4,\n",
       " 31.65,\n",
       " 33.6,\n",
       " 30.0,\n",
       " 22.8,\n",
       " 23.3,\n",
       " 25.55,\n",
       " 23.9,\n",
       " 23.85,\n",
       " 24.4,\n",
       " 26.4,\n",
       " 25.25,\n",
       " 25.55,\n",
       " 25.8,\n",
       " 25.3,\n",
       " 25.55,\n",
       " 24.15,\n",
       " 23.85,\n",
       " 22.200000000000006,\n",
       " 22.2,\n",
       " 26.15,\n",
       " 26.15,\n",
       " 24.4,\n",
       " 23.35,\n",
       " 25.55,\n",
       " 22.5,\n",
       " 19.15,\n",
       " 21.1,\n",
       " 22.25,\n",
       " 21.4,\n",
       " 20.85,\n",
       " 23.85,\n",
       " 23.6,\n",
       " 24.450000000000006,\n",
       " 25.0,\n",
       " 22.2,\n",
       " 20.85,\n",
       " 23.6,\n",
       " 15.85,\n",
       " 15.85,\n",
       " 16.95,\n",
       " 19.15,\n",
       " 20.3,\n",
       " 20.85,\n",
       " 20.0,\n",
       " 20.85,\n",
       " 22.5,\n",
       " 21.4,\n",
       " 21.65,\n",
       " 18.05,\n",
       " 13.9,\n",
       " 15.3,\n",
       " 14.7,\n",
       " 14.75,\n",
       " 11.4,\n",
       " 11.65,\n",
       " 16.95,\n",
       " 21.65,\n",
       " 22.2,\n",
       " 21.65,\n",
       " 16.1,\n",
       " 10.0,\n",
       " 7.8,\n",
       " 10.0,\n",
       " 14.15,\n",
       " 18.05,\n",
       " 19.45,\n",
       " 20.0,\n",
       " 16.65,\n",
       " 16.950000000000006,\n",
       " 15.0,\n",
       " 11.35,\n",
       " 9.45,\n",
       " 12.2,\n",
       " 16.4,\n",
       " 17.75,\n",
       " 18.3,\n",
       " 16.1,\n",
       " 21.950000000000006,\n",
       " 18.9,\n",
       " 10.25,\n",
       " 8.35,\n",
       " 6.949999999999998,\n",
       " 8.35,\n",
       " 12.2,\n",
       " 9.7,\n",
       " 15.55,\n",
       " 18.9,\n",
       " 16.15,\n",
       " 12.5,\n",
       " 8.35,\n",
       " 9.2,\n",
       " 13.05,\n",
       " 9.7,\n",
       " 9.45,\n",
       " 10.85,\n",
       " 7.25,\n",
       " 5.25,\n",
       " 7.25,\n",
       " 10.6,\n",
       " 15.0,\n",
       " 16.7,\n",
       " 8.899999999999997,\n",
       " 10.25,\n",
       " 11.65,\n",
       " 9.15,\n",
       " 4.45,\n",
       " 8.05,\n",
       " 10.55,\n",
       " 13.05,\n",
       " 16.1,\n",
       " 13.65,\n",
       " 10.85,\n",
       " 15.0,\n",
       " 11.1,\n",
       " 16.35,\n",
       " 15.85,\n",
       " 9.75,\n",
       " 9.7,\n",
       " 13.05,\n",
       " 16.950000000000006,\n",
       " 18.05,\n",
       " 12.5,\n",
       " 6.1,\n",
       " 3.6,\n",
       " 5.25,\n",
       " 9.75,\n",
       " 6.3500000000000005,\n",
       " 9.7,\n",
       " 14.45,\n",
       " 9.45,\n",
       " 2.8,\n",
       " 7.25,\n",
       " 10.25,\n",
       " 7.8,\n",
       " 5.85,\n",
       " 3.05,\n",
       " 2.75,\n",
       " 5.0,\n",
       " 5.85,\n",
       " 1.1,\n",
       " 0.7999999999999999,\n",
       " -1.1,\n",
       " 0.8500000000000001,\n",
       " 1.35,\n",
       " -2.8,\n",
       " -3.65,\n",
       " -2.2,\n",
       " -1.1,\n",
       " -0.7999999999999999,\n",
       " 1.1,\n",
       " 3.05,\n",
       " 3.35,\n",
       " -0.25,\n",
       " -1.95,\n",
       " 2.5,\n",
       " 7.75,\n",
       " 6.9,\n",
       " 5.85,\n",
       " 4.75,\n",
       " 3.9,\n",
       " 6.1,\n",
       " 3.9,\n",
       " 5.0,\n",
       " 0.7999999999999999,\n",
       " -1.95,\n",
       " 0.0,\n",
       " 2.5,\n",
       " 5.550000000000002,\n",
       " 7.25,\n",
       " 8.6,\n",
       " 6.1000000000000005,\n",
       " 8.05,\n",
       " 10.85,\n",
       " 11.7,\n",
       " 15.3,\n",
       " 10.55,\n",
       " 3.6,\n",
       " 8.05,\n",
       " 1.35,\n",
       " 2.75,\n",
       " 1.1,\n",
       " -3.3000000000000003,\n",
       " 2.5,\n",
       " 5.3,\n",
       " 7.25,\n",
       " 5.25,\n",
       " 8.05,\n",
       " 4.2,\n",
       " 1.1,\n",
       " 0.2999999999999998,\n",
       " -1.1,\n",
       " 5.0,\n",
       " 10.0,\n",
       " 5.25,\n",
       " 3.05,\n",
       " 5.55,\n",
       " 9.7,\n",
       " 13.6,\n",
       " 8.35,\n",
       " 4.45,\n",
       " 3.850000000000001,\n",
       " 7.199999999999998,\n",
       " 10.0,\n",
       " 4.15,\n",
       " 0.5500000000000003,\n",
       " 3.0500000000000003,\n",
       " 5.800000000000002,\n",
       " 11.65,\n",
       " 1.65,\n",
       " -2.75,\n",
       " 7.8,\n",
       " 12.5,\n",
       " 7.8,\n",
       " 12.2,\n",
       " 6.95,\n",
       " 1.1,\n",
       " 6.65,\n",
       " 5.800000000000002,\n",
       " 12.75,\n",
       " 12.5,\n",
       " 10.3,\n",
       " 1.95,\n",
       " 2.25,\n",
       " 5.550000000000002,\n",
       " 4.699999999999998,\n",
       " 5.800000000000002,\n",
       " -2.5,\n",
       " 2.8000000000000003,\n",
       " 8.05,\n",
       " 6.1,\n",
       " 5.0,\n",
       " 7.5,\n",
       " 7.5,\n",
       " 10.55,\n",
       " 15.8,\n",
       " 12.2,\n",
       " 11.4,\n",
       " 8.6,\n",
       " 15.3,\n",
       " 6.699999999999998,\n",
       " 3.6,\n",
       " 3.850000000000001,\n",
       " 3.9,\n",
       " 10.0,\n",
       " 17.75,\n",
       " 14.15,\n",
       " 11.7,\n",
       " 10.3,\n",
       " 17.8,\n",
       " 18.6,\n",
       " 21.4,\n",
       " 26.95,\n",
       " 29.450000000000006,\n",
       " 28.6,\n",
       " 24.45,\n",
       " 16.4,\n",
       " 11.65,\n",
       " 9.2,\n",
       " 8.6,\n",
       " 10.55,\n",
       " 8.6,\n",
       " 10.6,\n",
       " 11.1,\n",
       " 11.1,\n",
       " 9.15,\n",
       " 10.3,\n",
       " 13.35,\n",
       " 11.65,\n",
       " 12.5,\n",
       " 13.9,\n",
       " 16.15,\n",
       " 17.799999999999994,\n",
       " 20.3,\n",
       " 17.5,\n",
       " 11.35,\n",
       " 18.05,\n",
       " 16.4,\n",
       " 13.05,\n",
       " 10.55,\n",
       " 12.8,\n",
       " 14.45,\n",
       " 19.45,\n",
       " 19.450000000000006,\n",
       " 9.45,\n",
       " 10.0,\n",
       " 10.25,\n",
       " 11.15,\n",
       " 13.9,\n",
       " 16.65,\n",
       " 20.8,\n",
       " 17.5,\n",
       " 16.950000000000006,\n",
       " 20.0,\n",
       " 21.1,\n",
       " 21.700000000000006,\n",
       " 21.4,\n",
       " 24.15,\n",
       " 23.6,\n",
       " 21.15,\n",
       " 18.3,\n",
       " 18.9,\n",
       " 23.85,\n",
       " 20.0,\n",
       " 16.65,\n",
       " 16.7,\n",
       " 20.8,\n",
       " 22.5,\n",
       " 24.75,\n",
       " 22.5,\n",
       " 16.4,\n",
       " 15.25,\n",
       " 15.0,\n",
       " 19.7,\n",
       " 20.0,\n",
       " 20.0,\n",
       " 21.4,\n",
       " 22.2,\n",
       " 22.75,\n",
       " 25.0,\n",
       " 25.85,\n",
       " 27.5,\n",
       " 25.8,\n",
       " 28.6,\n",
       " 26.4,\n",
       " 25.0,\n",
       " 25.0,\n",
       " 25.85,\n",
       " 26.4,\n",
       " 29.45,\n",
       " 31.4,\n",
       " 31.4,\n",
       " 25.3,\n",
       " 23.35,\n",
       " 25.3,\n",
       " 26.65,\n",
       " 28.85,\n",
       " 24.15,\n",
       " 20.85,\n",
       " 21.95,\n",
       " 23.05,\n",
       " 24.450000000000006,\n",
       " 26.95,\n",
       " 26.1,\n",
       " 25.85,\n",
       " 30.55,\n",
       " 26.4,\n",
       " 25.0,\n",
       " 24.45,\n",
       " 27.25,\n",
       " 28.3,\n",
       " 23.05,\n",
       " 21.700000000000006,\n",
       " 19.75,\n",
       " 21.4,\n",
       " 25.3,\n",
       " 30.85,\n",
       " 30.85,\n",
       " 29.15,\n",
       " 30.0,\n",
       " 28.6,\n",
       " 26.65,\n",
       " 29.15,\n",
       " 29.2,\n",
       " 22.5,\n",
       " 21.4,\n",
       " 22.8,\n",
       " 24.15,\n",
       " 25.85,\n",
       " 27.2,\n",
       " 29.200000000000006,\n",
       " 31.700000000000006,\n",
       " 30.3,\n",
       " 28.6,\n",
       " 28.6,\n",
       " 28.85,\n",
       " 30.0,\n",
       " 29.15,\n",
       " 23.35,\n",
       " 24.45,\n",
       " 25.0,\n",
       " 22.25,\n",
       " 20.55,\n",
       " 23.05,\n",
       " 23.85,\n",
       " 24.4,\n",
       " 20.8,\n",
       " 16.95,\n",
       " 18.9,\n",
       " 19.7,\n",
       " 16.65,\n",
       " 18.05,\n",
       " 22.5,\n",
       " 26.15,\n",
       " 22.5,\n",
       " 20.0,\n",
       " 22.5,\n",
       " 23.05,\n",
       " 25.55,\n",
       " 27.200000000000006,\n",
       " 20.85,\n",
       " 17.8,\n",
       " 22.200000000000006,\n",
       " 23.05,\n",
       " 23.6,\n",
       " 23.05,\n",
       " 21.4,\n",
       " 21.15,\n",
       " 21.15,\n",
       " 22.5,\n",
       " 24.200000000000006,\n",
       " 24.45,\n",
       " 20.55,\n",
       " 19.4,\n",
       " 18.9,\n",
       " 16.1,\n",
       " 18.85,\n",
       " 19.45,\n",
       " 16.4,\n",
       " 18.05,\n",
       " 20.85,\n",
       " 23.9,\n",
       " 21.65,\n",
       " 18.6,\n",
       " 21.950000000000006,\n",
       " 16.35,\n",
       " 19.15,\n",
       " 13.05,\n",
       " 13.9,\n",
       " 15.0,\n",
       " 14.45,\n",
       " 15.0,\n",
       " 14.45,\n",
       " 10.3,\n",
       " 9.45,\n",
       " 12.5,\n",
       " 11.95,\n",
       " 10.55,\n",
       " 13.05,\n",
       " 12.2,\n",
       " 10.55,\n",
       " 8.850000000000003,\n",
       " 8.6,\n",
       " 5.800000000000002,\n",
       " 8.6,\n",
       " 11.65,\n",
       " 11.7,\n",
       " 8.649999999999999,\n",
       " 5.55,\n",
       " 4.75,\n",
       " 6.4,\n",
       " 7.25,\n",
       " 4.15,\n",
       " 5.550000000000002,\n",
       " 7.8,\n",
       " 6.95,\n",
       " 8.05,\n",
       " 5.550000000000002,\n",
       " 9.45,\n",
       " 12.5,\n",
       " 16.65,\n",
       " 17.8,\n",
       " 12.75,\n",
       " 8.05,\n",
       " 8.850000000000003,\n",
       " 12.5,\n",
       " 7.75,\n",
       " 4.699999999999998,\n",
       " 5.800000000000002,\n",
       " 6.4,\n",
       " 10.0,\n",
       " 10.3,\n",
       " 8.649999999999999,\n",
       " 4.449999999999998,\n",
       " 6.65,\n",
       " 10.3,\n",
       " ...]"
      ]
     },
     "execution_count": 81,
     "metadata": {},
     "output_type": "execute_result"
    }
   ],
   "source": [
    "Historical_Train"
   ]
  },
  {
   "cell_type": "code",
   "execution_count": 82,
   "metadata": {},
   "outputs": [
    {
     "data": {
      "image/png": "[encoded data removed]",
      "text/plain": [
       "<Figure size 1440x1440 with 1 Axes>"
      ]
     },
     "metadata": {
      "needs_background": "light"
     },
     "output_type": "display_data"
    }
   ],
   "source": [
    "#import matplotlib.dates as mdates\n",
    "\n",
    "#week = mdates.datestr2num(week)\n",
    "\n",
    "#fig, ax = plt.subplots()\n",
    "plt.figure(figsize=(20,20))\n",
    "#plt.plot(x[60 :5996], color='blue', label='Tempreture')\n",
    "plt.plot(Historical_Train, color='blue', label='Tempreture')\n",
    "plt.plot(predictions,color='red', label='Predicted Tempreture')\n",
    "plt.title ='Weather Prediction'\n",
    "plt.xlabel= 'Date'\n",
    "plt.ylabel= 'Tempreture'\n",
    "plt.legend()\n",
    "#ax.xaxis_date()\n",
    "plt.show()"
   ]
  },
  {
   "cell_type": "code",
   "execution_count": 83,
   "metadata": {},
   "outputs": [
    {
     "data": {
      "text/plain": [
       "5936"
      ]
     },
     "execution_count": 83,
     "metadata": {},
     "output_type": "execute_result"
    }
   ],
   "source": [
    "len(predictions)"
   ]
  },
  {
   "cell_type": "code",
   "execution_count": 84,
   "metadata": {},
   "outputs": [
    {
     "data": {
      "text/plain": [
       "5936"
      ]
     },
     "execution_count": 84,
     "metadata": {},
     "output_type": "execute_result"
    }
   ],
   "source": [
    "len(features_set)"
   ]
  },
  {
   "cell_type": "code",
   "execution_count": 85,
   "metadata": {},
   "outputs": [
    {
     "data": {
      "text/plain": [
       "array([[ 6.228734],\n",
       "       [ 6.240453],\n",
       "       [ 5.611643],\n",
       "       ...,\n",
       "       [22.326206],\n",
       "       [22.400324],\n",
       "       [22.432953]], dtype=float32)"
      ]
     },
     "execution_count": 85,
     "metadata": {},
     "output_type": "execute_result"
    }
   ],
   "source": [
    "predictions"
   ]
  },
  {
   "cell_type": "code",
   "execution_count": 86,
   "metadata": {},
   "outputs": [
    {
     "data": {
      "text/plain": [
       "array([ 6.1 ,  5.25,  4.45, ..., 27.8 , 23.9 , 25.25])"
      ]
     },
     "execution_count": 86,
     "metadata": {},
     "output_type": "execute_result"
    }
   ],
   "source": [
    "actuals = x[60:].to_numpy()\n",
    "actuals"
   ]
  },
  {
   "cell_type": "code",
   "execution_count": 87,
   "metadata": {},
   "outputs": [
    {
     "name": "stdout",
     "output_type": "stream",
     "text": [
      "Train MSE                         : 12.560219\n",
      "Train RMSE                        : 3.544040\n"
     ]
    }
   ],
   "source": [
    "from sklearn.metrics import mean_squared_error\n",
    "import math\n",
    "#MSE = mean_squared_error(actuals,predictions)\n",
    "MSE = mean_squared_error(Historical_Train, predictions)\n",
    "RMSE = math.sqrt(MSE)\n",
    "print('Train MSE                         : %f' % MSE)\n",
    "print('Train RMSE                        : %f' % RMSE)"
   ]
  },
  {
   "cell_type": "code",
   "execution_count": 91,
   "metadata": {},
   "outputs": [],
   "source": [
    "forecast_errors = [Historical_Train[i] - predictions[i] for i in range(len(Historical_Train))]\n",
    "forecast_errors_abs = [ abs( Historical_Train[i] - predictions[i]) for i in range(len(Historical_Train))]\n",
    "\n",
    "BIAS = sum(forecast_errors) * 1.0/len(Historical_Train)\n",
    "MAE = sum(forecast_errors_abs) * 1.0/len(Historical_Train)\n",
    "\n",
    "\n",
    "from sklearn.metrics import r2_score\n",
    "r2_score = r2_score(Historical_Train, predictions)"
   ]
  },
  {
   "cell_type": "code",
   "execution_count": 92,
   "metadata": {},
   "outputs": [
    {
     "name": "stdout",
     "output_type": "stream",
     "text": [
      "Train MSE                         : 12.560219\n",
      "Train RMSE                        : 3.544040\n",
      "Train Bias (Mean Forecast Error)  : -0.206872\n",
      "Train MAE (Mean Absolute Error)   : 2.818668\n",
      "Train r2_score                    : 0.860605\n"
     ]
    }
   ],
   "source": [
    "print('Train MSE                         : %f' % MSE)\n",
    "print('Train RMSE                        : %f' % RMSE)\n",
    "print('Train Bias (Mean Forecast Error)  : %f' % BIAS)\n",
    "print('Train MAE (Mean Absolute Error)   : %f' % MAE)\n",
    "print('Train r2_score                    : %f' % r2_score )"
   ]
  },
  {
   "cell_type": "code",
   "execution_count": 98,
   "metadata": {},
   "outputs": [],
   "source": [
    "e_dataframe=pd.DataFrame({'Act':actuals}) "
   ]
  },
  {
   "cell_type": "code",
   "execution_count": 99,
   "metadata": {},
   "outputs": [],
   "source": [
    "dff=pd.DataFrame(predictions)"
   ]
  },
  {
   "cell_type": "code",
   "execution_count": 100,
   "metadata": {},
   "outputs": [],
   "source": [
    "merged = e_dataframe.merge(dff, left_index=True, right_index=True)"
   ]
  },
  {
   "cell_type": "code",
   "execution_count": 101,
   "metadata": {},
   "outputs": [
    {
     "data": {
      "text/html": [
       "<div>\n",
       "<style scoped>\n",
       "    .dataframe tbody tr th:only-of-type {\n",
       "        vertical-align: middle;\n",
       "    }\n",
       "\n",
       "    .dataframe tbody tr th {\n",
       "        vertical-align: top;\n",
       "    }\n",
       "\n",
       "    .dataframe thead th {\n",
       "        text-align: right;\n",
       "    }\n",
       "</style>\n",
       "<table border=\"1\" class=\"dataframe\">\n",
       "  <thead>\n",
       "    <tr style=\"text-align: right;\">\n",
       "      <th></th>\n",
       "      <th>Act</th>\n",
       "      <th>0</th>\n",
       "    </tr>\n",
       "  </thead>\n",
       "  <tbody>\n",
       "    <tr>\n",
       "      <th>0</th>\n",
       "      <td>6.10</td>\n",
       "      <td>6.228734</td>\n",
       "    </tr>\n",
       "    <tr>\n",
       "      <th>1</th>\n",
       "      <td>5.25</td>\n",
       "      <td>6.240453</td>\n",
       "    </tr>\n",
       "    <tr>\n",
       "      <th>2</th>\n",
       "      <td>4.45</td>\n",
       "      <td>5.611643</td>\n",
       "    </tr>\n",
       "    <tr>\n",
       "      <th>3</th>\n",
       "      <td>5.85</td>\n",
       "      <td>5.187850</td>\n",
       "    </tr>\n",
       "    <tr>\n",
       "      <th>4</th>\n",
       "      <td>9.20</td>\n",
       "      <td>7.188735</td>\n",
       "    </tr>\n",
       "    <tr>\n",
       "      <th>...</th>\n",
       "      <td>...</td>\n",
       "      <td>...</td>\n",
       "    </tr>\n",
       "    <tr>\n",
       "      <th>5931</th>\n",
       "      <td>26.70</td>\n",
       "      <td>21.839991</td>\n",
       "    </tr>\n",
       "    <tr>\n",
       "      <th>5932</th>\n",
       "      <td>27.50</td>\n",
       "      <td>22.166933</td>\n",
       "    </tr>\n",
       "    <tr>\n",
       "      <th>5933</th>\n",
       "      <td>25.85</td>\n",
       "      <td>22.326206</td>\n",
       "    </tr>\n",
       "    <tr>\n",
       "      <th>5934</th>\n",
       "      <td>23.90</td>\n",
       "      <td>22.400324</td>\n",
       "    </tr>\n",
       "    <tr>\n",
       "      <th>5935</th>\n",
       "      <td>25.55</td>\n",
       "      <td>22.432953</td>\n",
       "    </tr>\n",
       "  </tbody>\n",
       "</table>\n",
       "<p>5936 rows × 2 columns</p>\n",
       "</div>"
      ],
      "text/plain": [
       "        Act          0\n",
       "0      6.10   6.228734\n",
       "1      5.25   6.240453\n",
       "2      4.45   5.611643\n",
       "3      5.85   5.187850\n",
       "4      9.20   7.188735\n",
       "...     ...        ...\n",
       "5931  26.70  21.839991\n",
       "5932  27.50  22.166933\n",
       "5933  25.85  22.326206\n",
       "5934  23.90  22.400324\n",
       "5935  25.55  22.432953\n",
       "\n",
       "[5936 rows x 2 columns]"
      ]
     },
     "execution_count": 101,
     "metadata": {},
     "output_type": "execute_result"
    }
   ],
   "source": [
    "merged"
   ]
  },
  {
   "cell_type": "code",
   "execution_count": 102,
   "metadata": {},
   "outputs": [],
   "source": [
    "merged = merged.rename(columns={'a': 'Actuals', 0: 'Predictions'})"
   ]
  },
  {
   "cell_type": "code",
   "execution_count": 103,
   "metadata": {},
   "outputs": [
    {
     "data": {
      "text/html": [
       "<div>\n",
       "<style scoped>\n",
       "    .dataframe tbody tr th:only-of-type {\n",
       "        vertical-align: middle;\n",
       "    }\n",
       "\n",
       "    .dataframe tbody tr th {\n",
       "        vertical-align: top;\n",
       "    }\n",
       "\n",
       "    .dataframe thead th {\n",
       "        text-align: right;\n",
       "    }\n",
       "</style>\n",
       "<table border=\"1\" class=\"dataframe\">\n",
       "  <thead>\n",
       "    <tr style=\"text-align: right;\">\n",
       "      <th></th>\n",
       "      <th>Act</th>\n",
       "      <th>Predictions</th>\n",
       "    </tr>\n",
       "  </thead>\n",
       "  <tbody>\n",
       "    <tr>\n",
       "      <th>0</th>\n",
       "      <td>6.10</td>\n",
       "      <td>6.228734</td>\n",
       "    </tr>\n",
       "    <tr>\n",
       "      <th>1</th>\n",
       "      <td>5.25</td>\n",
       "      <td>6.240453</td>\n",
       "    </tr>\n",
       "    <tr>\n",
       "      <th>2</th>\n",
       "      <td>4.45</td>\n",
       "      <td>5.611643</td>\n",
       "    </tr>\n",
       "    <tr>\n",
       "      <th>3</th>\n",
       "      <td>5.85</td>\n",
       "      <td>5.187850</td>\n",
       "    </tr>\n",
       "    <tr>\n",
       "      <th>4</th>\n",
       "      <td>9.20</td>\n",
       "      <td>7.188735</td>\n",
       "    </tr>\n",
       "  </tbody>\n",
       "</table>\n",
       "</div>"
      ],
      "text/plain": [
       "    Act  Predictions\n",
       "0  6.10     6.228734\n",
       "1  5.25     6.240453\n",
       "2  4.45     5.611643\n",
       "3  5.85     5.187850\n",
       "4  9.20     7.188735"
      ]
     },
     "execution_count": 103,
     "metadata": {},
     "output_type": "execute_result"
    }
   ],
   "source": [
    "merged.head()"
   ]
  },
  {
   "cell_type": "code",
   "execution_count": 104,
   "metadata": {},
   "outputs": [],
   "source": [
    "merged.to_csv('NN_Daily_Export.csv')"
   ]
  },
  {
   "cell_type": "markdown",
   "metadata": {},
   "source": [
    "### 2.3.2. Test "
   ]
  },
  {
   "cell_type": "code",
   "execution_count": null,
   "metadata": {},
   "outputs": [],
   "source": [
    "# Convert Test Data to Right Shape\n",
    "\n",
    "features_set = []\n",
    "labels = []\n",
    "#for i in range(60, 7497):\n",
    "for i in range(6057, 7497):\n",
    "    features_set.append(x[i-60:i])\n",
    "    labels.append(x[i])"
   ]
  },
  {
   "cell_type": "code",
   "execution_count": null,
   "metadata": {},
   "outputs": [],
   "source": [
    "features_set, labels = np.array(features_set), np.array(labels)"
   ]
  },
  {
   "cell_type": "code",
   "execution_count": null,
   "metadata": {},
   "outputs": [],
   "source": [
    "features_set"
   ]
  },
  {
   "cell_type": "code",
   "execution_count": null,
   "metadata": {},
   "outputs": [],
   "source": [
    "features_set = np.reshape(features_set, (features_set.shape[0], features_set.shape[1], 1))"
   ]
  },
  {
   "cell_type": "code",
   "execution_count": null,
   "metadata": {},
   "outputs": [],
   "source": [
    "model = Sequential()"
   ]
  },
  {
   "cell_type": "code",
   "execution_count": null,
   "metadata": {},
   "outputs": [],
   "source": [
    "model.add(LSTM(units=50, return_sequences=True, input_shape=(features_set.shape[1], 1)))"
   ]
  },
  {
   "cell_type": "code",
   "execution_count": null,
   "metadata": {},
   "outputs": [],
   "source": [
    "model.add(Dropout(0.2))"
   ]
  },
  {
   "cell_type": "code",
   "execution_count": null,
   "metadata": {},
   "outputs": [],
   "source": [
    "model.add(LSTM(units=50, return_sequences=True))\n",
    "model.add(Dropout(0.2))\n",
    "\n",
    "model.add(LSTM(units=50, return_sequences=True))\n",
    "model.add(Dropout(0.2))\n",
    "\n",
    "model.add(LSTM(units=50))\n",
    "model.add(Dropout(0.2))"
   ]
  },
  {
   "cell_type": "code",
   "execution_count": null,
   "metadata": {},
   "outputs": [],
   "source": [
    "model.add(Dense(units = 1))"
   ]
  },
  {
   "cell_type": "code",
   "execution_count": null,
   "metadata": {},
   "outputs": [],
   "source": [
    "model.compile(optimizer = 'adam', loss = 'mean_squared_error')"
   ]
  },
  {
   "cell_type": "code",
   "execution_count": null,
   "metadata": {},
   "outputs": [],
   "source": [
    "model.fit(features_set, labels, epochs = 100, batch_size = 32)"
   ]
  },
  {
   "cell_type": "code",
   "execution_count": null,
   "metadata": {},
   "outputs": [],
   "source": [
    "test_x = x[(len(x)-60):len(x)]\n",
    "len(test_x)"
   ]
  },
  {
   "cell_type": "code",
   "execution_count": null,
   "metadata": {},
   "outputs": [],
   "source": [
    "test_features = []\n",
    "#for i in range(60,7497):\n",
    "#for i in range(0, 5996):\n",
    "for i in range(6057, 7497):\n",
    "    test_features.append(x[i-60:i])"
   ]
  },
  {
   "cell_type": "code",
   "execution_count": null,
   "metadata": {},
   "outputs": [],
   "source": [
    "test_features = np.array(test_features)\n",
    "len(test_features)"
   ]
  },
  {
   "cell_type": "code",
   "execution_count": null,
   "metadata": {},
   "outputs": [],
   "source": [
    "test_features"
   ]
  },
  {
   "cell_type": "code",
   "execution_count": null,
   "metadata": {},
   "outputs": [],
   "source": [
    "test_features = np.reshape(test_features, (test_features.shape[0], test_features.shape[1],1))"
   ]
  },
  {
   "cell_type": "code",
   "execution_count": null,
   "metadata": {},
   "outputs": [],
   "source": [
    "# Making Prediction\n",
    "predictions = model.predict(test_features)"
   ]
  },
  {
   "cell_type": "code",
   "execution_count": null,
   "metadata": {},
   "outputs": [],
   "source": [
    "predictions"
   ]
  },
  {
   "cell_type": "code",
   "execution_count": null,
   "metadata": {},
   "outputs": [],
   "source": [
    "#import matplotlib.dates as mdates\n",
    "\n",
    "#week = mdates.datestr2num(week)\n",
    "\n",
    "#fig, ax = plt.subplots()\n",
    "plt.figure(figsize=(20,20))\n",
    "plt.plot(x[60:], color='blue', label='Tempreture')\n",
    "plt.plot(predictions,color='red', label='Predicted Tempreture')\n",
    "plt.title ='Weather Prediction'\n",
    "plt.xlabel= 'Date'\n",
    "plt.ylabel= 'Tempreture'\n",
    "plt.legend()\n",
    "#ax.xaxis_date()\n",
    "plt.show()"
   ]
  },
  {
   "cell_type": "code",
   "execution_count": null,
   "metadata": {},
   "outputs": [],
   "source": [
    "len(predictions)"
   ]
  },
  {
   "cell_type": "code",
   "execution_count": null,
   "metadata": {},
   "outputs": [],
   "source": [
    "len(features_set)"
   ]
  },
  {
   "cell_type": "code",
   "execution_count": null,
   "metadata": {},
   "outputs": [],
   "source": [
    "actuals = x[60:].to_numpy()\n",
    "actuals"
   ]
  },
  {
   "cell_type": "code",
   "execution_count": null,
   "metadata": {},
   "outputs": [],
   "source": [
    "from sklearn.metrics import mean_squared_error\n",
    "import math\n",
    "MSE = mean_squared_error(actuals,predictions)\n",
    "RMSE = math.sqrt(MSE)\n",
    "print('Train MSE                         : %f' % MSE)\n",
    "print('Train RMSE                        : %f' % RMSE)"
   ]
  },
  {
   "cell_type": "code",
   "execution_count": null,
   "metadata": {},
   "outputs": [],
   "source": [
    "forecast_errors = [actuals[i] - predictions[i] for i in range(12)]\n",
    "forecast_errors_abs = [ abs( actuals[i] - predictions[i]) for i in range(12)]\n",
    "\n",
    "BIAS = sum(forecast_errors) * 1.0/len(actuals)\n",
    "MAE = sum(forecast_errors_abs) * 1.0/len(actuals)\n",
    "\n",
    "\n",
    "from sklearn.metrics import r2_score\n",
    "r2_score = r2_score(actuals, predictions)"
   ]
  },
  {
   "cell_type": "code",
   "execution_count": null,
   "metadata": {},
   "outputs": [],
   "source": [
    "print('Train MSE                         : %f' % MSE)\n",
    "print('Train RMSE                        : %f' % RMSE)\n",
    "print('Train Bias (Mean Forecast Error)  : %f' % BIAS)\n",
    "print('Train MAE (Mean Absolute Error)   : %f' % MAE)\n",
    "print('Train r2_score                    : %f' % r2_score )"
   ]
  },
  {
   "cell_type": "code",
   "execution_count": null,
   "metadata": {},
   "outputs": [],
   "source": [
    "e_dataframe=pd.DataFrame({'a':actuals}) "
   ]
  },
  {
   "cell_type": "code",
   "execution_count": null,
   "metadata": {},
   "outputs": [],
   "source": [
    "dff=pd.DataFrame(predictions)"
   ]
  },
  {
   "cell_type": "code",
   "execution_count": null,
   "metadata": {},
   "outputs": [],
   "source": [
    "merged = e_dataframe.merge(dff, left_index=True, right_index=True)"
   ]
  },
  {
   "cell_type": "code",
   "execution_count": null,
   "metadata": {},
   "outputs": [],
   "source": [
    "merged"
   ]
  },
  {
   "cell_type": "code",
   "execution_count": null,
   "metadata": {},
   "outputs": [],
   "source": [
    "merged = merged.rename(columns={'a': 'Actuals', 0: 'Predictions'})"
   ]
  },
  {
   "cell_type": "code",
   "execution_count": null,
   "metadata": {},
   "outputs": [],
   "source": [
    "merged.head()"
   ]
  },
  {
   "cell_type": "code",
   "execution_count": null,
   "metadata": {},
   "outputs": [],
   "source": [
    "merged.to_csv('NN_Daily_Export.csv')"
   ]
  },
  {
   "cell_type": "code",
   "execution_count": null,
   "metadata": {},
   "outputs": [],
   "source": []
  },
  {
   "cell_type": "code",
   "execution_count": null,
   "metadata": {},
   "outputs": [],
   "source": []
  },
  {
   "cell_type": "code",
   "execution_count": null,
   "metadata": {},
   "outputs": [],
   "source": []
  },
  {
   "cell_type": "code",
   "execution_count": null,
   "metadata": {},
   "outputs": [],
   "source": []
  },
  {
   "cell_type": "code",
   "execution_count": null,
   "metadata": {},
   "outputs": [],
   "source": []
  },
  {
   "cell_type": "code",
   "execution_count": null,
   "metadata": {},
   "outputs": [],
   "source": []
  },
  {
   "cell_type": "code",
   "execution_count": null,
   "metadata": {},
   "outputs": [],
   "source": []
  },
  {
   "cell_type": "code",
   "execution_count": null,
   "metadata": {},
   "outputs": [],
   "source": []
  },
  {
   "cell_type": "code",
   "execution_count": null,
   "metadata": {},
   "outputs": [],
   "source": []
  },
  {
   "cell_type": "code",
   "execution_count": null,
   "metadata": {},
   "outputs": [],
   "source": []
  }
 ],
 "metadata": {
  "kernelspec": {
   "display_name": "PythonAvd (Python 6)",
   "language": "python",
   "name": "pythonavd"
  },
  "language_info": {
   "codemirror_mode": {
    "name": "ipython",
    "version": 3
   },
   "file_extension": ".py",
   "mimetype": "text/x-python",
   "name": "python",
   "nbconvert_exporter": "python",
   "pygments_lexer": "ipython3",
   "version": "3.6.10"
  }
 },
 "nbformat": 4,
 "nbformat_minor": 4
}
