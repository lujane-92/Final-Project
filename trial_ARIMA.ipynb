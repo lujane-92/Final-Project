{
 "cells": [
  {
   "cell_type": "code",
   "execution_count": 1,
   "metadata": {},
   "outputs": [],
   "source": [
    "import pandas as pd\n",
    "import matplotlib.pyplot as plt\n",
    "from pandas import datetime\n",
    "from pandas import read_csv"
   ]
  },
  {
   "cell_type": "code",
   "execution_count": 2,
   "metadata": {},
   "outputs": [
    {
     "data": {
      "text/plain": [
       "Index(['STATION', 'NAME', 'LATITUDE', 'LONGITUDE', 'ELEVATION', 'DATE', 'DAPR',\n",
       "       'MDPR', 'PRCP', 'SNOW', 'SNWD', 'TAVG', 'TMAX', 'TMIN', 'WT01', 'WT02',\n",
       "       'WT03', 'WT04', 'WT05', 'WT06', 'WT07', 'WT08', 'WT09', 'WT11', 'WT13',\n",
       "       'WT14', 'WT15', 'WT16', 'WT17', 'WT18', 'WT19', 'WT22'],\n",
       "      dtype='object')"
      ]
     },
     "execution_count": 2,
     "metadata": {},
     "output_type": "execute_result"
    }
   ],
   "source": [
    "NYC = read_csv('NYC_2000s.csv',header=0)\n",
    "NYC.columns"
   ]
  },
  {
   "cell_type": "code",
   "execution_count": 9,
   "metadata": {},
   "outputs": [
    {
     "data": {
      "text/html": [
       "<div>\n",
       "<style scoped>\n",
       "    .dataframe tbody tr th:only-of-type {\n",
       "        vertical-align: middle;\n",
       "    }\n",
       "\n",
       "    .dataframe tbody tr th {\n",
       "        vertical-align: top;\n",
       "    }\n",
       "\n",
       "    .dataframe thead th {\n",
       "        text-align: right;\n",
       "    }\n",
       "</style>\n",
       "<table border=\"1\" class=\"dataframe\">\n",
       "  <thead>\n",
       "    <tr style=\"text-align: right;\">\n",
       "      <th></th>\n",
       "      <th>NAME</th>\n",
       "      <th>DATE</th>\n",
       "      <th>PRCP</th>\n",
       "      <th>SNOW</th>\n",
       "      <th>SNWD</th>\n",
       "      <th>TAVG</th>\n",
       "      <th>TMAX</th>\n",
       "      <th>TMIN</th>\n",
       "    </tr>\n",
       "  </thead>\n",
       "  <tbody>\n",
       "    <tr>\n",
       "      <td>0</td>\n",
       "      <td>NY CITY CENTRAL PARK, NY US</td>\n",
       "      <td>2000-01-01</td>\n",
       "      <td>0.0</td>\n",
       "      <td>0.0</td>\n",
       "      <td>0.0</td>\n",
       "      <td>5.6</td>\n",
       "      <td>10.0</td>\n",
       "      <td>1.1</td>\n",
       "    </tr>\n",
       "    <tr>\n",
       "      <td>1</td>\n",
       "      <td>NY CITY CENTRAL PARK, NY US</td>\n",
       "      <td>2000-01-02</td>\n",
       "      <td>0.0</td>\n",
       "      <td>0.0</td>\n",
       "      <td>0.0</td>\n",
       "      <td>11.1</td>\n",
       "      <td>15.6</td>\n",
       "      <td>6.1</td>\n",
       "    </tr>\n",
       "    <tr>\n",
       "      <td>2</td>\n",
       "      <td>NY CITY CENTRAL PARK, NY US</td>\n",
       "      <td>2000-01-03</td>\n",
       "      <td>0.0</td>\n",
       "      <td>0.0</td>\n",
       "      <td>0.0</td>\n",
       "      <td>14.4</td>\n",
       "      <td>17.8</td>\n",
       "      <td>10.6</td>\n",
       "    </tr>\n",
       "    <tr>\n",
       "      <td>3</td>\n",
       "      <td>NY CITY CENTRAL PARK, NY US</td>\n",
       "      <td>2000-01-04</td>\n",
       "      <td>17.8</td>\n",
       "      <td>0.0</td>\n",
       "      <td>0.0</td>\n",
       "      <td>11.7</td>\n",
       "      <td>15.6</td>\n",
       "      <td>7.8</td>\n",
       "    </tr>\n",
       "    <tr>\n",
       "      <td>4</td>\n",
       "      <td>NY CITY CENTRAL PARK, NY US</td>\n",
       "      <td>2000-01-05</td>\n",
       "      <td>0.0</td>\n",
       "      <td>0.0</td>\n",
       "      <td>0.0</td>\n",
       "      <td>3.3</td>\n",
       "      <td>8.3</td>\n",
       "      <td>-1.7</td>\n",
       "    </tr>\n",
       "  </tbody>\n",
       "</table>\n",
       "</div>"
      ],
      "text/plain": [
       "                          NAME        DATE  PRCP  SNOW  SNWD  TAVG  TMAX  TMIN\n",
       "0  NY CITY CENTRAL PARK, NY US  2000-01-01   0.0   0.0   0.0   5.6  10.0   1.1\n",
       "1  NY CITY CENTRAL PARK, NY US  2000-01-02   0.0   0.0   0.0  11.1  15.6   6.1\n",
       "2  NY CITY CENTRAL PARK, NY US  2000-01-03   0.0   0.0   0.0  14.4  17.8  10.6\n",
       "3  NY CITY CENTRAL PARK, NY US  2000-01-04  17.8   0.0   0.0  11.7  15.6   7.8\n",
       "4  NY CITY CENTRAL PARK, NY US  2000-01-05   0.0   0.0   0.0   3.3   8.3  -1.7"
      ]
     },
     "execution_count": 9,
     "metadata": {},
     "output_type": "execute_result"
    }
   ],
   "source": [
    "nyc_df=NYC.drop(['STATION','LATITUDE', 'LONGITUDE', 'ELEVATION','DAPR','MDPR','WT01', 'WT02','WT03', 'WT04', 'WT05', 'WT06', 'WT07', 'WT08', 'WT09', 'WT11', 'WT13','WT14', 'WT15', 'WT16', 'WT17', 'WT18', 'WT19', 'WT22'], axis=1)\n",
    "nyc_df.head()"
   ]
  },
  {
   "cell_type": "code",
   "execution_count": 10,
   "metadata": {},
   "outputs": [
    {
     "data": {
      "text/plain": [
       "<bound method DataFrame.dropna of                              NAME        DATE  PRCP  SNOW  SNWD  TAVG  TMAX  \\\n",
       "0     NY CITY CENTRAL PARK, NY US  2000-01-01   0.0   0.0   0.0   5.6  10.0   \n",
       "1     NY CITY CENTRAL PARK, NY US  2000-01-02   0.0   0.0   0.0  11.1  15.6   \n",
       "2     NY CITY CENTRAL PARK, NY US  2000-01-03   0.0   0.0   0.0  14.4  17.8   \n",
       "3     NY CITY CENTRAL PARK, NY US  2000-01-04  17.8   0.0   0.0  11.7  15.6   \n",
       "4     NY CITY CENTRAL PARK, NY US  2000-01-05   0.0   0.0   0.0   3.3   8.3   \n",
       "...                           ...         ...   ...   ...   ...   ...   ...   \n",
       "7876        NEW YORK 8.8 N, NY US  2020-07-07   4.1   NaN   NaN   NaN   NaN   \n",
       "7877        NEW YORK 8.8 N, NY US  2020-07-08   0.0   NaN   NaN   NaN   NaN   \n",
       "7878        NEW YORK 8.8 N, NY US  2020-07-09   2.8   NaN   NaN   NaN   NaN   \n",
       "7879        NEW YORK 8.8 N, NY US  2020-07-10   0.0   NaN   NaN   NaN   NaN   \n",
       "7880        NEW YORK 8.8 N, NY US  2020-07-11  79.0   NaN   NaN   NaN   NaN   \n",
       "\n",
       "      TMIN  \n",
       "0      1.1  \n",
       "1      6.1  \n",
       "2     10.6  \n",
       "3      7.8  \n",
       "4     -1.7  \n",
       "...    ...  \n",
       "7876   NaN  \n",
       "7877   NaN  \n",
       "7878   NaN  \n",
       "7879   NaN  \n",
       "7880   NaN  \n",
       "\n",
       "[7881 rows x 8 columns]>"
      ]
     },
     "execution_count": 10,
     "metadata": {},
     "output_type": "execute_result"
    }
   ],
   "source": [
    "nyc_df.dropna"
   ]
  },
  {
   "cell_type": "code",
   "execution_count": 12,
   "metadata": {},
   "outputs": [
    {
     "name": "stdout",
     "output_type": "stream",
     "text": [
      "<class 'pandas.core.frame.DataFrame'>\n",
      "RangeIndex: 7881 entries, 0 to 7880\n",
      "Data columns (total 8 columns):\n",
      "NAME    7881 non-null object\n",
      "DATE    7881 non-null object\n",
      "PRCP    7842 non-null float64\n",
      "SNOW    7504 non-null float64\n",
      "SNWD    7392 non-null float64\n",
      "TAVG    2018 non-null float64\n",
      "TMAX    7498 non-null float64\n",
      "TMIN    7498 non-null float64\n",
      "dtypes: float64(6), object(2)\n",
      "memory usage: 492.7+ KB\n"
     ]
    }
   ],
   "source": [
    "nyc_df.info()"
   ]
  },
  {
   "cell_type": "code",
   "execution_count": 11,
   "metadata": {},
   "outputs": [],
   "source": [
    "x_axis = nyc_df.DATE\n",
    "y_axis = nyc_df.TMAX"
   ]
  },
  {
   "cell_type": "code",
   "execution_count": null,
   "metadata": {},
   "outputs": [],
   "source": [
    "dateplot= plt.plot(x_axis,y_axis)"
   ]
  },
  {
   "cell_type": "code",
   "execution_count": 13,
   "metadata": {},
   "outputs": [
    {
     "data": {
      "text/html": [
       "<div>\n",
       "<style scoped>\n",
       "    .dataframe tbody tr th:only-of-type {\n",
       "        vertical-align: middle;\n",
       "    }\n",
       "\n",
       "    .dataframe tbody tr th {\n",
       "        vertical-align: top;\n",
       "    }\n",
       "\n",
       "    .dataframe thead th {\n",
       "        text-align: right;\n",
       "    }\n",
       "</style>\n",
       "<table border=\"1\" class=\"dataframe\">\n",
       "  <thead>\n",
       "    <tr style=\"text-align: right;\">\n",
       "      <th></th>\n",
       "      <th>count</th>\n",
       "      <th>mean</th>\n",
       "      <th>std</th>\n",
       "      <th>min</th>\n",
       "      <th>25%</th>\n",
       "      <th>50%</th>\n",
       "      <th>75%</th>\n",
       "      <th>max</th>\n",
       "    </tr>\n",
       "  </thead>\n",
       "  <tbody>\n",
       "    <tr>\n",
       "      <td>PRCP</td>\n",
       "      <td>7842.0</td>\n",
       "      <td>3.630490</td>\n",
       "      <td>9.986375</td>\n",
       "      <td>0.0</td>\n",
       "      <td>0.0</td>\n",
       "      <td>0.0</td>\n",
       "      <td>1.5</td>\n",
       "      <td>192.3</td>\n",
       "    </tr>\n",
       "    <tr>\n",
       "      <td>SNOW</td>\n",
       "      <td>7504.0</td>\n",
       "      <td>2.247601</td>\n",
       "      <td>20.237856</td>\n",
       "      <td>0.0</td>\n",
       "      <td>0.0</td>\n",
       "      <td>0.0</td>\n",
       "      <td>0.0</td>\n",
       "      <td>693.0</td>\n",
       "    </tr>\n",
       "    <tr>\n",
       "      <td>SNWD</td>\n",
       "      <td>7392.0</td>\n",
       "      <td>9.318452</td>\n",
       "      <td>47.103289</td>\n",
       "      <td>0.0</td>\n",
       "      <td>0.0</td>\n",
       "      <td>0.0</td>\n",
       "      <td>0.0</td>\n",
       "      <td>584.0</td>\n",
       "    </tr>\n",
       "    <tr>\n",
       "      <td>TAVG</td>\n",
       "      <td>2018.0</td>\n",
       "      <td>12.655352</td>\n",
       "      <td>9.627704</td>\n",
       "      <td>-17.8</td>\n",
       "      <td>5.6</td>\n",
       "      <td>12.8</td>\n",
       "      <td>21.1</td>\n",
       "      <td>31.7</td>\n",
       "    </tr>\n",
       "    <tr>\n",
       "      <td>TMAX</td>\n",
       "      <td>7498.0</td>\n",
       "      <td>17.106362</td>\n",
       "      <td>10.061486</td>\n",
       "      <td>-10.5</td>\n",
       "      <td>8.9</td>\n",
       "      <td>17.8</td>\n",
       "      <td>26.1</td>\n",
       "      <td>40.0</td>\n",
       "    </tr>\n",
       "    <tr>\n",
       "      <td>TMIN</td>\n",
       "      <td>7498.0</td>\n",
       "      <td>9.213897</td>\n",
       "      <td>9.198206</td>\n",
       "      <td>-18.2</td>\n",
       "      <td>2.2</td>\n",
       "      <td>9.4</td>\n",
       "      <td>17.2</td>\n",
       "      <td>28.9</td>\n",
       "    </tr>\n",
       "  </tbody>\n",
       "</table>\n",
       "</div>"
      ],
      "text/plain": [
       "       count       mean        std   min  25%   50%   75%    max\n",
       "PRCP  7842.0   3.630490   9.986375   0.0  0.0   0.0   1.5  192.3\n",
       "SNOW  7504.0   2.247601  20.237856   0.0  0.0   0.0   0.0  693.0\n",
       "SNWD  7392.0   9.318452  47.103289   0.0  0.0   0.0   0.0  584.0\n",
       "TAVG  2018.0  12.655352   9.627704 -17.8  5.6  12.8  21.1   31.7\n",
       "TMAX  7498.0  17.106362  10.061486 -10.5  8.9  17.8  26.1   40.0\n",
       "TMIN  7498.0   9.213897   9.198206 -18.2  2.2   9.4  17.2   28.9"
      ]
     },
     "execution_count": 13,
     "metadata": {},
     "output_type": "execute_result"
    }
   ],
   "source": [
    "# Call describe on df and transpose it due to the large number of columns\n",
    "spread = nyc_df.describe().T\n",
    "spread"
   ]
  },
  {
   "cell_type": "code",
   "execution_count": 14,
   "metadata": {},
   "outputs": [
    {
     "data": {
      "text/plain": [
       "PRCP     1.5\n",
       "SNOW     0.0\n",
       "SNWD     0.0\n",
       "TAVG    15.5\n",
       "TMAX    17.2\n",
       "TMIN    15.0\n",
       "dtype: float64"
      ]
     },
     "execution_count": 14,
     "metadata": {},
     "output_type": "execute_result"
    }
   ],
   "source": [
    "# precalculate interquartile range for ease of use in next calculation\n",
    "IQR = spread['75%'] - spread['25%']\n",
    "IQR "
   ]
  },
  {
   "cell_type": "code",
   "execution_count": null,
   "metadata": {},
   "outputs": [],
   "source": [
    "# Assign X (data) and y (target)\n",
    "\n",
    "X = nyc_df['DATE']\n",
    "y = nyc_df[\"TMAX\"].values.reshape(-1, 1)\n",
    "print(X.shape, y.shape)"
   ]
  },
  {
   "cell_type": "code",
   "execution_count": null,
   "metadata": {},
   "outputs": [],
   "source": [
    "# Split the data into training and testing\n",
    "from sklearn.model_selection import train_test_split\n",
    "\n",
    "X_train, X_test, y_train, y_test = train_test_split(X, y, random_state=42)"
   ]
  },
  {
   "cell_type": "code",
   "execution_count": null,
   "metadata": {},
   "outputs": [],
   "source": [
    "# Create a StandardScater model and fit it to the training data\n",
    "from sklearn.preprocessing import StandardScaler\n",
    "\n",
    "# X_scaler = StandardScaler().fit(X_train)\n",
    "y_scaler = StandardScaler().fit(y_train)"
   ]
  },
  {
   "cell_type": "code",
   "execution_count": null,
   "metadata": {},
   "outputs": [],
   "source": []
  }
 ],
 "metadata": {
  "kernelspec": {
   "display_name": "Python 3",
   "language": "python",
   "name": "python3"
  },
  "language_info": {
   "codemirror_mode": {
    "name": "ipython",
    "version": 3
   },
   "file_extension": ".py",
   "mimetype": "text/x-python",
   "name": "python",
   "nbconvert_exporter": "python",
   "pygments_lexer": "ipython3",
   "version": "3.7.4"
  }
 },
 "nbformat": 4,
 "nbformat_minor": 2
}
