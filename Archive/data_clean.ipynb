{
 "cells": [
  {
   "cell_type": "code",
   "execution_count": 15,
   "metadata": {},
   "outputs": [],
   "source": [
    "import pandas as pd\n",
    "import matplotlib.pyplot as plt"
   ]
  },
  {
   "cell_type": "code",
   "execution_count": 16,
   "metadata": {},
   "outputs": [],
   "source": [
    "from pandas import datetime\n",
    "from pandas import read_csv"
   ]
  },
  {
   "cell_type": "code",
   "execution_count": 17,
   "metadata": {},
   "outputs": [],
   "source": [
    "NYC = read_csv('NYC_2000s.csv',header=0)"
   ]
  },
  {
   "cell_type": "code",
   "execution_count": 18,
   "metadata": {},
   "outputs": [
    {
     "data": {
      "text/plain": [
       "Index(['STATION', 'NAME', 'LATITUDE', 'LONGITUDE', 'ELEVATION', 'DATE', 'DAPR',\n",
       "       'MDPR', 'PRCP', 'SNOW', 'SNWD', 'TAVG', 'TMAX', 'TMIN', 'WT01', 'WT02',\n",
       "       'WT03', 'WT04', 'WT05', 'WT06', 'WT07', 'WT08', 'WT09', 'WT11', 'WT13',\n",
       "       'WT14', 'WT15', 'WT16', 'WT17', 'WT18', 'WT19', 'WT22'],\n",
       "      dtype='object')"
      ]
     },
     "execution_count": 18,
     "metadata": {},
     "output_type": "execute_result"
    }
   ],
   "source": [
    "NYC.head()\n",
    "NYC.columns"
   ]
  },
  {
   "cell_type": "code",
   "execution_count": 19,
   "metadata": {},
   "outputs": [],
   "source": [
    "nyc_df=NYC.drop(['DAPR','MDPR','WT01', 'WT02','WT03', 'WT04', 'WT05', 'WT06', 'WT07', 'WT08', 'WT09', 'WT11', 'WT13','WT14', 'WT15', 'WT16', 'WT17', 'WT18', 'WT19', 'WT22'], axis=1)"
   ]
  },
  {
   "cell_type": "code",
   "execution_count": 35,
   "metadata": {},
   "outputs": [
    {
     "data": {
      "text/plain": [
       "<bound method DataFrame.dropna of           STATION                         NAME  LATITUDE  LONGITUDE  \\\n",
       "0     USW00094728  NY CITY CENTRAL PARK, NY US  40.77898  -73.96925   \n",
       "1     USW00094728  NY CITY CENTRAL PARK, NY US  40.77898  -73.96925   \n",
       "2     USW00094728  NY CITY CENTRAL PARK, NY US  40.77898  -73.96925   \n",
       "3     USW00094728  NY CITY CENTRAL PARK, NY US  40.77898  -73.96925   \n",
       "4     USW00094728  NY CITY CENTRAL PARK, NY US  40.77898  -73.96925   \n",
       "...           ...                          ...       ...        ...   \n",
       "7876  US1NYNY0074        NEW YORK 8.8 N, NY US  40.79693  -73.93296   \n",
       "7877  US1NYNY0074        NEW YORK 8.8 N, NY US  40.79693  -73.93296   \n",
       "7878  US1NYNY0074        NEW YORK 8.8 N, NY US  40.79693  -73.93296   \n",
       "7879  US1NYNY0074        NEW YORK 8.8 N, NY US  40.79693  -73.93296   \n",
       "7880  US1NYNY0074        NEW YORK 8.8 N, NY US  40.79693  -73.93296   \n",
       "\n",
       "      ELEVATION        DATE  PRCP  SNOW  SNWD  TAVG  TMAX  TMIN  \n",
       "0          42.7  2000-01-01   0.0   0.0   0.0   5.6  10.0   1.1  \n",
       "1          42.7  2000-01-02   0.0   0.0   0.0  11.1  15.6   6.1  \n",
       "2          42.7  2000-01-03   0.0   0.0   0.0  14.4  17.8  10.6  \n",
       "3          42.7  2000-01-04  17.8   0.0   0.0  11.7  15.6   7.8  \n",
       "4          42.7  2000-01-05   0.0   0.0   0.0   3.3   8.3  -1.7  \n",
       "...         ...         ...   ...   ...   ...   ...   ...   ...  \n",
       "7876        6.1  2020-07-07   4.1   NaN   NaN   NaN   NaN   NaN  \n",
       "7877        6.1  2020-07-08   0.0   NaN   NaN   NaN   NaN   NaN  \n",
       "7878        6.1  2020-07-09   2.8   NaN   NaN   NaN   NaN   NaN  \n",
       "7879        6.1  2020-07-10   0.0   NaN   NaN   NaN   NaN   NaN  \n",
       "7880        6.1  2020-07-11  79.0   NaN   NaN   NaN   NaN   NaN  \n",
       "\n",
       "[7881 rows x 12 columns]>"
      ]
     },
     "execution_count": 35,
     "metadata": {},
     "output_type": "execute_result"
    }
   ],
   "source": [
    "nyc_df.dropna"
   ]
  },
  {
   "cell_type": "code",
   "execution_count": 21,
   "metadata": {},
   "outputs": [],
   "source": [
    "x_axis = nyc_df.DATE"
   ]
  },
  {
   "cell_type": "code",
   "execution_count": 22,
   "metadata": {},
   "outputs": [],
   "source": [
    "y_axis = nyc_df.TMAX"
   ]
  },
  {
   "cell_type": "code",
   "execution_count": 25,
   "metadata": {},
   "outputs": [
    {
     "name": "stdout",
     "output_type": "stream",
     "text": [
      "<class 'pandas.core.frame.DataFrame'>\n",
      "RangeIndex: 7881 entries, 0 to 7880\n",
      "Data columns (total 12 columns):\n",
      "STATION      7881 non-null object\n",
      "NAME         7881 non-null object\n",
      "LATITUDE     7881 non-null float64\n",
      "LONGITUDE    7881 non-null float64\n",
      "ELEVATION    7881 non-null float64\n",
      "DATE         7881 non-null object\n",
      "PRCP         7842 non-null float64\n",
      "SNOW         7504 non-null float64\n",
      "SNWD         7392 non-null float64\n",
      "TAVG         2018 non-null float64\n",
      "TMAX         7498 non-null float64\n",
      "TMIN         7498 non-null float64\n",
      "dtypes: float64(9), object(3)\n",
      "memory usage: 739.0+ KB\n"
     ]
    }
   ],
   "source": [
    "nyc_df.info()"
   ]
  },
  {
   "cell_type": "code",
   "execution_count": 9,
   "metadata": {},
   "outputs": [
    {
     "data": {
      "image/png": "[encoded data removed]",
      "text/plain": [
       "<Figure size 432x288 with 1 Axes>"
      ]
     },
     "metadata": {
      "needs_background": "light"
     },
     "output_type": "display_data"
    }
   ],
   "source": [
    "dateplot= plt.plot(x_axis,y_axis)"
   ]
  },
  {
   "cell_type": "code",
   "execution_count": null,
   "metadata": {},
   "outputs": [],
   "source": []
  }
 ],
 "metadata": {
  "kernelspec": {
   "display_name": "Python 3",
   "language": "python",
   "name": "python3"
  },
  "language_info": {
   "codemirror_mode": {
    "name": "ipython",
    "version": 3
   },
   "file_extension": ".py",
   "mimetype": "text/x-python",
   "name": "python",
   "nbconvert_exporter": "python",
   "pygments_lexer": "ipython3",
   "version": "3.7.4"
  }
 },
 "nbformat": 4,
 "nbformat_minor": 2
}
